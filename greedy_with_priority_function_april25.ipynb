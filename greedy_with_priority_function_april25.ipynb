{
 "cells": [
  {
   "cell_type": "markdown",
   "id": "c843c657",
   "metadata": {},
   "source": [
    "This is the same thing as in the first worksheet, except that I manually put in a different priority function.  This is a priority function that some playing around with FunSearch suggested was pretty good.  We have only done a few trials, but the sets produced in this way seem to be noticeably larger than the sets produced by a fully random greedy algorithm.  Interesting!"
   ]
  },
  {
   "cell_type": "code",
   "execution_count": 7,
   "id": "40907a6e",
   "metadata": {
    "vscode": {
     "languageId": "python"
    }
   },
   "outputs": [],
   "source": [
    "# \"\"\"Finds subsets of an nxn grid that contains 3 points in a line\n",
    "\n",
    "# On every iteration, improve priority_v1 over the priority_vX methods from previous iterations.\n",
    "# Make only small changes.\n",
    "# Try to make the code short.\n",
    "#\"\"\"\n",
    "import itertools\n",
    "import numpy as np\n",
    "#import funsearch\n",
    "import itertools\n",
    "\n",
    "\n",
    "def are_collinear(p1, p2, p3):\n",
    "  \"\"\"Returns True if the three points are collinear.\"\"\"\n",
    "  x1, y1 = p1\n",
    "  x2, y2 = p2\n",
    "  x3, y3 = p3\n",
    "  return (y1 - y2) * (x1 - x3) == (y1 - y3) * (x1 - x2)\n",
    "\n",
    "\n",
    "#@funsearch.run\n",
    "def evaluate(n: int) -> int:\n",
    "  \"\"\"Returns the size of a point set on the nxn grid that does not contain 3 points in a line.\"\"\"\n",
    "  grid_set = solve(n)\n",
    "  return len(grid_set)\n",
    "\n",
    "#original version from open source, built by adding lines to empty grid\n",
    "def solve(n: int) -> np.ndarray:\n",
    "  \"\"\"Returns a large non-3-points-in-line subset on the nxn grid.\"\"\"\n",
    "  all_points = np.array(list(itertools.product(np.arange(n), repeat=2)), dtype=np.int32)\n",
    "  #all_integers = np.arange(n)\n",
    "\n",
    "  # Randomly shuffle the points (and their priorities)\n",
    "  shuffle_indices = np.random.permutation(len(all_points))\n",
    "  all_points = all_points[shuffle_indices]\n",
    "\n",
    "  # Precompute all priorities.\n",
    "  priorities = np.array([priority(tuple(point), n) for point in all_points])\n",
    "\n",
    "\n",
    "  # Build `grid_set` greedily, using priorities for prioritization.\n",
    "  grid_set = np.empty(shape=(0,2), dtype=np.int32)\n",
    "  while np.any(priorities != -np.inf):\n",
    "    # Add a vector with maximum priority to `grid_set`, and set priorities of\n",
    "    # invalidated vectors to `-inf`, so that they never get selected.\n",
    "    max_index = np.argmax(priorities)\n",
    "    new_points = all_points[None, max_index]  # [1, n]\n",
    "    new_point = new_points[0]\n",
    "    priorities[max_index] = -np.inf\n",
    "\n",
    "    # Block those points in all_points which lie on a line spanned by a point in grid_set and new_point\n",
    "\n",
    "    for index in range(len(all_points)):\n",
    "      if grid_set.size == 0:\n",
    "          continue\n",
    "      elif any(are_collinear(new_point, all_points[index], cap) for cap in grid_set):\n",
    "        priorities[index] = -np.inf\n",
    "\n",
    "    grid_set = np.concatenate([grid_set, new_point.reshape(1, -1)], axis=0)\n",
    "    \n",
    "\n",
    "  return grid_set\n",
    "\n",
    "#@funsearch.evolve\n",
    "def priority(el: tuple[int, int], n: int) -> float:\n",
    "    x, y = el\n",
    "    return max(x, y) / (n - 1)\n",
    "\n",
    "# #alternative version: start with full grid and takeaway\n",
    "# def solve(n: int) -> np.ndarray:\n",
    "#     all_points = np.array(list(itertools.product(np.arange(n), repeat=2)), dtype=np.int32)\n",
    "#     priorities = np.array([priority(tuple(point), n) for point in all_points])\n",
    "    \n",
    "#     # Sort points by priority (ascending - remove lowest priority first)\n",
    "#     indices = np.argsort(priorities)\n",
    "    \n",
    "#     grid_set = all_points.copy()\n",
    "#     for idx in indices:\n",
    "#         point = all_points[idx]\n",
    "#         # Try removing this point\n",
    "#         temp_set = np.delete(grid_set, np.where((grid_set == point).all(axis=1))[0], axis=0)\n",
    "#         # Check if removing creates a no-three-in-line set\n",
    "#         if not any(are_collinear(p1, p2, p3) for p1, p2, p3 in itertools.combinations(temp_set, 3)):\n",
    "#             grid_set = temp_set\n",
    "#             break\n",
    "    \n",
    "#     return grid_set\n",
    "\n",
    "# def priority(el: tuple[int, int], n: int) -> float:\n",
    "#     x, y = el\n",
    "#     # Base priority \n",
    "#     base = 1.0 if (x % 3 == 0 or y % 3 == 0) else 0.5\n",
    "#     # Add distance from center as a factor\n",
    "#     center_dist = ((x - n/2)**2 + (y - n/2)**2)**0.5 / n\n",
    "#     return base * (0.5 + center_dist)\n",
    "\n",
    "\n",
    "# @funsearch.evolve\n",
    "# def priority(el: tuple[int, int], n: int) -> float:\n",
    "#   \"\"\"Returns the priority with which we want to add `element` to the cap set.\"\"\"\n",
    "#   return 0.0\n",
    "     \n",
    "# \"\"\"Finds subsets of an nxn grid that contains 3 points in a line\n",
    "\n",
    "# On every iteration, improve priority_v1 over the priority_vX methods from previous iterations.\n",
    "# Make only small changes.\n",
    "# Try to make the code short.\n",
    "# \"\"\"\n",
    "# import itertools\n",
    "# import numpy as np\n",
    "# import funsearch\n",
    "\n",
    "# def are_collinear(p1, p2, p3):\n",
    "#   \"\"\"Returns True if the three points are collinear.\"\"\"\n",
    "#   x1, y1 = p1\n",
    "#   x2, y2 = p2\n",
    "#   x3, y3 = p3\n",
    "#   return (y1 - y2) * (x1 - x3) == (y1 - y3) * (x1 - x2)\n",
    "\n",
    "\n",
    "# @funsearch.run\n",
    "# def evaluate(n: int) -> int:\n",
    "#   \"\"\"Returns the size of a point set on the nxn grid that does not contain 3 points in a line.\"\"\"\n",
    "#   grid_set = solve(n)\n",
    "#   return len(grid_set)\n",
    "\n",
    "\n",
    "# def solve(n: int) -> np.ndarray:\n",
    "#   \"\"\"Returns a large non-3-points-in-line subset on the nxn grid.\"\"\"\n",
    "#   all_points = np.array(list(itertools.product(np.arange(n), repeat=2)), dtype=np.int32)\n",
    "  \n",
    "#   # FIRST PASS\n",
    "#   # Precompute all priorities.\n",
    "#   priorities = np.array([priority(tuple(point), n) for point in all_points])\n",
    "\n",
    "#   # Build `grid_set` greedily, using priorities for prioritization.\n",
    "#   grid_set = np.empty(shape=(0,2), dtype=np.int32)\n",
    "#   while np.any(priorities != -np.inf):\n",
    "#     # Add a vector with maximum priority to `grid_set`, and set priorities of\n",
    "#     # invalidated vectors to `-inf`, so that they never get selected.\n",
    "#     max_index = np.argmax(priorities)\n",
    "#     new_point = all_points[max_index]\n",
    "#     priorities[max_index] = -np.inf\n",
    "\n",
    "#     # Block those points in all_points which lie on a line spanned by a point in grid_set and new_point\n",
    "#     for index in range(len(all_points)):\n",
    "#       if all_points[index][0] == new_point[0] and all_points[index][1] == new_point[1]:\n",
    "#         continue  # Skip the new point itself\n",
    "#       if grid_set.size == 0:\n",
    "#         continue\n",
    "#       elif any(are_collinear(new_point, all_points[index], cap) for cap in grid_set):\n",
    "#         priorities[index] = -np.inf\n",
    "\n",
    "#     grid_set = np.concatenate([grid_set, new_point.reshape(1, -1)], axis=0)\n",
    "    \n",
    "#   return grid_set\n",
    "\n",
    "# @funsearch.evolve\n",
    "# def priority(el: tuple[int, int], n: int) -> float:\n",
    "#   \"\"\"Returns the priority with which we want to add `element` to the cap set.\n",
    "#   This priority function should consider both the properties of the point itself\n",
    "#   and how it relates to an optimal solution strategy.\n",
    "  \n",
    "#   A good priority function might:\n",
    "#   1. Consider the position of the point in relation to the grid boundaries\n",
    "#   2. Evaluate patterns like the modulo-3 property of coordinates\n",
    "#   3. Balance the distribution of points across the grid\n",
    "#   4. Avoid favoring points that tend to create collinearity\n",
    "#   \"\"\"\n",
    "#   return 0.0"
   ]
  },
  {
   "cell_type": "code",
   "execution_count": 8,
   "id": "5c882425",
   "metadata": {
    "vscode": {
     "languageId": "python"
    }
   },
   "outputs": [
    {
     "data": {
      "text/plain": [
       "76"
      ]
     },
     "execution_count": 8,
     "metadata": {},
     "output_type": "execute_result"
    }
   ],
   "source": [
    "len(solve(47))"
   ]
  },
  {
   "cell_type": "code",
   "execution_count": 9,
   "id": "2d04569e",
   "metadata": {
    "vscode": {
     "languageId": "python"
    }
   },
   "outputs": [
    {
     "data": {
      "text/plain": [
       "158"
      ]
     },
     "execution_count": 9,
     "metadata": {},
     "output_type": "execute_result"
    }
   ],
   "source": [
    "len(solve(100))"
   ]
  },
  {
   "cell_type": "code",
   "execution_count": 10,
   "id": "db2d530d",
   "metadata": {
    "vscode": {
     "languageId": "python"
    }
   },
   "outputs": [
    {
     "data": {
      "text/plain": [
       "234"
      ]
     },
     "execution_count": 10,
     "metadata": {},
     "output_type": "execute_result"
    }
   ],
   "source": [
    "len(solve(150))"
   ]
  },
  {
   "cell_type": "code",
   "execution_count": null,
   "id": "a60b697d",
   "metadata": {
    "vscode": {
     "languageId": "python"
    }
   },
   "outputs": [],
   "source": []
  }
 ],
 "metadata": {
  "kernelspec": {
   "display_name": "SageMath 10.6",
   "language": "sage",
   "name": "sagemath"
  },
  "language_info": {
   "codemirror_mode": {
    "name": "ipython",
    "version": 3
   },
   "file_extension": ".py",
   "mimetype": "text/x-python",
   "name": "sage",
   "nbconvert_exporter": "python",
   "pygments_lexer": "ipython3",
   "version": "3.11.1"
  }
 },
 "nbformat": 4,
 "nbformat_minor": 5
}
