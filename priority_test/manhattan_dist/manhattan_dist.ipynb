{
 "cells": [
  {
   "cell_type": "markdown",
   "id": "61c342ce",
   "metadata": {},
   "source": [
    "## Persistent"
   ]
  },
  {
   "cell_type": "code",
   "execution_count": 17,
   "id": "d0ed5a9e",
   "metadata": {
    "vscode": {
     "languageId": "sage"
    }
   },
   "outputs": [],
   "source": [
    "import itertools\n",
    "import numpy as np\n",
    "import random\n",
    "import matplotlib.pyplot as plt\n",
    "import matplotlib.image as mpimg\n",
    "import sys\n",
    "import time\n",
    "import re\n",
    "from collections import defaultdict\n",
    "import pprint\n",
    "import math\n",
    "from typing import Tuple, List, Set, Callable, NamedTuple, Union, Optional, Iterable, Dict\n",
    "from multiprocessing import Pool\n",
    "\n",
    "import psutil\n"
   ]
  },
  {
   "cell_type": "code",
   "execution_count": 18,
   "id": "50d6df1f",
   "metadata": {
    "vscode": {
     "languageId": "sage"
    }
   },
   "outputs": [],
   "source": [
    "import psutil\n",
    "from typing import List\n",
    "\n",
    "def count_idle_cpus(threshold: float = 10.0) -> int:\n",
    "    \"\"\"\n",
    "    Count CPU cores with usage below the threshold.\n",
    "\n",
    "    Args:\n",
    "        threshold (float): Utilization percentage below which a core is considered idle.\n",
    "\n",
    "    Returns:\n",
    "        int: Number of idle CPU cores.\n",
    "    \"\"\"\n",
    "    usage: List[float] = psutil.cpu_percent(percpu=True)\n",
    "    return sum(1 for u in usage if u < threshold)\n"
   ]
  },
  {
   "cell_type": "code",
   "execution_count": 19,
   "id": "a2ebed64",
   "metadata": {
    "vscode": {
     "languageId": "sage"
    }
   },
   "outputs": [],
   "source": [
    "CPU_CORES = 24"
   ]
  },
  {
   "cell_type": "code",
   "execution_count": 20,
   "id": "82c1639b",
   "metadata": {
    "vscode": {
     "languageId": "sage"
    }
   },
   "outputs": [],
   "source": [
    "\n",
    "class Point(NamedTuple):\n",
    "    \"\"\"An integer point in 2D space.\"\"\"\n",
    "    x: int\n",
    "    y: int"
   ]
  },
  {
   "cell_type": "code",
   "execution_count": 21,
   "id": "ea43a3f6",
   "metadata": {
    "vscode": {
     "languageId": "sage"
    }
   },
   "outputs": [],
   "source": [
    "class Line:\n",
    "    \"\"\"\n",
    "    Represents a line defined by a rational slope and a point on the line.\n",
    "\n",
    "    Attributes:\n",
    "        slope (Union[QQ, str]): Rational slope of the line, or 'inf' for vertical lines.\n",
    "        point (Point): An arbitrary point on the line.\n",
    "    \"\"\"\n",
    "\n",
    "    def __init__(self, slope: Union[QQ, str], point: Point):\n",
    "        \"\"\"\n",
    "        Initialize a line with a given slope and a point on the line.\n",
    "\n",
    "        Args:\n",
    "            slope (Union[QQ, str]): Rational slope of the line, or 'inf' for vertical lines.\n",
    "            point (Point): A point on the line.\n",
    "        \"\"\"\n",
    "        self.slope = slope\n",
    "        self.point = point\n",
    "\n",
    "    @classmethod\n",
    "    def from_points(cls, p1: Point, p2: Point) -> 'Line':\n",
    "        \"\"\"\n",
    "        Construct a line from two points.\n",
    "\n",
    "        The slope is computed from the two points. The stored point is p1 without any minimization.\n",
    "\n",
    "        Args:\n",
    "            p1 (Point): First point.\n",
    "            p2 (Point): Second point.\n",
    "\n",
    "        Returns:\n",
    "            Line: Line through p1 and p2 with p1 stored as the point.\n",
    "        \"\"\"\n",
    "        dx = p2.x - p1.x\n",
    "        dy = p2.y - p1.y\n",
    "        if dx == 0:\n",
    "            slope = 'inf'\n",
    "        else:\n",
    "            slope = QQ(dy) / QQ(dx)\n",
    "        return cls(slope, p1)\n",
    "\n",
    "    @classmethod\n",
    "    def from_point_slope_of_line(cls, p: Point, slope: Union[QQ, str]) -> 'Line':\n",
    "        \"\"\"\n",
    "        Construct a line from a point and a slope.\n",
    "\n",
    "        Args:\n",
    "            p (Point): A point on the line.\n",
    "            slope (Union[QQ, str]): Rational slope of the line, or 'inf' for vertical lines.\n",
    "\n",
    "        Returns:\n",
    "            Line: Line defined by the point and slope.\n",
    "        \"\"\"\n",
    "        return cls(slope, p)\n"
   ]
  },
  {
   "cell_type": "code",
   "execution_count": 22,
   "id": "a1e5bd21",
   "metadata": {
    "vscode": {
     "languageId": "sage"
    }
   },
   "outputs": [],
   "source": [
    "\n",
    "def slope_of_line(p1: Point, p2: Point) -> Union[QQ, str]:\n",
    "    \"\"\"\n",
    "    Calculate the slope of the line segment connecting two points.\n",
    "\n",
    "    Args:\n",
    "        p1 (Point): The first point as a named tuple with integer coordinates (x, y).\n",
    "        p2 (Point): The second point as a named tuple with integer coordinates (x, y).\n",
    "\n",
    "    Returns:\n",
    "        Union[QQ, str]: The slope as a rational number (QQ) if defined, otherwise the string 'inf' if the line is vertical.\n",
    "    \"\"\"\n",
    "    x1, y1 = p1\n",
    "    x2, y2 = p2\n",
    "    dx = x2 - x1\n",
    "    dy = y2 - y1\n",
    "    if dx == 0:\n",
    "        return 'inf'\n",
    "    return QQ(dy) / QQ(dx)"
   ]
  },
  {
   "cell_type": "code",
   "execution_count": 23,
   "id": "4a1c3ac6",
   "metadata": {
    "vscode": {
     "languageId": "sage"
    }
   },
   "outputs": [],
   "source": [
    "def are_collinear(p1: Point, p2: Point, p3: Point) -> bool:\n",
    "    \"\"\"\n",
    "    Determine if three points are manhattan_distt.\n",
    "\n",
    "    Args:\n",
    "        p1 (Point): The first point as a named tuple with integer coordinates (x, y).\n",
    "        p2 (Point): The second point as a named tuple with integer coordinates (x, y).\n",
    "        p3 (Point): The third point as a named tuple with integer coordinates (x, y).\n",
    "\n",
    "    Returns:\n",
    "        bool: True if the three points are manhattan_dist, False otherwise.\n",
    "    \"\"\"\n",
    "    x1, y1 = p1\n",
    "    x2, y2 = p2\n",
    "    x3, y3 = p3\n",
    "    return (y1 - y2) * (x1 - x3) == (y1 - y3) * (x1 - x2)"
   ]
  },
  {
   "cell_type": "code",
   "execution_count": 24,
   "id": "72e1b63d",
   "metadata": {
    "vscode": {
     "languageId": "sage"
    }
   },
   "outputs": [],
   "source": [
    "def plot_no_three_in_line(points: Iterable[Point], n: Optional[int] = None, title: str = \"No-3-in-line Set\") -> None:\n",
    "    \"\"\"\n",
    "    Plot a set of points on an n x n grid, illustrating a no-3-in-line configuration.\n",
    "\n",
    "    Args:\n",
    "        points (Iterable[Point]): Iterable of points to plot.\n",
    "        n (Optional[int]): Size of the grid. If None, computed from the points.\n",
    "        title (str): Title of the plot.\n",
    "\n",
    "    Returns:\n",
    "        None\n",
    "    \"\"\"\n",
    "    points = list(points)\n",
    "    if not points:\n",
    "        print(\"No points to plot.\")\n",
    "        return\n",
    "\n",
    "    xs, ys = zip(*points)\n",
    "    if n is None:\n",
    "        n = max(max(xs), max(ys)) + 1\n",
    "\n",
    "    plt.figure(figsize=(6, 6))\n",
    "    plt.scatter(xs, ys, s=100, c='blue', edgecolors='black')\n",
    "    plt.xticks(range(n))\n",
    "    plt.yticks(range(n))\n",
    "    plt.grid(True, linestyle='--', alpha=0.5)\n",
    "    plt.gca().set_aspect('equal', adjustable='box')\n",
    "    plt.title(title)\n",
    "    plt.xlabel('x')\n",
    "    plt.ylabel('y')\n",
    "    plt.xlim(-1, n)\n",
    "    plt.ylim(-1, n)\n",
    "    plt.show()"
   ]
  },
  {
   "cell_type": "code",
   "execution_count": 25,
   "id": "7b5086a8",
   "metadata": {
    "vscode": {
     "languageId": "sage"
    }
   },
   "outputs": [],
   "source": [
    "def find_missing_data(data: Dict[str, Iterable[Tuple[Union[int, str], Union[int, str]]]]) -> Dict[str, Iterable[Tuple[int, Union[int, str]]]]:\n",
    "    \"\"\"\n",
    "    Identify entries with missing data labeled as 'NO DATA' in intervals.\n",
    "\n",
    "    Args:\n",
    "        data (Dict[str, Iterable[Tuple[Union[int, str], Union[int, str]]]]): Dictionary mapping keys to iterables of (start, end) intervals.\n",
    "\n",
    "    Returns:\n",
    "        Dict[str, Iterable[Tuple[int, Union[int, str]]]]: Dictionary mapping keys to iterables of tuples containing the index of the interval and the start value where 'NO DATA' occurs.\n",
    "    \"\"\"\n",
    "    missing = {}\n",
    "    for key, intervals in data.items():\n",
    "        missing_entries = []\n",
    "        for i, (start, end) in enumerate(intervals):\n",
    "            if end == 'NO DATA':\n",
    "                missing_entries.append((i, start))\n",
    "        if missing_entries:\n",
    "            missing[key] = missing_entries\n",
    "    return missing"
   ]
  },
  {
   "cell_type": "code",
   "execution_count": 26,
   "id": "61e4fde9",
   "metadata": {
    "vscode": {
     "languageId": "sage"
    }
   },
   "outputs": [],
   "source": [
    "def points_on_line_pp(p1: Point, p2: Point, grid_size: int) -> Set[Point]:\n",
    "    \"\"\"\n",
    "    Generate points with integer coordinates on the line segment between two points,\n",
    "    assuming the segment lies on a line with rational slope and intercept.\n",
    "\n",
    "    Args:\n",
    "        p1 (Point): The first point as a named tuple with integer coordinates (x, y).\n",
    "        p2 (Point): The second point as a named tuple with integer coordinates (x, y).\n",
    "\n",
    "    Returns:\n",
    "        Set[Point]: Set of points on the line segment from p1 to p2.\n",
    "    \"\"\"\n",
    "    s = slope_of_line(p1, p2)\n",
    "    if s == 'inf':\n",
    "        x = p1.x\n",
    "        return {Point(x, y) for y in range(grid_size) if 0 <= x < grid_size}\n",
    "    a = s\n",
    "    b = QQ(p1.y) - a * QQ(p1.x)\n",
    "    return {Point(x, int(y)) for x in range(grid_size)\n",
    "            if (y := a * QQ(x) + b).denominator() == 1 and 0 <= y < grid_size}\n",
    "\n"
   ]
  },
  {
   "cell_type": "code",
   "execution_count": 27,
   "id": "5c73f149",
   "metadata": {
    "vscode": {
     "languageId": "sage"
    }
   },
   "outputs": [],
   "source": [
    "def greedy(n: int, priority: Callable[[Point], float]) -> List[Point]:\n",
    "    \"\"\"\n",
    "    Select points greedily from an n x n grid based on a priority function,\n",
    "    ensuring no three selected points are manhattan_distt.\n",
    "\n",
    "    Args:\n",
    "        n (int): The dimension of the grid (points range from 0 to n-1 in both x and y).\n",
    "        priority (Callable[[Point], float]): A function assigning a priority score to each point.\n",
    "\n",
    "    Returns:\n",
    "        List[Point]: Sorted list of selected points.\n",
    "    \"\"\"\n",
    "    grid: List[Point] = [Point(x, y) for x in range(n) for y in range(n)]\n",
    "    shuffle(grid)\n",
    "\n",
    "    priorities = {p: priority(p) for p in grid}\n",
    "    candidates: Set[Point] = set(grid)\n",
    "    selected: Set[Point] = set()\n",
    "\n",
    "    while candidates:\n",
    "        p = max(candidates, key=lambda pt: priorities[pt])\n",
    "\n",
    "        candidates -= {\n",
    "            q\n",
    "            for s in selected \n",
    "            for q in points_on_line_pp(p, s, n)\n",
    "        }\n",
    "        selected.add(p)\n",
    "    return sorted(selected)"
   ]
  },
  {
   "cell_type": "markdown",
   "id": "0fa040ef",
   "metadata": {},
   "source": [
    "## Priorities"
   ]
  },
  {
   "cell_type": "code",
   "execution_count": 28,
   "id": "7bf7490a",
   "metadata": {
    "vscode": {
     "languageId": "sage"
    }
   },
   "outputs": [],
   "source": [
    "lb = 20\n",
    "ub = 200\n",
    "step = 1\n",
    "\n",
    "no_primes = 50"
   ]
  },
  {
   "cell_type": "code",
   "execution_count": 29,
   "id": "84cfc6ca",
   "metadata": {
    "vscode": {
     "languageId": "sage"
    }
   },
   "outputs": [],
   "source": [
    "# NOISE = random.uniform(-0.1, 0.1) \n",
    "NOISE =  0"
   ]
  },
  {
   "cell_type": "code",
   "execution_count": 30,
   "id": "ddaedb20",
   "metadata": {
    "vscode": {
     "languageId": "sage"
    }
   },
   "outputs": [],
   "source": [
    "def manhattan_dist_priority(n, sharpness=1, radius_scale=1.0):\n",
    "    n = float(n)\n",
    "    sharpness = float(sharpness)\n",
    "    radius_scale = float(radius_scale)\n",
    "\n",
    "    def priority(point):\n",
    "        x, y = point\n",
    "        nx = x / n\n",
    "        ny = y / n\n",
    "        norm = nx + ny\n",
    "        score = -abs(norm - radius_scale)**sharpness\n",
    "\n",
    "\n",
    "        return score + NOISE\n",
    "    return priority\n"
   ]
  },
  {
   "cell_type": "code",
   "execution_count": 31,
   "id": "cd0d4551",
   "metadata": {
    "vscode": {
     "languageId": "sage"
    }
   },
   "outputs": [],
   "source": [
    "priority_functions = {\n",
    "    'manhattan_dist': manhattan_dist_priority,\n",
    "}\n",
    "@parallel(ncpus=CPU_CORES)\n",
    "def run_greedy_for_strategy(n, strategy_name):\n",
    "    priority_func = priority_functions[strategy_name](n)\n",
    "    result = greedy(n, priority_func)\n",
    "    print(f\"Done greedy for n={n} with strategy {strategy_name}, len(result)={len(result)}\")\n",
    "    return (n, len(result), result)\n"
   ]
  },
  {
   "cell_type": "code",
   "execution_count": 32,
   "id": "73bdb702",
   "metadata": {
    "vscode": {
     "languageId": "sage"
    }
   },
   "outputs": [
    {
     "name": "stdout",
     "output_type": "stream",
     "text": [
      "Done greedy for n=20 with strategy manhattan_dist, len(result)=28\n",
      "Done greedy for n=21 with strategy manhattan_dist, len(result)=28\n",
      "Done greedy for n=22 with strategy manhattan_dist, len(result)=32\n",
      "Done greedy for n=23 with strategy manhattan_dist, len(result)=36\n",
      "Done greedy for n=24 with strategy manhattan_dist, len(result)=37\n",
      "Done greedy for n=25 with strategy manhattan_dist, len(result)=38\n",
      "Done greedy for n=26 with strategy manhattan_dist, len(result)=38\n",
      "Done greedy for n=27 with strategy manhattan_dist, len(result)=42\n",
      "Done greedy for n=28 with strategy manhattan_dist, len(result)=42\n",
      "Done greedy for n=29 with strategy manhattan_dist, len(result)=45\n",
      "Done greedy for n=30 with strategy manhattan_dist, len(result)=44\n",
      "Done greedy for n=31 with strategy manhattan_dist, len(result)=45\n",
      "Done greedy for n=32 with strategy manhattan_dist, len(result)=43\n",
      "Done greedy for n=33 with strategy manhattan_dist, len(result)=48\n",
      "Done greedy for n=34 with strategy manhattan_dist, len(result)=51\n",
      "Done greedy for n=35 with strategy manhattan_dist, len(result)=51\n",
      "Done greedy for n=36 with strategy manhattan_dist, len(result)=53\n",
      "Done greedy for n=37 with strategy manhattan_dist, len(result)=53\n",
      "Done greedy for n=38 with strategy manhattan_dist, len(result)=57\n",
      "Done greedy for n=39 with strategy manhattan_dist, len(result)=58\n",
      "Done greedy for n=40 with strategy manhattan_dist, len(result)=59\n",
      "Done greedy for n=41 with strategy manhattan_dist, len(result)=60\n",
      "Done greedy for n=42 with strategy manhattan_dist, len(result)=62\n",
      "Done greedy for n=43 with strategy manhattan_dist, len(result)=63\n",
      "Done greedy for n=44 with strategy manhattan_dist, len(result)=60\n",
      "Done greedy for n=45 with strategy manhattan_dist, len(result)=67\n",
      "Done greedy for n=46 with strategy manhattan_dist, len(result)=65\n",
      "Done greedy for n=47 with strategy manhattan_dist, len(result)=72\n",
      "Done greedy for n=48 with strategy manhattan_dist, len(result)=70\n",
      "Done greedy for n=50 with strategy manhattan_dist, len(result)=74\n",
      "Done greedy for n=53 with strategy manhattan_dist, len(result)=79\n",
      "Done greedy for n=51 with strategy manhattan_dist, len(result)=72\n",
      "Done greedy for n=55 with strategy manhattan_dist, len(result)=84\n",
      "Done greedy for n=49 with strategy manhattan_dist, len(result)=76\n",
      "Done greedy for n=52 with strategy manhattan_dist, len(result)=76\n",
      "Done greedy for n=59 with strategy manhattan_dist, len(result)=86\n",
      "Done greedy for n=56 with strategy manhattan_dist, len(result)=84\n",
      "Done greedy for n=57 with strategy manhattan_dist, len(result)=84\n",
      "Done greedy for n=54 with strategy manhattan_dist, len(result)=83\n",
      "Done greedy for n=60 with strategy manhattan_dist, len(result)=88\n",
      "Done greedy for n=63 with strategy manhattan_dist, len(result)=95\n",
      "Done greedy for n=61 with strategy manhattan_dist, len(result)=90\n",
      "Done greedy for n=62 with strategy manhattan_dist, len(result)=94\n",
      "Done greedy for n=58 with strategy manhattan_dist, len(result)=85\n",
      "Done greedy for n=66 with strategy manhattan_dist, len(result)=99\n",
      "Done greedy for n=69 with strategy manhattan_dist, len(result)=101\n",
      "Done greedy for n=64 with strategy manhattan_dist, len(result)=95\n",
      "Done greedy for n=65 with strategy manhattan_dist, len(result)=90\n",
      "Done greedy for n=71 with strategy manhattan_dist, len(result)=105\n",
      "Done greedy for n=70 with strategy manhattan_dist, len(result)=103\n",
      "Done greedy for n=67 with strategy manhattan_dist, len(result)=102\n",
      "Done greedy for n=68 with strategy manhattan_dist, len(result)=102\n",
      "Done greedy for n=74 with strategy manhattan_dist, len(result)=109\n",
      "Done greedy for n=75 with strategy manhattan_dist, len(result)=108\n",
      "Done greedy for n=73 with strategy manhattan_dist, len(result)=108\n",
      "Done greedy for n=76 with strategy manhattan_dist, len(result)=112\n",
      "Done greedy for n=72 with strategy manhattan_dist, len(result)=106\n",
      "Done greedy for n=79 with strategy manhattan_dist, len(result)=120\n",
      "Done greedy for n=78 with strategy manhattan_dist, len(result)=116\n",
      "Done greedy for n=77 with strategy manhattan_dist, len(result)=114\n",
      "Done greedy for n=83 with strategy manhattan_dist, len(result)=125\n",
      "Done greedy for n=80 with strategy manhattan_dist, len(result)=116\n",
      "Done greedy for n=81 with strategy manhattan_dist, len(result)=119\n",
      "Done greedy for n=84 with strategy manhattan_dist, len(result)=126\n",
      "Done greedy for n=82 with strategy manhattan_dist, len(result)=126\n",
      "Done greedy for n=85 with strategy manhattan_dist, len(result)=125\n",
      "Done greedy for n=89 with strategy manhattan_dist, len(result)=132\n",
      "Done greedy for n=88 with strategy manhattan_dist, len(result)=134\n",
      "Done greedy for n=86 with strategy manhattan_dist, len(result)=131\n",
      "Done greedy for n=90 with strategy manhattan_dist, len(result)=134\n",
      "Done greedy for n=87 with strategy manhattan_dist, len(result)=127\n",
      "Done greedy for n=93 with strategy manhattan_dist, len(result)=137\n",
      "Done greedy for n=95 with strategy manhattan_dist, len(result)=141\n",
      "Done greedy for n=92 with strategy manhattan_dist, len(result)=139\n",
      "Done greedy for n=91 with strategy manhattan_dist, len(result)=137\n",
      "Done greedy for n=96 with strategy manhattan_dist, len(result)=141\n",
      "Done greedy for n=98 with strategy manhattan_dist, len(result)=147\n",
      "Done greedy for n=94 with strategy manhattan_dist, len(result)=138\n",
      "Done greedy for n=99 with strategy manhattan_dist, len(result)=151\n",
      "Done greedy for n=97 with strategy manhattan_dist, len(result)=149\n",
      "Done greedy for n=103 with strategy manhattan_dist, len(result)=149\n",
      "Done greedy for n=100 with strategy manhattan_dist, len(result)=146\n",
      "Done greedy for n=102 with strategy manhattan_dist, len(result)=152\n",
      "Done greedy for n=104 with strategy manhattan_dist, len(result)=153\n",
      "Done greedy for n=107 with strategy manhattan_dist, len(result)=160\n",
      "Done greedy for n=110 with strategy manhattan_dist, len(result)=161\n",
      "Done greedy for n=111 with strategy manhattan_dist, len(result)=166\n",
      "Done greedy for n=106 with strategy manhattan_dist, len(result)=160\n",
      "Done greedy for n=109 with strategy manhattan_dist, len(result)=165\n",
      "Done greedy for n=105 with strategy manhattan_dist, len(result)=160\n",
      "Done greedy for n=112 with strategy manhattan_dist, len(result)=168\n",
      "Done greedy for n=101 with strategy manhattan_dist, len(result)=150\n",
      "Done greedy for n=116 with strategy manhattan_dist, len(result)=172\n",
      "Done greedy for n=114 with strategy manhattan_dist, len(result)=172\n",
      "Done greedy for n=119 with strategy manhattan_dist, len(result)=173\n",
      "Done greedy for n=120 with strategy manhattan_dist, len(result)=178\n",
      "Done greedy for n=115 with strategy manhattan_dist, len(result)=176\n",
      "Done greedy for n=117 with strategy manhattan_dist, len(result)=180\n",
      "Done greedy for n=118 with strategy manhattan_dist, len(result)=174\n",
      "Done greedy for n=121 with strategy manhattan_dist, len(result)=179\n",
      "Done greedy for n=108 with strategy manhattan_dist, len(result)=165\n",
      "Done greedy for n=123 with strategy manhattan_dist, len(result)=181\n",
      "Done greedy for n=124 with strategy manhattan_dist, len(result)=188\n",
      "Done greedy for n=126 with strategy manhattan_dist, len(result)=185\n",
      "Done greedy for n=113 with strategy manhattan_dist, len(result)=167\n",
      "Done greedy for n=122 with strategy manhattan_dist, len(result)=186\n",
      "Done greedy for n=127 with strategy manhattan_dist, len(result)=188\n",
      "Done greedy for n=125 with strategy manhattan_dist, len(result)=185\n",
      "Done greedy for n=128 with strategy manhattan_dist, len(result)=190\n",
      "Done greedy for n=129 with strategy manhattan_dist, len(result)=197\n",
      "Done greedy for n=130 with strategy manhattan_dist, len(result)=194\n",
      "Done greedy for n=131 with strategy manhattan_dist, len(result)=198\n",
      "Done greedy for n=136 with strategy manhattan_dist, len(result)=208\n",
      "Done greedy for n=132 with strategy manhattan_dist, len(result)=199\n",
      "Done greedy for n=134 with strategy manhattan_dist, len(result)=205\n",
      "Done greedy for n=133 with strategy manhattan_dist, len(result)=201\n",
      "Done greedy for n=139 with strategy manhattan_dist, len(result)=207\n",
      "Done greedy for n=138 with strategy manhattan_dist, len(result)=203\n",
      "Done greedy for n=137 with strategy manhattan_dist, len(result)=202\n",
      "Done greedy for n=142 with strategy manhattan_dist, len(result)=213\n",
      "Done greedy for n=135 with strategy manhattan_dist, len(result)=201\n",
      "Done greedy for n=145 with strategy manhattan_dist, len(result)=222\n",
      "Done greedy for n=143 with strategy manhattan_dist, len(result)=216\n",
      "Done greedy for n=147 with strategy manhattan_dist, len(result)=223\n",
      "Done greedy for n=140 with strategy manhattan_dist, len(result)=214\n",
      "Done greedy for n=146 with strategy manhattan_dist, len(result)=221\n",
      "Done greedy for n=141 with strategy manhattan_dist, len(result)=212\n",
      "Done greedy for n=152 with strategy manhattan_dist, len(result)=229\n",
      "Done greedy for n=153 with strategy manhattan_dist, len(result)=227\n",
      "Done greedy for n=149 with strategy manhattan_dist, len(result)=221\n",
      "Done greedy for n=150 with strategy manhattan_dist, len(result)=224\n",
      "Done greedy for n=151 with strategy manhattan_dist, len(result)=219\n",
      "Done greedy for n=154 with strategy manhattan_dist, len(result)=232\n",
      "Done greedy for n=144 with strategy manhattan_dist, len(result)=223\n",
      "Done greedy for n=148 with strategy manhattan_dist, len(result)=221\n",
      "Done greedy for n=156 with strategy manhattan_dist, len(result)=232\n",
      "Done greedy for n=155 with strategy manhattan_dist, len(result)=232\n",
      "Done greedy for n=158 with strategy manhattan_dist, len(result)=234\n",
      "Done greedy for n=157 with strategy manhattan_dist, len(result)=236\n",
      "Done greedy for n=160 with strategy manhattan_dist, len(result)=239\n",
      "Done greedy for n=159 with strategy manhattan_dist, len(result)=233\n",
      "Done greedy for n=161 with strategy manhattan_dist, len(result)=247\n",
      "Done greedy for n=162 with strategy manhattan_dist, len(result)=242\n",
      "Done greedy for n=163 with strategy manhattan_dist, len(result)=244\n",
      "Done greedy for n=165 with strategy manhattan_dist, len(result)=248\n",
      "Done greedy for n=166 with strategy manhattan_dist, len(result)=247\n",
      "Done greedy for n=167 with strategy manhattan_dist, len(result)=251\n",
      "Done greedy for n=169 with strategy manhattan_dist, len(result)=248\n",
      "Done greedy for n=171 with strategy manhattan_dist, len(result)=255\n",
      "Done greedy for n=168 with strategy manhattan_dist, len(result)=249\n",
      "Done greedy for n=172 with strategy manhattan_dist, len(result)=258\n",
      "Done greedy for n=170 with strategy manhattan_dist, len(result)=260\n",
      "Done greedy for n=164 with strategy manhattan_dist, len(result)=244\n",
      "Done greedy for n=176 with strategy manhattan_dist, len(result)=263\n",
      "Done greedy for n=173 with strategy manhattan_dist, len(result)=261\n",
      "Done greedy for n=179 with strategy manhattan_dist, len(result)=272\n",
      "Done greedy for n=174 with strategy manhattan_dist, len(result)=263\n",
      "Done greedy for n=175 with strategy manhattan_dist, len(result)=263\n",
      "Done greedy for n=183 with strategy manhattan_dist, len(result)=269\n",
      "Done greedy for n=181 with strategy manhattan_dist, len(result)=268\n",
      "Done greedy for n=182 with strategy manhattan_dist, len(result)=272\n",
      "Done greedy for n=184 with strategy manhattan_dist, len(result)=276\n",
      "Done greedy for n=180 with strategy manhattan_dist, len(result)=273\n",
      "Done greedy for n=185 with strategy manhattan_dist, len(result)=276\n",
      "Done greedy for n=187 with strategy manhattan_dist, len(result)=275\n",
      "Done greedy for n=178 with strategy manhattan_dist, len(result)=267\n",
      "Done greedy for n=186 with strategy manhattan_dist, len(result)=283\n",
      "Done greedy for n=177 with strategy manhattan_dist, len(result)=265\n",
      "Done greedy for n=189 with strategy manhattan_dist, len(result)=281\n",
      "Done greedy for n=188 with strategy manhattan_dist, len(result)=287\n",
      "Done greedy for n=190 with strategy manhattan_dist, len(result)=282\n",
      "Done greedy for n=191 with strategy manhattan_dist, len(result)=288\n",
      "Done greedy for n=192 with strategy manhattan_dist, len(result)=289\n",
      "Done greedy for n=194 with strategy manhattan_dist, len(result)=291\n",
      "Done greedy for n=193 with strategy manhattan_dist, len(result)=290\n",
      "Done greedy for n=195 with strategy manhattan_dist, len(result)=294\n",
      "Done greedy for n=198 with strategy manhattan_dist, len(result)=297\n",
      "Done greedy for n=199 with strategy manhattan_dist, len(result)=302\n",
      "Done greedy for n=197 with strategy manhattan_dist, len(result)=296\n",
      "Done greedy for n=196 with strategy manhattan_dist, len(result)=298\n",
      "Done greedy for n=200 with strategy manhattan_dist, len(result)=299\n"
     ]
    }
   ],
   "source": [
    "inputs = [(n, 'manhattan_dist') for n in range(lb, ub+1, step)]\n",
    "\n",
    "results_manhattan_dist = run_greedy_for_strategy(inputs)\n",
    "\n",
    "\n",
    "results_manhattan_dist = [res for (_, res) in results_manhattan_dist]\n",
    "\n",
    "results_manhattan_dist_raw = [res[2] for res in results_manhattan_dist]\n",
    "\n",
    "results_manhattan_dist = [res[:2] for res in results_manhattan_dist]\n",
    "\n"
   ]
  },
  {
   "cell_type": "code",
   "execution_count": 33,
   "id": "7d978e37",
   "metadata": {
    "vscode": {
     "languageId": "sage"
    }
   },
   "outputs": [],
   "source": [
    "results = {\n",
    "    'manhattan_dist_count': results_manhattan_dist,\n",
    "}"
   ]
  },
  {
   "cell_type": "code",
   "execution_count": 34,
   "id": "624ce9fc",
   "metadata": {
    "vscode": {
     "languageId": "sage"
    }
   },
   "outputs": [
    {
     "name": "stdout",
     "output_type": "stream",
     "text": [
      "{'manhattan_dist_count': [(20, 28), (21, 28), (22, 32), (23, 36), (24, 37), (25, 38), (26, 38), (27, 42), (28, 42), (29, 45), (30, 44), (31, 45), (32, 43), (33, 48), (34, 51), (35, 51), (36, 53), (37, 53), (38, 57), (39, 58), (40, 59), (41, 60), (42, 62), (43, 63), (44, 60), (45, 67), (46, 65), (47, 72), (48, 70), (50, 74), (53, 79), (51, 72), (55, 84), (49, 76), (52, 76), (59, 86), (56, 84), (57, 84), (54, 83), (60, 88), (63, 95), (61, 90), (62, 94), (58, 85), (66, 99), (69, 101), (64, 95), (65, 90), (71, 105), (70, 103), (67, 102), (68, 102), (74, 109), (75, 108), (73, 108), (76, 112), (72, 106), (79, 120), (78, 116), (77, 114), (83, 125), (80, 116), (81, 119), (84, 126), (82, 126), (85, 125), (89, 132), (88, 134), (86, 131), (90, 134), (87, 127), (93, 137), (95, 141), (92, 139), (91, 137), (96, 141), (98, 147), (94, 138), (99, 151), (97, 149), (103, 149), (100, 146), (102, 152), (104, 153), (107, 160), (110, 161), (111, 166), (106, 160), (109, 165), (105, 160), (112, 168), (101, 150), (116, 172), (114, 172), (119, 173), (120, 178), (115, 176), (117, 180), (118, 174), (121, 179), (108, 165), (123, 181), (124, 188), (126, 185), (113, 167), (122, 186), (127, 188), (125, 185), (128, 190), (129, 197), (130, 194), (131, 198), (136, 208), (132, 199), (134, 205), (133, 201), (139, 207), (138, 203), (137, 202), (142, 213), (135, 201), (145, 222), (143, 216), (147, 223), (140, 214), (146, 221), (141, 212), (152, 229), (153, 227), (149, 221), (150, 224), (151, 219), (154, 232), (144, 223), (148, 221), (156, 232), (155, 232), (158, 234), (157, 236), (160, 239), (159, 233), (161, 247), (162, 242), (163, 244), (165, 248), (166, 247), (167, 251), (169, 248), (171, 255), (168, 249), (172, 258), (170, 260), (164, 244), (176, 263), (173, 261), (179, 272), (174, 263), (175, 263), (183, 269), (181, 268), (182, 272), (184, 276), (180, 273), (185, 276), (187, 275), (178, 267), (186, 283), (177, 265), (189, 281), (188, 287), (190, 282), (191, 288), (192, 289), (194, 291), (193, 290), (195, 294), (198, 297), (199, 302), (197, 296), (196, 298), (200, 299)]}\n"
     ]
    }
   ],
   "source": [
    "print(results)"
   ]
  },
  {
   "cell_type": "markdown",
   "id": "266cc142",
   "metadata": {},
   "source": [
    "## Analysis"
   ]
  },
  {
   "cell_type": "code",
   "execution_count": 35,
   "id": "912f5019",
   "metadata": {
    "vscode": {
     "languageId": "sage"
    }
   },
   "outputs": [],
   "source": [
    "# results = "
   ]
  },
  {
   "cell_type": "code",
   "execution_count": 36,
   "id": "7f8bdc40",
   "metadata": {
    "vscode": {
     "languageId": "sage"
    }
   },
   "outputs": [],
   "source": [
    "import matplotlib.pyplot as plt"
   ]
  },
  {
   "cell_type": "code",
   "execution_count": 37,
   "id": "43c9021d",
   "metadata": {
    "vscode": {
     "languageId": "sage"
    }
   },
   "outputs": [
    {
     "data": {
      "image/png": "[encoded data removed]",
      "text/plain": [
       "<Figure size 800x500 with 1 Axes>"
      ]
     },
     "metadata": {},
     "output_type": "display_data"
    }
   ],
   "source": [
    "for strategy in results:\n",
    "    results[strategy].sort(key=lambda x: x[0])\n",
    "\n",
    "plt.figure(figsize=(8, 5))\n",
    "for strategy, result_list in results.items():\n",
    "    if result_list:\n",
    "        ns, sizes = zip(*result_list)\n",
    "        plt.plot(ns, sizes, marker='o', label=strategy, linestyle='-')\n",
    "\n",
    "plt.title(\"Size of No-3-in-Line Set vs Grid Size (n)\")\n",
    "plt.xlabel(\"Grid size n\")\n",
    "plt.ylabel(\"Set size\")\n",
    "plt.grid(True)\n",
    "plt.legend()\n",
    "plt.show()"
   ]
  },
  {
   "cell_type": "code",
   "execution_count": 38,
   "id": "2d65c9f1",
   "metadata": {
    "vscode": {
     "languageId": "sage"
    }
   },
   "outputs": [
    {
     "name": "stdout",
     "output_type": "stream",
     "text": [
      "manhattan_dist_count: slope ≈ 1.5082\n",
      "{'manhattan_dist_count': [(20, 28), (21, 28), (22, 32), (23, 36), (24, 37), (25, 38), (26, 38), (27, 42), (28, 42), (29, 45), (30, 44), (31, 45), (32, 43), (33, 48), (34, 51), (35, 51), (36, 53), (37, 53), (38, 57), (39, 58), (40, 59), (41, 60), (42, 62), (43, 63), (44, 60), (45, 67), (46, 65), (47, 72), (48, 70), (49, 76), (50, 74), (51, 72), (52, 76), (53, 79), (54, 83), (55, 84), (56, 84), (57, 84), (58, 85), (59, 86), (60, 88), (61, 90), (62, 94), (63, 95), (64, 95), (65, 90), (66, 99), (67, 102), (68, 102), (69, 101), (70, 103), (71, 105), (72, 106), (73, 108), (74, 109), (75, 108), (76, 112), (77, 114), (78, 116), (79, 120), (80, 116), (81, 119), (82, 126), (83, 125), (84, 126), (85, 125), (86, 131), (87, 127), (88, 134), (89, 132), (90, 134), (91, 137), (92, 139), (93, 137), (94, 138), (95, 141), (96, 141), (97, 149), (98, 147), (99, 151), (100, 146), (101, 150), (102, 152), (103, 149), (104, 153), (105, 160), (106, 160), (107, 160), (108, 165), (109, 165), (110, 161), (111, 166), (112, 168), (113, 167), (114, 172), (115, 176), (116, 172), (117, 180), (118, 174), (119, 173), (120, 178), (121, 179), (122, 186), (123, 181), (124, 188), (125, 185), (126, 185), (127, 188), (128, 190), (129, 197), (130, 194), (131, 198), (132, 199), (133, 201), (134, 205), (135, 201), (136, 208), (137, 202), (138, 203), (139, 207), (140, 214), (141, 212), (142, 213), (143, 216), (144, 223), (145, 222), (146, 221), (147, 223), (148, 221), (149, 221), (150, 224), (151, 219), (152, 229), (153, 227), (154, 232), (155, 232), (156, 232), (157, 236), (158, 234), (159, 233), (160, 239), (161, 247), (162, 242), (163, 244), (164, 244), (165, 248), (166, 247), (167, 251), (168, 249), (169, 248), (170, 260), (171, 255), (172, 258), (173, 261), (174, 263), (175, 263), (176, 263), (177, 265), (178, 267), (179, 272), (180, 273), (181, 268), (182, 272), (183, 269), (184, 276), (185, 276), (186, 283), (187, 275), (188, 287), (189, 281), (190, 282), (191, 288), (192, 289), (193, 290), (194, 291), (195, 294), (196, 298), (197, 296), (198, 297), (199, 302), (200, 299)]}\n"
     ]
    }
   ],
   "source": [
    "for method, points in results.items():\n",
    "    x_vals = [p[0] for p in points]\n",
    "    y_vals = [p[1] for p in points]\n",
    "    data = list(zip(x_vals, y_vals))\n",
    "    \n",
    "    var('a b t')\n",
    "    model(t) = a * t + b\n",
    "    fit = find_fit(data, model, solution_dict=True)\n",
    "    slope = fit[a]\n",
    "    print(f\"{method}: slope ≈ {slope:.4f}\")\n",
    "\n",
    "print(results)"
   ]
  },
  {
   "cell_type": "code",
   "execution_count": 40,
   "id": "06f8b82c",
   "metadata": {
    "vscode": {
     "languageId": "sage"
    }
   },
   "outputs": [],
   "source": [
    "data = results['manhattan_dist_count']"
   ]
  },
  {
   "cell_type": "code",
   "execution_count": 41,
   "id": "307072d5",
   "metadata": {
    "vscode": {
     "languageId": "sage"
    }
   },
   "outputs": [
    {
     "data": {
      "image/png": "[encoded data removed]",
      "text/plain": [
       "<Figure size 1000x600 with 1 Axes>"
      ]
     },
     "metadata": {},
     "output_type": "display_data"
    }
   ],
   "source": [
    "slopes = [length / n * 1.0 for n, length in data]\n",
    "\n",
    "# Plot frequency distribution\n",
    "plt.figure(figsize=(10, 6))\n",
    "plt.hist(slopes, bins=15, edgecolor='black')\n",
    "plt.title('Frequency Distribution of Slopes (len / n)')\n",
    "plt.xlabel('Slope')\n",
    "plt.ylabel('Frequency')\n",
    "plt.grid(True)\n",
    "plt.tight_layout()\n",
    "plt.show()"
   ]
  },
  {
   "cell_type": "code",
   "execution_count": 42,
   "id": "7ab4ccd8",
   "metadata": {
    "vscode": {
     "languageId": "sage"
    }
   },
   "outputs": [
    {
     "data": {
      "image/png": "[encoded data removed]",
      "text/plain": [
       "<Figure size 1000x200 with 1 Axes>"
      ]
     },
     "metadata": {},
     "output_type": "display_data"
    }
   ],
   "source": [
    "# Generate horizontal box plot of the slopes\n",
    "plt.figure(figsize=(10, 2))\n",
    "plt.boxplot(slopes, vert=False, patch_artist=True, boxprops=dict(facecolor='lightblue'))\n",
    "plt.title('Horizontal Box Plot of Slopes (len / n)')\n",
    "plt.xlabel('Slope')\n",
    "plt.grid(True)\n",
    "plt.tight_layout()\n",
    "plt.show()\n"
   ]
  },
  {
   "cell_type": "code",
   "execution_count": 43,
   "id": "b025a34f",
   "metadata": {
    "vscode": {
     "languageId": "sage"
    }
   },
   "outputs": [
    {
     "data": {
      "text/plain": [
       "1.49005032054325"
      ]
     },
     "execution_count": 43,
     "metadata": {},
     "output_type": "execute_result"
    }
   ],
   "source": [
    "mean_slope = sum(slopes) / len(slopes)\n",
    "mean_slope"
   ]
  },
  {
   "cell_type": "code",
   "execution_count": null,
   "id": "f844c0fd",
   "metadata": {
    "vscode": {
     "languageId": "sage"
    }
   },
   "outputs": [],
   "source": []
  }
 ],
 "metadata": {
  "kernelspec": {
   "display_name": "SageMath 10.6",
   "language": "sage",
   "name": "sagemath"
  },
  "language_info": {
   "codemirror_mode": {
    "name": "ipython",
    "version": 3
   },
   "file_extension": ".py",
   "mimetype": "text/x-python",
   "name": "python",
   "nbconvert_exporter": "python",
   "pygments_lexer": "ipython3",
   "version": "3.11.12"
  }
 },
 "nbformat": 4,
 "nbformat_minor": 5
}
