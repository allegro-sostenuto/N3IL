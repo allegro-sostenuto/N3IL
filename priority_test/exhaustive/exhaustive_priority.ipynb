{
 "cells": [
  {
   "cell_type": "markdown",
   "id": "61c342ce",
   "metadata": {},
   "source": [
    "## Persistent"
   ]
  },
  {
   "cell_type": "code",
   "execution_count": 25,
   "id": "d0ed5a9e",
   "metadata": {
    "vscode": {
     "languageId": "sage"
    }
   },
   "outputs": [],
   "source": [
    "import itertools\n",
    "import numpy as np\n",
    "import random\n",
    "import matplotlib.pyplot as plt\n",
    "import matplotlib.image as mpimg\n",
    "import sys\n",
    "import time\n",
    "import re\n",
    "from collections import defaultdict\n",
    "import pprint\n",
    "import math\n",
    "from typing import Tuple, List, Set, Callable, NamedTuple, Union, Optional, Iterable, Dict\n",
    "from multiprocessing import Pool\n",
    "\n",
    "import psutil\n"
   ]
  },
  {
   "cell_type": "code",
   "execution_count": 26,
   "id": "50d6df1f",
   "metadata": {
    "vscode": {
     "languageId": "sage"
    }
   },
   "outputs": [],
   "source": [
    "import psutil\n",
    "from typing import List\n",
    "\n",
    "def count_idle_cpus(threshold: float = 10.0) -> int:\n",
    "    \"\"\"\n",
    "    Count CPU cores with usage below the threshold.\n",
    "\n",
    "    Args:\n",
    "        threshold (float): Utilization percentage below which a core is considered idle.\n",
    "\n",
    "    Returns:\n",
    "        int: Number of idle CPU cores.\n",
    "    \"\"\"\n",
    "    usage: List[float] = psutil.cpu_percent(percpu=True)\n",
    "    return sum(1 for u in usage if u < threshold)\n"
   ]
  },
  {
   "cell_type": "code",
   "execution_count": 27,
   "id": "a2ebed64",
   "metadata": {
    "vscode": {
     "languageId": "sage"
    }
   },
   "outputs": [],
   "source": [
    "CPU_CORES = 16"
   ]
  },
  {
   "cell_type": "code",
   "execution_count": 28,
   "id": "82c1639b",
   "metadata": {
    "vscode": {
     "languageId": "sage"
    }
   },
   "outputs": [],
   "source": [
    "\n",
    "class Point(NamedTuple):\n",
    "    \"\"\"An integer point in 2D space.\"\"\"\n",
    "    x: int\n",
    "    y: int"
   ]
  },
  {
   "cell_type": "code",
   "execution_count": 29,
   "id": "ea43a3f6",
   "metadata": {
    "vscode": {
     "languageId": "sage"
    }
   },
   "outputs": [],
   "source": [
    "class Line:\n",
    "    \"\"\"\n",
    "    Represents a line defined by a rational slope and a point on the line.\n",
    "\n",
    "    Attributes:\n",
    "        slope (Union[QQ, str]): Rational slope of the line, or 'inf' for vertical lines.\n",
    "        point (Point): An arbitrary point on the line.\n",
    "    \"\"\"\n",
    "\n",
    "    def __init__(self, slope: Union[QQ, str], point: Point):\n",
    "        \"\"\"\n",
    "        Initialize a line with a given slope and a point on the line.\n",
    "\n",
    "        Args:\n",
    "            slope (Union[QQ, str]): Rational slope of the line, or 'inf' for vertical lines.\n",
    "            point (Point): A point on the line.\n",
    "        \"\"\"\n",
    "        self.slope = slope\n",
    "        self.point = point\n",
    "\n",
    "    @classmethod\n",
    "    def from_points(cls, p1: Point, p2: Point) -> 'Line':\n",
    "        \"\"\"\n",
    "        Construct a line from two points.\n",
    "\n",
    "        The slope is computed from the two points. The stored point is p1 without any minimization.\n",
    "\n",
    "        Args:\n",
    "            p1 (Point): First point.\n",
    "            p2 (Point): Second point.\n",
    "\n",
    "        Returns:\n",
    "            Line: Line through p1 and p2 with p1 stored as the point.\n",
    "        \"\"\"\n",
    "        dx = p2.x - p1.x\n",
    "        dy = p2.y - p1.y\n",
    "        if dx == 0:\n",
    "            slope = 'inf'\n",
    "        else:\n",
    "            slope = QQ(dy) / QQ(dx)\n",
    "        return cls(slope, p1)\n",
    "\n",
    "    @classmethod\n",
    "    def from_point_slope_of_line(cls, p: Point, slope: Union[QQ, str]) -> 'Line':\n",
    "        \"\"\"\n",
    "        Construct a line from a point and a slope.\n",
    "\n",
    "        Args:\n",
    "            p (Point): A point on the line.\n",
    "            slope (Union[QQ, str]): Rational slope of the line, or 'inf' for vertical lines.\n",
    "\n",
    "        Returns:\n",
    "            Line: Line defined by the point and slope.\n",
    "        \"\"\"\n",
    "        return cls(slope, p)\n"
   ]
  },
  {
   "cell_type": "code",
   "execution_count": 30,
   "id": "a1e5bd21",
   "metadata": {
    "vscode": {
     "languageId": "sage"
    }
   },
   "outputs": [],
   "source": [
    "\n",
    "def slope_of_line(p1: Point, p2: Point) -> Union[QQ, str]:\n",
    "    \"\"\"\n",
    "    Calculate the slope of the line segment connecting two points.\n",
    "\n",
    "    Args:\n",
    "        p1 (Point): The first point as a named tuple with integer coordinates (x, y).\n",
    "        p2 (Point): The second point as a named tuple with integer coordinates (x, y).\n",
    "\n",
    "    Returns:\n",
    "        Union[QQ, str]: The slope as a rational number (QQ) if defined, otherwise the string 'inf' if the line is vertical.\n",
    "    \"\"\"\n",
    "    x1, y1 = p1\n",
    "    x2, y2 = p2\n",
    "    dx = x2 - x1\n",
    "    dy = y2 - y1\n",
    "    if dx == 0:\n",
    "        return 'inf'\n",
    "    return QQ(dy) / QQ(dx)"
   ]
  },
  {
   "cell_type": "code",
   "execution_count": 31,
   "id": "4a1c3ac6",
   "metadata": {
    "vscode": {
     "languageId": "sage"
    }
   },
   "outputs": [],
   "source": [
    "def are_collinear(p1: Point, p2: Point, p3: Point) -> bool:\n",
    "    \"\"\"\n",
    "    Determine if three points are collinear.\n",
    "\n",
    "    Args:\n",
    "        p1 (Point): The first point as a named tuple with integer coordinates (x, y).\n",
    "        p2 (Point): The second point as a named tuple with integer coordinates (x, y).\n",
    "        p3 (Point): The third point as a named tuple with integer coordinates (x, y).\n",
    "\n",
    "    Returns:\n",
    "        bool: True if the three points are collinear, False otherwise.\n",
    "    \"\"\"\n",
    "    x1, y1 = p1\n",
    "    x2, y2 = p2\n",
    "    x3, y3 = p3\n",
    "    return (y1 - y2) * (x1 - x3) == (y1 - y3) * (x1 - x2)"
   ]
  },
  {
   "cell_type": "code",
   "execution_count": 32,
   "id": "72e1b63d",
   "metadata": {
    "vscode": {
     "languageId": "sage"
    }
   },
   "outputs": [],
   "source": [
    "def plot_no_three_in_line(points: Iterable[Point], n: Optional[int] = None, title: str = \"No-3-in-line Set\") -> None:\n",
    "    \"\"\"\n",
    "    Plot a set of points on an n x n grid, illustrating a no-3-in-line configuration.\n",
    "\n",
    "    Args:\n",
    "        points (Iterable[Point]): Iterable of points to plot.\n",
    "        n (Optional[int]): Size of the grid. If None, computed from the points.\n",
    "        title (str): Title of the plot.\n",
    "\n",
    "    Returns:\n",
    "        None\n",
    "    \"\"\"\n",
    "    points = list(points)\n",
    "    if not points:\n",
    "        print(\"No points to plot.\")\n",
    "        return\n",
    "\n",
    "    xs, ys = zip(*points)\n",
    "    if n is None:\n",
    "        n = max(max(xs), max(ys)) + 1\n",
    "\n",
    "    plt.figure(figsize=(6, 6))\n",
    "    plt.scatter(xs, ys, s=100, c='blue', edgecolors='black')\n",
    "    plt.xticks(range(n))\n",
    "    plt.yticks(range(n))\n",
    "    plt.grid(True, linestyle='--', alpha=0.5)\n",
    "    plt.gca().set_aspect('equal', adjustable='box')\n",
    "    plt.title(title)\n",
    "    plt.xlabel('x')\n",
    "    plt.ylabel('y')\n",
    "    plt.xlim(-1, n)\n",
    "    plt.ylim(-1, n)\n",
    "    plt.show()"
   ]
  },
  {
   "cell_type": "code",
   "execution_count": 33,
   "id": "7b5086a8",
   "metadata": {
    "vscode": {
     "languageId": "sage"
    }
   },
   "outputs": [],
   "source": [
    "def find_missing_data(data: Dict[str, Iterable[Tuple[Union[int, str], Union[int, str]]]]) -> Dict[str, Iterable[Tuple[int, Union[int, str]]]]:\n",
    "    \"\"\"\n",
    "    Identify entries with missing data labeled as 'NO DATA' in intervals.\n",
    "\n",
    "    Args:\n",
    "        data (Dict[str, Iterable[Tuple[Union[int, str], Union[int, str]]]]): Dictionary mapping keys to iterables of (start, end) intervals.\n",
    "\n",
    "    Returns:\n",
    "        Dict[str, Iterable[Tuple[int, Union[int, str]]]]: Dictionary mapping keys to iterables of tuples containing the index of the interval and the start value where 'NO DATA' occurs.\n",
    "    \"\"\"\n",
    "    missing = {}\n",
    "    for key, intervals in data.items():\n",
    "        missing_entries = []\n",
    "        for i, (start, end) in enumerate(intervals):\n",
    "            if end == 'NO DATA':\n",
    "                missing_entries.append((i, start))\n",
    "        if missing_entries:\n",
    "            missing[key] = missing_entries\n",
    "    return missing"
   ]
  },
  {
   "cell_type": "code",
   "execution_count": 34,
   "id": "61e4fde9",
   "metadata": {
    "vscode": {
     "languageId": "sage"
    }
   },
   "outputs": [],
   "source": [
    "def points_on_line_pp(p1: Point, p2: Point, grid_size: int) -> Set[Point]:\n",
    "    \"\"\"\n",
    "    Generate points with integer coordinates on the line segment between two points,\n",
    "    assuming the segment lies on a line with rational slope and intercept.\n",
    "\n",
    "    Args:\n",
    "        p1 (Point): The first point as a named tuple with integer coordinates (x, y).\n",
    "        p2 (Point): The second point as a named tuple with integer coordinates (x, y).\n",
    "\n",
    "    Returns:\n",
    "        Set[Point]: Set of points on the line segment from p1 to p2.\n",
    "    \"\"\"\n",
    "    s = slope_of_line(p1, p2)\n",
    "    if s == 'inf':\n",
    "        x = p1.x\n",
    "        return {Point(x, y) for y in range(grid_size) if 0 <= x < grid_size}\n",
    "    a = s\n",
    "    b = QQ(p1.y) - a * QQ(p1.x)\n",
    "    return {Point(x, int(y)) for x in range(grid_size)\n",
    "            if (y := a * QQ(x) + b).denominator() == 1 and 0 <= y < grid_size}\n",
    "\n"
   ]
  },
  {
   "cell_type": "code",
   "execution_count": 35,
   "id": "eab1a05e",
   "metadata": {
    "vscode": {
     "languageId": "sage"
    }
   },
   "outputs": [],
   "source": [
    "def points_on_line_l(line: Line, grid_size: int) -> Set[Point]:\n",
    "    \"\"\"\n",
    "    Generate points with integer coordinates on the line defined by the given line object.\n",
    "\n",
    "    Args:\n",
    "        line (Line): The line object representing the line.\n",
    "        grid_size (int): The size of the grid.\n",
    "\n",
    "    Returns:\n",
    "        Set[Point]: Set of points on the line within the grid size.\n",
    "    \"\"\"\n",
    "    a = line.slope\n",
    "    p = line.point\n",
    "    if a == 'inf':\n",
    "        x = p.x\n",
    "        return {Point(x, y) for y in range(grid_size) if 0 <= x < grid_size}\n",
    "    b = QQ(p.y) - a * QQ(p.x)\n",
    "    return {Point(x, int(y)) for x in range(grid_size)\n",
    "            if (y := a * QQ(x) + b).denominator() == 1 and 0 <= y < grid_size}"
   ]
  },
  {
   "cell_type": "markdown",
   "id": "a42dc565",
   "metadata": {},
   "source": [
    "## New"
   ]
  },
  {
   "cell_type": "code",
   "execution_count": 36,
   "id": "1c536392",
   "metadata": {
    "vscode": {
     "languageId": "sage"
    }
   },
   "outputs": [],
   "source": [
    "def count_points_on_line(p: Point, slope: Union[QQ, str], grid_size: int) -> int:\n",
    "    \"\"\"\n",
    "    Count the number of integer points (excluding point p) on line defined by an intersection point and slope.\n",
    "\n",
    "    Args:\n",
    "        p (Point): The given point the line passes through.\n",
    "        slope (Union[QQ, str]): The slope of the line (non-negative), either as a rational number (QQ) or 'inf' for vertical lines.\n",
    "        grid_size (int): The size of the grid.\n",
    "\n",
    "    Returns:\n",
    "        int: The number of integer points on the line.\n",
    "    \"\"\"\n",
    "    if min(p.x, p.y) < 0 or max(p.x, p.y) >= grid_size:\n",
    "        return 0\n",
    "    if slope == 'inf' or slope == 0:\n",
    "        return grid_size - 1\n",
    "    \n",
    "\n",
    "    dy = abs(slope.numerator())\n",
    "    dx = abs(slope.denominator())\n",
    "    U = floor((grid_size - p.x - 1) / dx)\n",
    "    R = floor((grid_size - p.y - 1) / dy)\n",
    "\n",
    "    D = floor(p.x / dx)\n",
    "    L = floor(p.y / dy)\n",
    "    N_positive = min(U, R) + min(D, L) \n",
    "    N_negative = min(U, L) + min(D, R)\n",
    "\n",
    "\n",
    "    if (N_positive if slope > 0 else N_negative) < 0:\n",
    "        print(f\"point: {p}, slope: {slope}\")\n",
    "        print(f\"U: {U}, R: {R}, D: {D}, L: {L}, N_positive: {N_positive}, N_negative: {N_negative}\")\n",
    "    return N_positive if slope > 0 else N_negative"
   ]
  },
  {
   "cell_type": "code",
   "execution_count": 37,
   "id": "2f072acc",
   "metadata": {
    "vscode": {
     "languageId": "sage"
    }
   },
   "outputs": [],
   "source": [
    "def _slopes_for_dx_chunk(dx_chunk: List[int], grid_size: int) -> List[QQ]:\n",
    "    \"\"\"\n",
    "    Compute unique slopes for a chunk of dx values within the grid.\n",
    "\n",
    "    Args:\n",
    "        dx_chunk (List[int]): A sublist of dx integers to process.\n",
    "        grid_size (int): The size of the grid.\n",
    "\n",
    "    Returns:\n",
    "        List[QQ]: List of unique rational slopes generated from dy/dx pairs in the chunk.\n",
    "    \"\"\"\n",
    "    local_seen = set()\n",
    "    local_slopes = []\n",
    "    for dx in dx_chunk:\n",
    "        for dy in range(1, grid_size):\n",
    "            s = QQ(dy) / QQ(dx)\n",
    "            if s not in local_seen:\n",
    "                local_slopes.append(s)\n",
    "                local_seen.add(s)\n",
    "    return local_slopes\n",
    "\n",
    "def get_possible_slopes(grid_size: int, idle_cores: int = 0) -> Set[Union[QQ, str]]:\n",
    "    \"\"\"\n",
    "    Generate all possible slopes for lines on a grid of given size.\n",
    "\n",
    "    Args:\n",
    "        grid_size (int): The size of the grid.\n",
    "        idle_cores (int): Number of cores to use for parallelism. If <= 1, runs serially.\n",
    "\n",
    "    Returns:\n",
    "        Set[Union[QQ, str]]: Set of unique slopes (rational numbers and 'inf' for vertical lines).\n",
    "    \"\"\"\n",
    "    dx_values = list(range(1, grid_size))\n",
    "\n",
    "    if idle_cores > 1:\n",
    "        chunk_size = (len(dx_values) + idle_cores - 1) // idle_cores\n",
    "        chunks = [dx_values[i:i + chunk_size] for i in range(0, len(dx_values), chunk_size)]\n",
    "        with Pool(idle_cores) as pool:\n",
    "            results = pool.starmap(_slopes_for_dx_chunk, [(chunk, grid_size) for chunk in chunks])\n",
    "    else:\n",
    "        results = [_slopes_for_dx_chunk(dx_values, grid_size)]\n",
    "\n",
    "    slopes = {QQ(0)}\n",
    "    for sublist in results:\n",
    "        for s in sublist:\n",
    "            slopes.add(s)\n",
    "            slopes.add(-s)\n",
    "    slopes.add('inf')\n",
    "    return slopes"
   ]
  },
  {
   "cell_type": "code",
   "execution_count": 38,
   "id": "7b24913f",
   "metadata": {
    "vscode": {
     "languageId": "sage"
    }
   },
   "outputs": [],
   "source": [
    "# get_possible_slopes(5)"
   ]
  },
  {
   "cell_type": "markdown",
   "id": "18aa7668",
   "metadata": {},
   "source": [
    "## Persistent pt. 2"
   ]
  },
  {
   "cell_type": "code",
   "execution_count": 39,
   "id": "dc6645ba",
   "metadata": {
    "vscode": {
     "languageId": "sage"
    }
   },
   "outputs": [],
   "source": [
    "\n",
    "def point_collinear_count(p1: Point, grid_size: int) -> int:\n",
    "    \"\"\"\n",
    "    Count the number of collinear triples on that line including that point (not including horizontal and vertical line).\n",
    "\n",
    "    Args:\n",
    "        p1 (Point): The point to check.\n",
    "        grid_size (int): The size of the grid.\n",
    "\n",
    "    Returns:\n",
    "        int: Sum over slopes of binomial(count, 2) for points collinear with p1.\n",
    "    \"\"\"\n",
    "    idle = count_idle_cpus()\n",
    "    slopes = get_possible_slopes(grid_size, idle_cores=idle)\n",
    "    counts = sum([\n",
    "        binomial(count_points_on_line(p1, slope, grid_size), 2)\n",
    "        for slope in slopes if slope != 0 and slope != 'inf'\n",
    "    ])\n",
    "    return counts"
   ]
  },
  {
   "cell_type": "code",
   "execution_count": 40,
   "id": "bea07ca4",
   "metadata": {
    "vscode": {
     "languageId": "sage"
    }
   },
   "outputs": [],
   "source": [
    "def heatmap(grid_values: np.ndarray, title: str = \"\") -> None:\n",
    "    \"\"\"\n",
    "    Plot a heatmap from a 2D numpy array of values and save it to a file named heatmap{n}.png.\n",
    "    \n",
    "    Args:\n",
    "        grid_values (np.ndarray): 2D array of values to plot.\n",
    "        title (str): Title of the heatmap plot.\n",
    "    \"\"\"\n",
    "    import matplotlib.pyplot as plt\n",
    "\n",
    "    n = grid_values.shape[0]\n",
    "    plt.figure(figsize=(6,6))\n",
    "    plt.imshow(grid_values, origin='lower', cmap='viridis', interpolation='nearest')\n",
    "    plt.colorbar(label='Priority')\n",
    "    plt.title(title)\n",
    "    plt.xlabel('x')\n",
    "    plt.ylabel('y')\n",
    "    plt.xticks(range(n))\n",
    "    plt.yticks(range(n))\n",
    "    plt.savefig(f\"heatmap{n}.png\")\n",
    "    plt.close()\n"
   ]
  },
  {
   "cell_type": "code",
   "execution_count": null,
   "id": "5c73f149",
   "metadata": {
    "vscode": {
     "languageId": "sage"
    }
   },
   "outputs": [],
   "source": [
    "def greedy(n: int, priority: Callable[[Point], float]) -> List[Point]:\n",
    "    \"\"\"\n",
    "    Select points greedily from an n x n grid based on a priority function,\n",
    "    ensuring no three selected points are collinear.\n",
    "\n",
    "    Args:\n",
    "        n (int): The dimension of the grid (points range from 0 to n-1 in both x and y).\n",
    "        priority (Callable[[Point], float]): A function assigning a priority score to each point.\n",
    "\n",
    "    Returns:\n",
    "        List[Point]: Sorted list of selected points.\n",
    "    \"\"\"\n",
    "    grid: List[Point] = [Point(x, y) for x in range(n) for y in range(n)]\n",
    "    shuffle(grid)\n",
    "\n",
    "    priorities = {p: priority(p) for p in grid}\n",
    "    heatmap(np.array([[priorities[Point(x, y)] for x in range(n)] for y in range(n)]), title=\"Greedy Priority Heatmap\")\n",
    "    candidates: Set[Point] = set(grid)\n",
    "    selected: Set[Point] = set()\n",
    "\n",
    "    while candidates:\n",
    "        p = max(candidates, key=lambda pt: priorities[pt])\n",
    "\n",
    "        candidates -= {\n",
    "            q\n",
    "            for s in selected \n",
    "            for q in points_on_line_pp(p, s, n)\n",
    "        }\n",
    "        selected.add(p)\n",
    "    return sorted(selected)"
   ]
  },
  {
   "cell_type": "markdown",
   "id": "0fa040ef",
   "metadata": {},
   "source": [
    "## Priorities"
   ]
  },
  {
   "cell_type": "code",
   "execution_count": 42,
   "id": "83fe932e",
   "metadata": {
    "vscode": {
     "languageId": "sage"
    }
   },
   "outputs": [],
   "source": [
    "\n",
    "def heatmap_priority(n: int, priority: Callable[[Point], float], title: str = \"\") -> None:\n",
    "    \"\"\"\n",
    "    Plot a heatmap of priority values on an n x n grid based on a priority function.\n",
    "    \n",
    "    Args:\n",
    "        n (int): Grid size.\n",
    "        priority (Callable[[Point], float]): Priority function mapping Point(x, y) to float.\n",
    "        title (str): Title of the heatmap plot.\n",
    "    \"\"\"\n",
    "    grid_values = np.zeros((n, n))\n",
    "    for x in range(n):\n",
    "        for y in range(n):\n",
    "            grid_values[y, x] = priority(Point(x, y))  # y, x for correct orientation in imshow\n",
    "    \n",
    "    plt.figure(figsize=(6,6))\n",
    "    plt.imshow(grid_values, origin='lower', cmap='viridis', interpolation='nearest')\n",
    "    plt.colorbar(label='Priority')\n",
    "    plt.title(title)\n",
    "    plt.xlabel('x')\n",
    "    plt.ylabel('y')\n",
    "    plt.xticks(range(n))\n",
    "    plt.yticks(range(n))\n",
    "    plt.show()"
   ]
  },
  {
   "cell_type": "code",
   "execution_count": 43,
   "id": "84cfc6ca",
   "metadata": {
    "vscode": {
     "languageId": "sage"
    }
   },
   "outputs": [],
   "source": [
    "# NOISE = random.uniform(-0.1, 0.1) \n",
    "NOISE =  0"
   ]
  },
  {
   "cell_type": "code",
   "execution_count": 44,
   "id": "1f226ed8",
   "metadata": {
    "vscode": {
     "languageId": "sage"
    }
   },
   "outputs": [],
   "source": [
    "def collinear_count_priority(n):\n",
    "    def priority(point):\n",
    "        return -point_collinear_count(point, n) + NOISE\n",
    "    return priority"
   ]
  },
  {
   "cell_type": "code",
   "execution_count": 45,
   "id": "cd0d4551",
   "metadata": {
    "vscode": {
     "languageId": "sage"
    }
   },
   "outputs": [],
   "source": [
    "priority_functions = {\n",
    "    'collinear_count': collinear_count_priority\n",
    "}\n",
    "@parallel(ncpus=CPU_CORES)\n",
    "def run_greedy_for_strategy(n, strategy_name):\n",
    "    priority_func = priority_functions[strategy_name](n)\n",
    "    result = greedy(n, priority_func)\n",
    "    print(f\"Done greedy for n={n} with strategy {strategy_name}, len(result)={len(result)}\")\n",
    "    return (n, len(result), result)\n"
   ]
  },
  {
   "cell_type": "code",
   "execution_count": null,
   "id": "3f91aebd",
   "metadata": {
    "vscode": {
     "languageId": "sage"
    }
   },
   "outputs": [],
   "source": [
    "def show_saved_heatmaps(max_n: int) -> None:\n",
    "    \"\"\"\n",
    "    Loop through saved heatmaps named heatmap{n}.png for n in [1, max_n]\n",
    "    and display each figure.\n",
    "    \"\"\"\n",
    "    for i in range(1, max_n + 1):\n",
    "        filename = f\"../../htmp/heatmap{i}.png\"\n",
    "        if os.path.exists(filename):\n",
    "            img = mpimg.imread(filename)\n",
    "            plt.figure(figsize=(6,6))\n",
    "            plt.imshow(img)\n",
    "            plt.axis('off')\n",
    "            plt.title(filename)\n",
    "            plt.show()"
   ]
  },
  {
   "cell_type": "code",
   "execution_count": 47,
   "id": "7bf7490a",
   "metadata": {
    "vscode": {
     "languageId": "sage"
    }
   },
   "outputs": [],
   "source": [
    "lb = 30\n",
    "ub = 100\n",
    "step = 1\n",
    "\n",
    "no_primes = 50"
   ]
  },
  {
   "cell_type": "code",
   "execution_count": 48,
   "id": "73bdb702",
   "metadata": {
    "vscode": {
     "languageId": "sage"
    }
   },
   "outputs": [
    {
     "name": "stdout",
     "output_type": "stream",
     "text": [
      "attempted\n",
      "Done greedy for n=31 with strategy collinear_count, len(result)=49\n",
      "attempted\n",
      "Done greedy for n=32 with strategy collinear_count, len(result)=47\n",
      "attempted\n",
      "Done greedy for n=30 with strategy collinear_count, len(result)=44\n",
      "attempted\n",
      "Done greedy for n=34 with strategy collinear_count, len(result)=52\n",
      "attempted\n",
      "Done greedy for n=35 with strategy collinear_count, len(result)=51\n",
      "attempted\n",
      "Done greedy for n=33 with strategy collinear_count, len(result)=49\n",
      "attempted\n",
      "Done greedy for n=37 with strategy collinear_count, len(result)=55\n",
      "attempted\n",
      "Done greedy for n=36 with strategy collinear_count, len(result)=54\n",
      "attempted\n",
      "Done greedy for n=38 with strategy collinear_count, len(result)=60\n",
      "attempted\n",
      "Done greedy for n=40 with strategy collinear_count, len(result)=60\n",
      "attempted\n",
      "Done greedy for n=39 with strategy collinear_count, len(result)=61\n",
      "attempted\n",
      "Done greedy for n=41 with strategy collinear_count, len(result)=60\n",
      "attempted\n",
      "Done greedy for n=42 with strategy collinear_count, len(result)=63\n",
      "attempted\n",
      "Done greedy for n=45 with strategy collinear_count, len(result)=66\n",
      "attempted\n",
      "Done greedy for n=43 with strategy collinear_count, len(result)=63\n",
      "attempted\n",
      "Done greedy for n=44 with strategy collinear_count, len(result)=67\n",
      "attempted\n",
      "Done greedy for n=46 with strategy collinear_count, len(result)=70\n",
      "attempted\n",
      "Done greedy for n=47 with strategy collinear_count, len(result)=67\n",
      "attempted\n",
      "Done greedy for n=48 with strategy collinear_count, len(result)=71\n",
      "attempted\n",
      "Done greedy for n=49 with strategy collinear_count, len(result)=76\n",
      "attempted\n",
      "Done greedy for n=51 with strategy collinear_count, len(result)=76\n",
      "attempted\n",
      "Done greedy for n=50 with strategy collinear_count, len(result)=77\n",
      "attempted\n",
      "Done greedy for n=53 with strategy collinear_count, len(result)=77\n",
      "attempted\n",
      "Done greedy for n=52 with strategy collinear_count, len(result)=79\n",
      "attempted\n",
      "Done greedy for n=54 with strategy collinear_count, len(result)=76\n",
      "attempted\n",
      "Done greedy for n=55 with strategy collinear_count, len(result)=83\n",
      "attempted\n",
      "Done greedy for n=56 with strategy collinear_count, len(result)=84\n",
      "attempted\n",
      "Done greedy for n=57 with strategy collinear_count, len(result)=83\n",
      "attempted\n",
      "Done greedy for n=58 with strategy collinear_count, len(result)=90\n",
      "attempted\n",
      "Done greedy for n=59 with strategy collinear_count, len(result)=89\n",
      "attempted\n",
      "Done greedy for n=60 with strategy collinear_count, len(result)=90\n",
      "attempted\n",
      "Done greedy for n=61 with strategy collinear_count, len(result)=92\n",
      "attempted\n",
      "Done greedy for n=62 with strategy collinear_count, len(result)=90\n",
      "attempted\n",
      "Done greedy for n=63 with strategy collinear_count, len(result)=99\n",
      "attempted\n",
      "Done greedy for n=64 with strategy collinear_count, len(result)=97\n",
      "attempted\n",
      "Done greedy for n=65 with strategy collinear_count, len(result)=99\n",
      "attempted\n",
      "Done greedy for n=66 with strategy collinear_count, len(result)=95\n",
      "attempted\n",
      "Done greedy for n=68 with strategy collinear_count, len(result)=101\n",
      "attempted\n",
      "Done greedy for n=69 with strategy collinear_count, len(result)=104\n",
      "attempted\n",
      "Done greedy for n=67 with strategy collinear_count, len(result)=101\n",
      "attempted\n",
      "Done greedy for n=70 with strategy collinear_count, len(result)=98\n",
      "attempted\n",
      "Done greedy for n=71 with strategy collinear_count, len(result)=106\n",
      "attempted\n",
      "Done greedy for n=72 with strategy collinear_count, len(result)=104\n",
      "attempted\n",
      "Done greedy for n=73 with strategy collinear_count, len(result)=110\n",
      "attempted\n",
      "Done greedy for n=74 with strategy collinear_count, len(result)=108\n",
      "attempted\n",
      "Done greedy for n=77 with strategy collinear_count, len(result)=113\n",
      "attempted\n",
      "Done greedy for n=75 with strategy collinear_count, len(result)=112\n",
      "attempted\n",
      "Done greedy for n=76 with strategy collinear_count, len(result)=110\n",
      "attempted\n",
      "Done greedy for n=78 with strategy collinear_count, len(result)=113\n",
      "attempted\n",
      "Done greedy for n=79 with strategy collinear_count, len(result)=115\n",
      "attempted\n",
      "Done greedy for n=80 with strategy collinear_count, len(result)=122\n",
      "attempted\n",
      "Done greedy for n=81 with strategy collinear_count, len(result)=120\n",
      "attempted\n",
      "Done greedy for n=83 with strategy collinear_count, len(result)=124\n",
      "attempted\n",
      "Done greedy for n=82 with strategy collinear_count, len(result)=125\n",
      "attempted\n",
      "Done greedy for n=84 with strategy collinear_count, len(result)=120\n",
      "attempted\n",
      "Done greedy for n=85 with strategy collinear_count, len(result)=126\n",
      "attempted\n",
      "Done greedy for n=86 with strategy collinear_count, len(result)=125\n",
      "attempted\n",
      "Done greedy for n=87 with strategy collinear_count, len(result)=126\n",
      "attempted\n",
      "Done greedy for n=89 with strategy collinear_count, len(result)=136\n",
      "attempted\n",
      "Done greedy for n=88 with strategy collinear_count, len(result)=130\n",
      "attempted\n",
      "Done greedy for n=90 with strategy collinear_count, len(result)=127\n",
      "attempted\n",
      "Done greedy for n=91 with strategy collinear_count, len(result)=133\n",
      "attempted\n",
      "Done greedy for n=92 with strategy collinear_count, len(result)=137\n",
      "attempted\n",
      "Done greedy for n=93 with strategy collinear_count, len(result)=134\n",
      "attempted\n",
      "Done greedy for n=94 with strategy collinear_count, len(result)=137\n",
      "attempted\n",
      "Done greedy for n=95 with strategy collinear_count, len(result)=138\n",
      "attempted\n",
      "Done greedy for n=96 with strategy collinear_count, len(result)=142\n",
      "attempted\n",
      "Done greedy for n=97 with strategy collinear_count, len(result)=139\n",
      "attempted\n",
      "Done greedy for n=98 with strategy collinear_count, len(result)=139\n",
      "attempted\n",
      "Done greedy for n=99 with strategy collinear_count, len(result)=144\n",
      "attempted\n",
      "Done greedy for n=100 with strategy collinear_count, len(result)=149\n"
     ]
    }
   ],
   "source": [
    "inputs = [(n, 'collinear_count') for n in range(lb, ub+1, step)]\n",
    "\n",
    "results_collinear = run_greedy_for_strategy(inputs)\n",
    "\n",
    "\n",
    "results_collinear = [res for (_, res) in results_collinear]\n",
    "\n",
    "results_collinear_raw = [res[2] for res in results_collinear]\n",
    "\n",
    "results_collinear = [res[:2] for res in results_collinear]\n",
    "\n"
   ]
  },
  {
   "cell_type": "code",
   "execution_count": 50,
   "id": "7d978e37",
   "metadata": {
    "vscode": {
     "languageId": "sage"
    }
   },
   "outputs": [],
   "source": [
    "results = {\n",
    "    'collinear_count': results_collinear,\n",
    "}"
   ]
  },
  {
   "cell_type": "code",
   "execution_count": 3,
   "id": "81b08f31",
   "metadata": {
    "vscode": {
     "languageId": "sage"
    }
   },
   "outputs": [
    {
     "data": {
      "text/plain": [
       "'\\n\\nfor grid_size, count in results_collinear:\\n    print(grid_size, count)\\n    print(f\"n = {grid_size}, count = {count}\")\\n\\n\\ncounter = 0\\nfor grid_size in range(lb, ub + 1, step):\\n\\n    print(f\"grid_size = {grid_size}\")\\n    points = results_collinear_raw[counter]\\n    plot_no_three_in_line(points, n=grid_size, title=f\"Greedy for grid size {grid_size} with collinear count priority\")\\n    counter += 1\\n\\nshow_saved_heatmaps(ub)\\n'"
      ]
     },
     "execution_count": 3,
     "metadata": {},
     "output_type": "execute_result"
    }
   ],
   "source": [
    "\"\"\"\n",
    "\n",
    "for grid_size, count in results_collinear:\n",
    "    print(grid_size, count)\n",
    "    print(f\"n = {grid_size}, count = {count}\")\n",
    "\n",
    "\n",
    "counter = 0\n",
    "for grid_size in range(lb, ub + 1, step):\n",
    "\n",
    "    print(f\"grid_size = {grid_size}\")\n",
    "    points = results_collinear_raw[counter]\n",
    "    plot_no_three_in_line(points, n=grid_size, title=f\"Greedy for grid size {grid_size} with collinear count priority\")\n",
    "    counter += 1\n",
    "\n",
    "show_saved_heatmaps(ub)\n",
    "\"\"\"\n"
   ]
  },
  {
   "cell_type": "markdown",
   "id": "266cc142",
   "metadata": {},
   "source": [
    "## Analysis"
   ]
  },
  {
   "cell_type": "code",
   "execution_count": 1,
   "id": "912f5019",
   "metadata": {
    "vscode": {
     "languageId": "sage"
    }
   },
   "outputs": [],
   "source": [
    "results = {'collinear_count': [(30, 44), (31, 49), (32, 47), (33, 49), (34, 52), (35, 51), (36, 54), (37, 55), (38, 60), (39, 61), (40, 60), (41, 60), (42, 63), (43, 63), (44, 67), (45, 66), (46, 70), (47, 67), (48, 71), (49, 76), (50, 77), (51, 76), (52, 79), (53, 77), (54, 76), (55, 83), (56, 84), (57, 83), (58, 90), (59, 89), (60, 90), (61, 92), (62, 90), (63, 99), (64, 97), (65, 99), (66, 95), (67, 101), (68, 101), (69, 104), (70, 98), (71, 106), (72, 104), (73, 110), (74, 108), (75, 112), (76, 110), (77, 113), (78, 113), (79, 115), (80, 122), (81, 120), (82, 125), (83, 124), (84, 120), (85, 126), (86, 125), (87, 126), (88, 130), (89, 136), (90, 127), (91, 133), (92, 137), (93, 134), (94, 137), (95, 138), (96, 142), (97, 139), (98, 139), (99, 144), (100, 149)]}"
   ]
  },
  {
   "cell_type": "code",
   "execution_count": 2,
   "id": "7f8bdc40",
   "metadata": {
    "vscode": {
     "languageId": "sage"
    }
   },
   "outputs": [],
   "source": [
    "import matplotlib.pyplot as plt"
   ]
  },
  {
   "cell_type": "code",
   "execution_count": 3,
   "id": "43c9021d",
   "metadata": {
    "vscode": {
     "languageId": "sage"
    }
   },
   "outputs": [
    {
     "data": {
      "image/png": "[encoded data removed]",
      "text/plain": [
       "<Figure size 800x500 with 1 Axes>"
      ]
     },
     "metadata": {},
     "output_type": "display_data"
    }
   ],
   "source": [
    "for strategy in results:\n",
    "    results[strategy].sort(key=lambda x: x[0])\n",
    "\n",
    "plt.figure(figsize=(8, 5))\n",
    "for strategy, result_list in results.items():\n",
    "    if result_list:\n",
    "        ns, sizes = zip(*result_list)\n",
    "        plt.plot(ns, sizes, marker='o', label=strategy, linestyle='-')\n",
    "\n",
    "plt.title(\"Size of No-3-in-Line Set vs Grid Size (n)\")\n",
    "plt.xlabel(\"Grid size n\")\n",
    "plt.ylabel(\"Set size\")\n",
    "plt.grid(True)\n",
    "plt.legend()\n",
    "plt.show()"
   ]
  },
  {
   "cell_type": "code",
   "execution_count": 4,
   "id": "2d65c9f1",
   "metadata": {
    "vscode": {
     "languageId": "sage"
    }
   },
   "outputs": [
    {
     "name": "stdout",
     "output_type": "stream",
     "text": [
      "collinear_count: slope ≈ 1.4335\n",
      "{'collinear_count': [(30, 44), (31, 49), (32, 47), (33, 49), (34, 52), (35, 51), (36, 54), (37, 55), (38, 60), (39, 61), (40, 60), (41, 60), (42, 63), (43, 63), (44, 67), (45, 66), (46, 70), (47, 67), (48, 71), (49, 76), (50, 77), (51, 76), (52, 79), (53, 77), (54, 76), (55, 83), (56, 84), (57, 83), (58, 90), (59, 89), (60, 90), (61, 92), (62, 90), (63, 99), (64, 97), (65, 99), (66, 95), (67, 101), (68, 101), (69, 104), (70, 98), (71, 106), (72, 104), (73, 110), (74, 108), (75, 112), (76, 110), (77, 113), (78, 113), (79, 115), (80, 122), (81, 120), (82, 125), (83, 124), (84, 120), (85, 126), (86, 125), (87, 126), (88, 130), (89, 136), (90, 127), (91, 133), (92, 137), (93, 134), (94, 137), (95, 138), (96, 142), (97, 139), (98, 139), (99, 144), (100, 149)]}\n"
     ]
    }
   ],
   "source": [
    "for method, points in results.items():\n",
    "    x_vals = [p[0] for p in points]\n",
    "    y_vals = [p[1] for p in points]\n",
    "    data = list(zip(x_vals, y_vals))\n",
    "    \n",
    "    var('a b t')\n",
    "    model(t) = a * t + b\n",
    "    fit = find_fit(data, model, solution_dict=True)\n",
    "    slope = fit[a]\n",
    "    print(f\"{method}: slope ≈ {slope:.4f}\")\n",
    "\n",
    "print(results)"
   ]
  },
  {
   "cell_type": "code",
   "execution_count": 5,
   "id": "06f8b82c",
   "metadata": {
    "vscode": {
     "languageId": "sage"
    }
   },
   "outputs": [],
   "source": [
    "data = results['collinear_count']"
   ]
  },
  {
   "cell_type": "code",
   "execution_count": 6,
   "id": "307072d5",
   "metadata": {
    "vscode": {
     "languageId": "sage"
    }
   },
   "outputs": [
    {
     "data": {
      "image/png": "[encoded data removed]",
      "text/plain": [
       "<Figure size 1000x600 with 1 Axes>"
      ]
     },
     "metadata": {},
     "output_type": "display_data"
    }
   ],
   "source": [
    "slopes = [length / n * 1.0 for n, length in data]\n",
    "\n",
    "# Plot frequency distribution\n",
    "plt.figure(figsize=(10, 6))\n",
    "plt.hist(slopes, bins=15, edgecolor='black')\n",
    "plt.title('Frequency Distribution of Slopes (len / n)')\n",
    "plt.xlabel('Slope')\n",
    "plt.ylabel('Frequency')\n",
    "plt.grid(True)\n",
    "plt.tight_layout()\n",
    "plt.show()"
   ]
  },
  {
   "cell_type": "code",
   "execution_count": 7,
   "id": "7ab4ccd8",
   "metadata": {
    "vscode": {
     "languageId": "sage"
    }
   },
   "outputs": [
    {
     "data": {
      "image/png": "[encoded data removed]",
      "text/plain": [
       "<Figure size 1000x200 with 1 Axes>"
      ]
     },
     "metadata": {},
     "output_type": "display_data"
    }
   ],
   "source": [
    "# Generate horizontal box plot of the slopes\n",
    "plt.figure(figsize=(10, 2))\n",
    "plt.boxplot(slopes, vert=False, patch_artist=True, boxprops=dict(facecolor='lightblue'))\n",
    "plt.title('Horizontal Box Plot of Slopes (len / n)')\n",
    "plt.xlabel('Slope')\n",
    "plt.grid(True)\n",
    "plt.tight_layout()\n",
    "plt.show()\n"
   ]
  },
  {
   "cell_type": "code",
   "execution_count": 9,
   "id": "622a34a9",
   "metadata": {
    "vscode": {
     "languageId": "sage"
    }
   },
   "outputs": [
    {
     "data": {
      "text/plain": [
       "1.48456143576157"
      ]
     },
     "execution_count": 9,
     "metadata": {},
     "output_type": "execute_result"
    }
   ],
   "source": [
    "mean_slope = sum(slopes) / len(slopes)\n",
    "mean_slope"
   ]
  },
  {
   "cell_type": "code",
   "execution_count": null,
   "id": "8328bd3c",
   "metadata": {
    "vscode": {
     "languageId": "sage"
    }
   },
   "outputs": [],
   "source": []
  }
 ],
 "metadata": {
  "kernelspec": {
   "display_name": "SageMath 10.6",
   "language": "sage",
   "name": "sagemath"
  },
  "language_info": {
   "codemirror_mode": {
    "name": "ipython",
    "version": 3
   },
   "file_extension": ".py",
   "mimetype": "text/x-python",
   "name": "python",
   "nbconvert_exporter": "python",
   "pygments_lexer": "ipython3",
   "version": "3.11.12"
  }
 },
 "nbformat": 4,
 "nbformat_minor": 5
}
