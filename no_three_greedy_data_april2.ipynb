{
 "cells": [
  {
   "cell_type": "markdown",
   "id": "2b23143f",
   "metadata": {},
   "source": [
    "This is a separate worksheet where I did some basic analysis of the data that I created building no-three-in-line sets using a random greedy construction."
   ]
  },
  {
   "cell_type": "code",
   "execution_count": null,
   "id": "80d78118",
   "metadata": {},
   "outputs": [],
   "source": []
  },
  {
   "cell_type": "code",
   "execution_count": 7,
   "id": "b8a1e3b9",
   "metadata": {},
   "outputs": [],
   "source": [
    "greedy_average = [(10,15.85), (11,16.5),(12,18.85),(13,20.25),(14,21.75),(15,23.25), (16,24.4),(17,25.65),(18,27.4),(19,29.0),(20,30.35),(21,31.8),(22,33.5),(23,34.95),(24,36.3),(25,37.8),(26,39.0),(27,40.95),(28,42.1),(29,43.75),(30,45.15),(31,46.7),(32,47.45),(33,49.85),(34,50.95),(35,51.7),(36,54.0),(37,54.55),(38,56.3),(39,58.15),(40,59.25),(41,61.55),(42,62.75),(43,64.0),(44,65.15) ,(45,66.55),(46,67.9),(47,68.9),(48,70.6),(49,72.65),(100,145.25),(150,216.45),(200,286.8),(250,357.889)] "
   ]
  },
  {
   "cell_type": "markdown",
   "id": "fa2dfcff",
   "metadata": {},
   "source": [
    "I deal with the n = 250 data separately because I didn't get all the way through 20 trials."
   ]
  },
  {
   "cell_type": "code",
   "execution_count": 3,
   "id": "4a95f076",
   "metadata": {},
   "outputs": [],
   "source": [
    "pts250 = [360,358,361,356, 358,360,361,354,353]"
   ]
  },
  {
   "cell_type": "code",
   "execution_count": 6,
   "id": "d1346dc3",
   "metadata": {},
   "outputs": [
    {
     "data": {
      "text/plain": [
       "357.888888888889"
      ]
     },
     "execution_count": 6,
     "metadata": {},
     "output_type": "execute_result"
    }
   ],
   "source": [
    "(sum(pts250)/len(pts250)).n()"
   ]
  },
  {
   "cell_type": "code",
   "execution_count": 8,
   "id": "b56d541d",
   "metadata": {},
   "outputs": [
    {
     "data": {
      "image/png": "[encoded data removed]",
      "text/plain": [
       "Graphics object consisting of 1 graphics primitive"
      ]
     },
     "execution_count": 8,
     "metadata": {},
     "output_type": "execute_result"
    }
   ],
   "source": [
    "plot(points(greedy_average))"
   ]
  },
  {
   "cell_type": "markdown",
   "id": "e69376f7",
   "metadata": {},
   "source": [
    "This looks pretty linear to me, so I looked up how to do a least-squares fit to try to figure out the slope of the best-fit line."
   ]
  },
  {
   "cell_type": "code",
   "execution_count": 10,
   "id": "f15a55c1",
   "metadata": {},
   "outputs": [
    {
     "data": {
      "text/html": [
       "<html>\\(\\displaystyle \\left[a = 1.4258237482510678, b = 2.1213716656783235\\right]\\)</html>"
      ],
      "text/latex": [
       "$\\displaystyle \\left[a = 1.4258237482510678, b = 2.1213716656783235\\right]$"
      ],
      "text/plain": [
       "[a == 1.4258237482510678, b == 2.1213716656783235]"
      ]
     },
     "metadata": {},
     "output_type": "display_data"
    }
   ],
   "source": [
    "var('a, b, x')  # Define variables 'a' (slope) and 'b' (y-intercept)\n",
    "model(x) = a * x + b \n",
    "sol = find_fit(greedy_average, model)\n",
    "show(sol)"
   ]
  },
  {
   "cell_type": "markdown",
   "id": "8d925568",
   "metadata": {},
   "source": [
    "I was thinking that the line was maybe skewed by the fact that there are so many data points at the beginning, but then they become much more spread out.  (I don't know if that's how best-fit lines work.)  Anyway, I removed the smallest values of n and then did the same thing."
   ]
  },
  {
   "cell_type": "code",
   "execution_count": 11,
   "id": "1989698c",
   "metadata": {},
   "outputs": [],
   "source": [
    "data2 = [(49,72.65),(100,145.25),(150,216.45),(200,286.8),(250,357.889)]"
   ]
  },
  {
   "cell_type": "code",
   "execution_count": 12,
   "id": "d068c1bb",
   "metadata": {},
   "outputs": [
    {
     "data": {
      "text/html": [
       "<html>\\(\\displaystyle \\left[a = 1.4183898050864656, b = 3.333007198189269\\right]\\)</html>"
      ],
      "text/latex": [
       "$\\displaystyle \\left[a = 1.4183898050864656, b = 3.333007198189269\\right]$"
      ],
      "text/plain": [
       "[a == 1.4183898050864656, b == 3.333007198189269]"
      ]
     },
     "metadata": {},
     "output_type": "display_data"
    }
   ],
   "source": [
    "var('a, b, x')  # Define variables 'a' (slope) and 'b' (y-intercept)\n",
    "model(x) = a * x + b \n",
    "sol = find_fit(data2, model)\n",
    "show(sol)"
   ]
  },
  {
   "cell_type": "code",
   "execution_count": 13,
   "id": "750918da",
   "metadata": {},
   "outputs": [],
   "source": [
    "data3 = [(100,145.25),(150,216.45),(200,286.8),(250,357.889)]"
   ]
  },
  {
   "cell_type": "code",
   "execution_count": 14,
   "id": "eb22a423",
   "metadata": {},
   "outputs": [
    {
     "data": {
      "text/html": [
       "<html>\\(\\displaystyle \\left[a = 1.4165340000342337, b = 3.703799994009121\\right]\\)</html>"
      ],
      "text/latex": [
       "$\\displaystyle \\left[a = 1.4165340000342337, b = 3.703799994009121\\right]$"
      ],
      "text/plain": [
       "[a == 1.4165340000342337, b == 3.703799994009121]"
      ]
     },
     "metadata": {},
     "output_type": "display_data"
    }
   ],
   "source": [
    "var('a, b, x')  # Define variables 'a' (slope) and 'b' (y-intercept)\n",
    "model(x) = a * x + b \n",
    "sol = find_fit(data3, model)\n",
    "show(sol)"
   ]
  },
  {
   "cell_type": "code",
   "execution_count": 16,
   "id": "475a095c",
   "metadata": {},
   "outputs": [
    {
     "data": {
      "text/plain": [
       "1.42178000000000"
      ]
     },
     "execution_count": 16,
     "metadata": {},
     "output_type": "execute_result"
    }
   ],
   "source": [
    "(357.889-286.8)/50"
   ]
  },
  {
   "cell_type": "code",
   "execution_count": 19,
   "id": "b9c14667",
   "metadata": {},
   "outputs": [
    {
     "data": {
      "text/plain": [
       "x^2 - 1/2*sqrt(2)*x"
      ]
     },
     "execution_count": 19,
     "metadata": {},
     "output_type": "execute_result"
    }
   ],
   "source": [
    "var('x')\n",
    "expand(sqrt(2)*x*(sqrt(2)*x-1)/2)"
   ]
  },
  {
   "cell_type": "code",
   "execution_count": 20,
   "id": "5e51c671",
   "metadata": {},
   "outputs": [
    {
     "data": {
      "image/png": "[encoded data removed]",
      "text/plain": [
       "Graphics object consisting of 1 graphics primitive"
      ]
     },
     "execution_count": 20,
     "metadata": {},
     "output_type": "execute_result"
    }
   ],
   "source": [
    "plot(points(data2))"
   ]
  },
  {
   "cell_type": "markdown",
   "id": "9528318a",
   "metadata": {},
   "source": [
    "This looks a lot like the greedy algorithm produces sets of size pretty close to $\\sqrt{2} n$. This is the point at which there are approximately $n^2$ lines total.  I know there is a technique called \"Wormald's differential equation method\" to analyze this kind of thing, but it's not something that I understand now."
   ]
  },
  {
   "cell_type": "code",
   "execution_count": null,
   "id": "0b6c2c28",
   "metadata": {},
   "outputs": [],
   "source": []
  }
 ],
 "metadata": {
  "kernelspec": {
   "display_name": "SageMath 10.2",
   "language": "sage",
   "name": "sagemath"
  },
  "language_info": {
   "codemirror_mode": {
    "name": "ipython",
    "version": 3
   },
   "file_extension": ".py",
   "mimetype": "text/x-python",
   "name": "python",
   "nbconvert_exporter": "python",
   "pygments_lexer": "ipython3",
   "version": "3.11.1"
  }
 },
 "nbformat": 4,
 "nbformat_minor": 5
}
