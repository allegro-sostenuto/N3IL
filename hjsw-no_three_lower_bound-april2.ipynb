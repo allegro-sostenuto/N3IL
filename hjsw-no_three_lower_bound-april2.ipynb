{
 "cells": [
  {
   "cell_type": "markdown",
   "id": "cc27ba2f",
   "metadata": {},
   "source": [
    "I spent some time thinking about the lower bound of Hall-Jackson-Sudbery-Wild where they should how to construct a set with $3(p-1)$ points with no-three-in-line in a $2p \\times 2p$ grid where $p$ is prime.  By taking the largest integer of the form $2p$ less than $n$, for any $\\varepsilon > 0$, this gives a no-three-in-line set of size at least $(3/2-\\varepsilon)n$ in an $n \\times n$ grid for all sufficiently large $n$.\n",
    "\n",
    "Here is what happens in the HJSW lower bound.  We start with a special subset of points in a $p \\times p$ grid.  These are \"modular hyperbolas\" $H(k,p) = \\{(x,y)\\colon xy \\equiv k \\pmod{p}\\}$.  HJSW start with four copies of $H(k,p)$ in a $2p \\times 2p$ grid.  This gives a set of size $4p$ with $2$ points in every row and every column.\n",
    "\n",
    "The problem is that there are many collinear triples in this set.  But, they have some structure to them.  Every line that contains a collinear triple has slope $1$ or $-1$ and actually contains $4$ points (not just $3$).  Think of $H(k,p)$ as a subset of $p-1$ points in the $p \\times p$ grid $(x,y)$ with $1\\le x,y \\le p$. The lines with 4 points in the HJSW construction are in bijection with pairs of points $H(k,p)$ that lie on a line of slope $1$ or lie on a line of slope $-1$.\n",
    "\n",
    "HJSW come up with this clever construction to show that if you remove \"the middle points\" of the $2p \\times 2p$ grid, you get a set with no-three-in-line.  I have been thinking about whether there is a way to modify this construction so that we don't need to remove quite so many points.  This would work if we could find a translated copy of $H(k,p)$ that had 'not as many' of these pairs of points on lines of slope 1 or -1.  The examples below shows that this number of pairs really can vary-- the important question is \"How small can it be?\"\n",
    "\n",
    "We tested out an example with $p = 31$."
   ]
  },
  {
   "cell_type": "code",
   "execution_count": 3,
   "id": "0b55156d",
   "metadata": {},
   "outputs": [],
   "source": [
    "G = GF(31)\n",
    "AG2 = AffineSpace(G,2)"
   ]
  },
  {
   "cell_type": "markdown",
   "id": "3913f5cb",
   "metadata": {},
   "source": [
    "We construct the points of $H(1,p)$.  We then count pairs of points of this set that lie on a line of slope $1$."
   ]
  },
  {
   "cell_type": "code",
   "execution_count": 4,
   "id": "2a70184a",
   "metadata": {},
   "outputs": [
    {
     "name": "stdout",
     "output_type": "stream",
     "text": [
      "15\n"
     ]
    }
   ],
   "source": [
    "k = 1\n",
    "pts_k = []\n",
    "\n",
    "for x in G:\n",
    "    if x!=0:\n",
    "        pts_k.append((ZZ(x),ZZ(k*x^(-1))))\n",
    "\n",
    "        \n",
    "count_slope1 = 0\n",
    "for p in pts_k:\n",
    "    for q in pts_k:\n",
    "        if p != q:\n",
    "            if q[0]-p[0] == q[1]-p[1]:\n",
    "                count_slope1 = count_slope1 + 1\n",
    "print(count_slope1/2)"
   ]
  },
  {
   "cell_type": "markdown",
   "id": "3512ff23",
   "metadata": {},
   "source": [
    "We do the same thing, but now we count pairs of points on lines of slope 1 and on lines of slope -1."
   ]
  },
  {
   "cell_type": "code",
   "execution_count": 5,
   "id": "cb975dd3",
   "metadata": {},
   "outputs": [
    {
     "name": "stdout",
     "output_type": "stream",
     "text": [
      "15\n",
      "14\n"
     ]
    }
   ],
   "source": [
    "k = 1\n",
    "pts_k = []\n",
    "\n",
    "for x in G:\n",
    "    if x!=0:\n",
    "        pts_k.append((ZZ(x),ZZ(k*x^(-1))))\n",
    "\n",
    "count_slope1 = 0\n",
    "count_slopem1 = 0\n",
    "for p in pts_k:\n",
    "    for q in pts_k:\n",
    "        if p != q:\n",
    "            if q[0]-p[0] == q[1]-p[1]:\n",
    "                count_slope1 = count_slope1 + 1\n",
    "            if q[0]-p[0] == p[1]-q[1]:\n",
    "                count_slopem1 = count_slopem1 +1\n",
    "print(count_slope1/2)\n",
    "print(count_slopem1/2)"
   ]
  },
  {
   "cell_type": "markdown",
   "id": "17696c0e",
   "metadata": {},
   "source": [
    "So this is 29 pairs total.\n",
    "\n",
    "We note that this total number of pairs does not seem to change as we change $k$."
   ]
  },
  {
   "cell_type": "code",
   "execution_count": 6,
   "id": "7fad39e0",
   "metadata": {},
   "outputs": [
    {
     "name": "stdout",
     "output_type": "stream",
     "text": [
      "1 \t \t 29\n",
      "2 \t \t 29\n",
      "3 \t \t 29\n",
      "4 \t \t 29\n",
      "5 \t \t 29\n",
      "6 \t \t 29\n",
      "7 \t \t 29\n",
      "8 \t \t 29\n",
      "9 \t \t 29\n",
      "10 \t \t 29\n",
      "11 \t \t 29\n",
      "12 \t \t 29\n",
      "13 \t \t 29\n",
      "14 \t \t 29\n",
      "15 \t \t 29\n",
      "16 \t \t 29\n",
      "17 \t \t 29\n",
      "18 \t \t 29\n",
      "19 \t \t 29\n",
      "20 \t \t 29\n",
      "21 \t \t 29\n",
      "22 \t \t 29\n",
      "23 \t \t 29\n",
      "24 \t \t 29\n",
      "25 \t \t 29\n",
      "26 \t \t 29\n",
      "27 \t \t 29\n",
      "28 \t \t 29\n",
      "29 \t \t 29\n",
      "30 \t \t 29\n"
     ]
    }
   ],
   "source": [
    "for k in range(1,31):\n",
    "    pts_k = []\n",
    "\n",
    "    for x in G:\n",
    "        if x!=0:\n",
    "            pts_k.append((ZZ(x),ZZ(k*x^(-1))))\n",
    "\n",
    "    count_slope1 = 0\n",
    "    count_slopem1 = 0\n",
    "    for p in pts_k:\n",
    "        for q in pts_k:\n",
    "            if p != q:\n",
    "                if q[0]-p[0] == q[1]-p[1]:\n",
    "                    count_slope1 = count_slope1 + 1\n",
    "                if q[0]-p[0] == p[1]-q[1]:\n",
    "                    count_slopem1 = count_slopem1 +1\n",
    "    print(k,\"\\t\",\"\\t\",count_slope1/2+count_slopem1/2)"
   ]
  },
  {
   "cell_type": "markdown",
   "id": "d5557775",
   "metadata": {},
   "source": [
    "We note that if we translate the points $H(k,p)$ by any vector $(\\alpha,\\beta)$ modulo $p$, we still get a subset of $p-1$ points in a $p \\times p$ grid with one point in each row and column (except one row and column are left empty) and no-three-in-line.  We try a few random translations and see how the sum of the number of pairs on lines of slope 1 and on lines of slope -1."
   ]
  },
  {
   "cell_type": "code",
   "execution_count": 14,
   "id": "7af2d756",
   "metadata": {},
   "outputs": [
    {
     "data": {
      "text/plain": [
       "15"
      ]
     },
     "execution_count": 14,
     "metadata": {},
     "output_type": "execute_result"
    }
   ],
   "source": []
  },
  {
   "cell_type": "code",
   "execution_count": 27,
   "id": "560c4273",
   "metadata": {},
   "outputs": [
    {
     "name": "stdout",
     "output_type": "stream",
     "text": [
      "New winner! \t (30, 10, 6) \t 21\n",
      "New winner! \t (26, 13, 23) \t 17\n",
      "New winner! \t (4, 16, 27) \t 15\n",
      "New winner! \t (3, 19, 28) \t 14\n"
     ]
    }
   ],
   "source": [
    "min_bad_pairs = 100\n",
    "trials = 20\n",
    "for i in range(trials):\n",
    "    bad_pairs = 0\n",
    "    k = randint(1,30)\n",
    "    alpha = G.random_element()\n",
    "    beta = G.random_element()\n",
    "\n",
    "    pts_k = []\n",
    "\n",
    "    for x in G:\n",
    "        if x!=0:\n",
    "            pts_k.append((ZZ(x+alpha),ZZ(k*x^(-1)+beta)))\n",
    "\n",
    "    count_slope1 = 0\n",
    "    count_slopem1 = 0\n",
    "    for p in pts_k:\n",
    "        for q in pts_k:\n",
    "            if p != q:\n",
    "                if q[0]-p[0] == q[1]-p[1]:\n",
    "                    count_slope1 = count_slope1 + 1\n",
    "                if q[0]-p[0] == p[1]-q[1]:\n",
    "                    count_slopem1 = count_slopem1 +1\n",
    "    bad_pairs = count_slope1/2+count_slopem1/2\n",
    "    if bad_pairs < min_bad_pairs:\n",
    "        print(\"New winner!\",\"\\t\",(k,alpha,beta),\"\\t\",bad_pairs)\n",
    "        min_bad_pairs = bad_pairs"
   ]
  },
  {
   "cell_type": "markdown",
   "id": "1e5f7e48",
   "metadata": {},
   "source": [
    "In one of these random trials I found an example $(3,19,28)$ where the number of pairs of points on lines of slope $1$ or $-1$ goes down from $29$ to $14$.  This is way smaller!\n",
    "\n",
    "I tried a lot more trials but didn't find anything better than this."
   ]
  },
  {
   "cell_type": "code",
   "execution_count": 28,
   "id": "45d41ad1",
   "metadata": {},
   "outputs": [
    {
     "name": "stdout",
     "output_type": "stream",
     "text": [
      "14 \n",
      "\n"
     ]
    }
   ],
   "source": [
    "pts_k = []\n",
    "k = 3\n",
    "alpha = 19\n",
    "beta = 28\n",
    "\n",
    "for x in G:\n",
    "    if x!=0:\n",
    "        pts_k.append((ZZ(x+alpha),ZZ(k*x^(-1)+beta)))\n",
    "\n",
    "count_slope1 = 0\n",
    "count_slopem1 = 0\n",
    "for p in pts_k:\n",
    "    for q in pts_k:\n",
    "        if p != q:\n",
    "            if q[0]-p[0] == q[1]-p[1]:\n",
    "                count_slope1 = count_slope1 + 1\n",
    "            if q[0]-p[0] == p[1]-q[1]:\n",
    "                count_slopem1 = count_slopem1 +1\n",
    "print(count_slope1/2+count_slopem1/2,\"\\n\")"
   ]
  },
  {
   "cell_type": "code",
   "execution_count": 29,
   "id": "bec7d7b9",
   "metadata": {
    "scrolled": false
   },
   "outputs": [
    {
     "data": {
      "image/png": "[encoded data removed]",
      "text/plain": [
       "Graphics object consisting of 1 graphics primitive"
      ]
     },
     "execution_count": 29,
     "metadata": {},
     "output_type": "execute_result"
    }
   ],
   "source": [
    "plot(point(pts_k))"
   ]
  },
  {
   "cell_type": "markdown",
   "id": "13d2f33f",
   "metadata": {},
   "source": [
    "Below I'll do all the same stuff but for a larger prime.\n",
    "\n",
    "We take $p = 97$.  We first see that the number of \"bad pairs\" is not always the same.  Here we get two different values, $94$ and $97$."
   ]
  },
  {
   "cell_type": "code",
   "execution_count": 38,
   "id": "e0745743",
   "metadata": {
    "scrolled": true
   },
   "outputs": [
    {
     "name": "stdout",
     "output_type": "stream",
     "text": [
      "1 \t \t 94\n",
      "2 \t \t 94\n",
      "3 \t \t 94\n",
      "4 \t \t 94\n",
      "5 \t \t 96\n",
      "6 \t \t 94\n",
      "7 \t \t 96\n",
      "8 \t \t 94\n",
      "9 \t \t 94\n",
      "10 \t \t 96\n",
      "11 \t \t 94\n",
      "12 \t \t 94\n",
      "13 \t \t 96\n",
      "14 \t \t 96\n",
      "15 \t \t 96\n",
      "16 \t \t 94\n",
      "17 \t \t 96\n",
      "18 \t \t 94\n",
      "19 \t \t 96\n",
      "20 \t \t 96\n",
      "21 \t \t 96\n",
      "22 \t \t 94\n",
      "23 \t \t 96\n",
      "24 \t \t 94\n",
      "25 \t \t 94\n",
      "26 \t \t 96\n",
      "27 \t \t 94\n",
      "28 \t \t 96\n",
      "29 \t \t 96\n",
      "30 \t \t 96\n",
      "31 \t \t 94\n",
      "32 \t \t 94\n",
      "33 \t \t 94\n",
      "34 \t \t 96\n",
      "35 \t \t 94\n",
      "36 \t \t 94\n",
      "37 \t \t 96\n",
      "38 \t \t 96\n",
      "39 \t \t 96\n",
      "40 \t \t 96\n",
      "41 \t \t 96\n",
      "42 \t \t 96\n",
      "43 \t \t 94\n",
      "44 \t \t 94\n",
      "45 \t \t 96\n",
      "46 \t \t 96\n",
      "47 \t \t 94\n",
      "48 \t \t 94\n",
      "49 \t \t 94\n",
      "50 \t \t 94\n",
      "51 \t \t 96\n",
      "52 \t \t 96\n",
      "53 \t \t 94\n",
      "54 \t \t 94\n",
      "55 \t \t 96\n",
      "56 \t \t 96\n",
      "57 \t \t 96\n",
      "58 \t \t 96\n",
      "59 \t \t 96\n",
      "60 \t \t 96\n",
      "61 \t \t 94\n",
      "62 \t \t 94\n",
      "63 \t \t 96\n",
      "64 \t \t 94\n",
      "65 \t \t 94\n",
      "66 \t \t 94\n",
      "67 \t \t 96\n",
      "68 \t \t 96\n",
      "69 \t \t 96\n",
      "70 \t \t 94\n",
      "71 \t \t 96\n",
      "72 \t \t 94\n",
      "73 \t \t 94\n",
      "74 \t \t 96\n",
      "75 \t \t 94\n",
      "76 \t \t 96\n",
      "77 \t \t 96\n",
      "78 \t \t 96\n",
      "79 \t \t 94\n",
      "80 \t \t 96\n",
      "81 \t \t 94\n",
      "82 \t \t 96\n",
      "83 \t \t 96\n",
      "84 \t \t 96\n",
      "85 \t \t 94\n",
      "86 \t \t 94\n",
      "87 \t \t 96\n",
      "88 \t \t 94\n",
      "89 \t \t 94\n",
      "90 \t \t 96\n",
      "91 \t \t 94\n",
      "92 \t \t 96\n",
      "93 \t \t 94\n",
      "94 \t \t 94\n",
      "95 \t \t 94\n",
      "96 \t \t 94\n"
     ]
    }
   ],
   "source": [
    "p = 97\n",
    "G = GF(p)\n",
    "AG2 = AffineSpace(G,2)\n",
    "\n",
    "for k in range(1,97):\n",
    "    pts_k = []\n",
    "\n",
    "    for x in G:\n",
    "        if x!=0:\n",
    "            pts_k.append((ZZ(x),ZZ(k*x^(-1))))\n",
    "\n",
    "    count_slope1 = 0\n",
    "    count_slopem1 = 0\n",
    "    for p in pts_k:\n",
    "        for q in pts_k:\n",
    "            if p != q:\n",
    "                if q[0]-p[0] == q[1]-p[1]:\n",
    "                    count_slope1 = count_slope1 + 1\n",
    "                if q[0]-p[0] == p[1]-q[1]:\n",
    "                    count_slopem1 = count_slopem1 +1\n",
    "    print(k,\"\\t\",\"\\t\",count_slope1/2+count_slopem1/2)"
   ]
  },
  {
   "cell_type": "markdown",
   "id": "bb71471b",
   "metadata": {},
   "source": [
    "Let's do the same thing where we do a bunch of random trials and see how small we can get the number of \"bad pairs\" to be."
   ]
  },
  {
   "cell_type": "code",
   "execution_count": 41,
   "id": "04d2d19f",
   "metadata": {},
   "outputs": [
    {
     "name": "stdout",
     "output_type": "stream",
     "text": [
      "New winner! \t (66, 10, 79) \t 65\n",
      "New winner! \t (32, 23, 35) \t 63\n",
      "New winner! \t (44, 94, 31) \t 52\n",
      "New winner! \t (42, 88, 51) \t 50\n",
      "New winner! \t (36, 4, 48) \t 46\n"
     ]
    }
   ],
   "source": [
    "min_bad_pairs = 100\n",
    "trials = 1000\n",
    "for i in range(trials):\n",
    "    bad_pairs = 0\n",
    "    k = randint(1,96)\n",
    "    alpha = G.random_element()\n",
    "    beta = G.random_element()\n",
    "\n",
    "    pts_k = []\n",
    "\n",
    "    for x in G:\n",
    "        if x!=0:\n",
    "            pts_k.append((ZZ(x+alpha),ZZ(k*x^(-1)+beta)))\n",
    "\n",
    "    count_slope1 = 0\n",
    "    count_slopem1 = 0\n",
    "    for p in pts_k:\n",
    "        for q in pts_k:\n",
    "            if p != q:\n",
    "                if q[0]-p[0] == q[1]-p[1]:\n",
    "                    count_slope1 = count_slope1 + 1\n",
    "                if q[0]-p[0] == p[1]-q[1]:\n",
    "                    count_slopem1 = count_slopem1 +1\n",
    "    bad_pairs = count_slope1/2+count_slopem1/2\n",
    "    if bad_pairs < min_bad_pairs:\n",
    "        print(\"New winner!\",\"\\t\",(k,alpha,beta),\"\\t\",bad_pairs)\n",
    "        min_bad_pairs = bad_pairs"
   ]
  },
  {
   "cell_type": "code",
   "execution_count": 43,
   "id": "4223aaa3",
   "metadata": {},
   "outputs": [],
   "source": [
    "min_bad_pairs = 46\n",
    "trials = 1000\n",
    "for i in range(trials):\n",
    "    bad_pairs = 0\n",
    "    k = randint(1,96)\n",
    "    alpha = G.random_element()\n",
    "    beta = G.random_element()\n",
    "\n",
    "    pts_k = []\n",
    "\n",
    "    for x in G:\n",
    "        if x!=0:\n",
    "            pts_k.append((ZZ(x+alpha),ZZ(k*x^(-1)+beta)))\n",
    "\n",
    "    count_slope1 = 0\n",
    "    count_slopem1 = 0\n",
    "    for p in pts_k:\n",
    "        for q in pts_k:\n",
    "            if p != q:\n",
    "                if q[0]-p[0] == q[1]-p[1]:\n",
    "                    count_slope1 = count_slope1 + 1\n",
    "                if q[0]-p[0] == p[1]-q[1]:\n",
    "                    count_slopem1 = count_slopem1 +1\n",
    "    bad_pairs = count_slope1/2+count_slopem1/2\n",
    "    if bad_pairs < min_bad_pairs:\n",
    "        print(\"New winner!\",\"\\t\",(k,alpha,beta),\"\\t\",bad_pairs)\n",
    "        min_bad_pairs = bad_pairs"
   ]
  },
  {
   "cell_type": "markdown",
   "id": "9d8a84ab",
   "metadata": {},
   "source": []
  },
  {
   "cell_type": "code",
   "execution_count": null,
   "id": "663a0274",
   "metadata": {},
   "outputs": [],
   "source": []
  },
  {
   "cell_type": "code",
   "execution_count": 45,
   "id": "e3f2ca2c",
   "metadata": {},
   "outputs": [
    {
     "name": "stdout",
     "output_type": "stream",
     "text": [
      "New winner! \t (210, 10, 166) \t 164\n"
     ]
    }
   ],
   "source": [
    "p = 331\n",
    "G = GF(p)\n",
    "AG2 = AffineSpace(G,2)\n",
    "\n",
    "min_bad_pairs = 1000\n",
    "trials = 1000\n",
    "for i in range(trials):\n",
    "    bad_pairs = 0\n",
    "    k = randint(1,330)\n",
    "    alpha = G.random_element()\n",
    "    beta = G.random_element()\n",
    "\n",
    "    pts_k = []\n",
    "\n",
    "    for x in G:\n",
    "        if x!=0:\n",
    "            pts_k.append((ZZ(x+alpha),ZZ(k*x^(-1)+beta)))\n",
    "\n",
    "    count_slope1 = 0\n",
    "    count_slopem1 = 0\n",
    "    for p in pts_k:\n",
    "        for q in pts_k:\n",
    "            if p != q:\n",
    "                if q[0]-p[0] == q[1]-p[1]:\n",
    "                    count_slope1 = count_slope1 + 1\n",
    "                if q[0]-p[0] == p[1]-q[1]:\n",
    "                    count_slopem1 = count_slopem1 +1\n",
    "    bad_pairs = count_slope1/2+count_slopem1/2\n",
    "    if bad_pairs < min_bad_pairs:\n",
    "        print(\"New winner!\",\"\\t\",(k,alpha,beta),\"\\t\",bad_pairs)\n",
    "        min_bad_pairs = bad_pairs\n"
   ]
  },
  {
   "cell_type": "code",
   "execution_count": null,
   "id": "d831bebf",
   "metadata": {},
   "outputs": [],
   "source": []
  }
 ],
 "metadata": {
  "kernelspec": {
   "display_name": "SageMath 10.2",
   "language": "sage",
   "name": "sagemath"
  },
  "language_info": {
   "codemirror_mode": {
    "name": "ipython",
    "version": 3
   },
   "file_extension": ".py",
   "mimetype": "text/x-python",
   "name": "python",
   "nbconvert_exporter": "python",
   "pygments_lexer": "ipython3",
   "version": "3.11.1"
  }
 },
 "nbformat": 4,
 "nbformat_minor": 5
}
