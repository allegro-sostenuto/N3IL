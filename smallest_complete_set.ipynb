{
 "cells": [
  {
   "cell_type": "markdown",
   "id": "49c2203c",
   "metadata": {},
   "source": [
    "**Definitions**\n",
    "\n",
    "Consider the $n^2$ points $(x, y)$ where $x, y \\in \\Z$ such that $ 1 \\leq x, y \\leq n$.\n",
    "\n",
    "Let $S$ be a subset such that no three points of $S$ lie on a line.\n",
    "\n",
    "We say $S$ is *complete* if for any point $p \\in S^c$, $S \\cup \\{p\\}$ contains at least one collinear triple. \n",
    "\n",
    "Define $\\mathcal{M}(n)$ to be the maximum size of a complete subset in $\\left[n\\right]^2$, and $\\mathfrak{m}(n)$ to be the minimum."
   ]
  },
  {
   "cell_type": "markdown",
   "id": "4889f76d",
   "metadata": {},
   "source": [
    "THE NO THREE IN LINE PROBLEM:\n",
    "Compute $\\mathcal{M}(n)$."
   ]
  },
  {
   "cell_type": "markdown",
   "id": "3e6caa30",
   "metadata": {},
   "source": [
    "THE SMALLEST N3IL COMPLETE PROBLEM: Compute $\\mathfrak{m}(n)$."
   ]
  },
  {
   "cell_type": "code",
   "execution_count": null,
   "id": "46543a57",
   "metadata": {},
   "outputs": [],
   "source": [
    "import itertools\n",
    "import numpy as np\n",
    "import itertools\n",
    "import random\n",
    "import matplotlib.pyplot as plt"
   ]
  },
  {
   "cell_type": "code",
   "execution_count": null,
   "id": "613d9270",
   "metadata": {},
   "outputs": [],
   "source": [
    "def slope(p1, p2):\n",
    "    x1, y1 = p1\n",
    "    x2, y2 = p2\n",
    "    dx = x2 - x1\n",
    "    dy = y2 - y1\n",
    "    if dx == 0:\n",
    "        return 'inf'\n",
    "    return QQ(dy) / QQ(dx) \n",
    "\n"
   ]
  },
  {
   "cell_type": "code",
   "execution_count": null,
   "id": "4beb841a",
   "metadata": {},
   "outputs": [],
   "source": [
    "def are_collinear(p1, p2, p3):\n",
    "    x1, y1 = p1\n",
    "    x2, y2 = p2\n",
    "    x3, y3 = p3\n",
    "    return (y1 - y2) * (x1 - x3) == (y1 - y3) * (x1 - x2)"
   ]
  },
  {
   "cell_type": "code",
   "execution_count": null,
   "id": "1bffba07",
   "metadata": {},
   "outputs": [],
   "source": [
    "def is_no_three_in_line(points):\n",
    "    n = len(points)\n",
    "    points = list(points)\n",
    "    for i in range(n):\n",
    "        slopes = {}\n",
    "        x1, y1 = points[i]\n",
    "        for j in range(n):\n",
    "            if i == j:\n",
    "                continue\n",
    "            s = slope(points[i], points[j])\n",
    "            if s in slopes:\n",
    "                if are_collinear(points[i], points[slopes[s]], points[j]):\n",
    "                    return False\n",
    "            slopes[s] = j\n",
    "    return True"
   ]
  },
  {
   "cell_type": "code",
   "execution_count": null,
   "id": "d2b4647b",
   "metadata": {},
   "outputs": [],
   "source": [
    "def is_complete(points, all_points):\n",
    "    if len(points) < 3:\n",
    "        return False\n",
    "    if not is_no_three_in_line(points):\n",
    "        print(\"Configuration has collinear triples.\")\n",
    "        return False\n",
    "    for p in all_points:\n",
    "        if p not in points and is_no_three_in_line(points | {p}):   \n",
    "            return False\n",
    "    return True  \n"
   ]
  },
  {
   "cell_type": "code",
   "execution_count": null,
   "id": "4692b36b",
   "metadata": {},
   "outputs": [],
   "source": [
    "def greedy(n, priority):\n",
    "    all_points = [(x, y) for x in range(n) for y in range(n)]\n",
    "    all_points.sort(key=priority, reverse=True)\n",
    "    current_set = set()\n",
    "    for p in all_points:\n",
    "        trial_set = current_set | {p}\n",
    "        if is_no_three_in_line(trial_set):\n",
    "            current_set = trial_set \n",
    "    return sorted(current_set)\n"
   ]
  },
  {
   "cell_type": "code",
   "execution_count": null,
   "id": "b95f81a3",
   "metadata": {},
   "outputs": [],
   "source": [
    "import matplotlib.pyplot as plt\n",
    "\n",
    "def plot_no_three_in_line(points, n=None, title=\"No-3-in-line Set\"):\n",
    "    if not points:\n",
    "        print(\"No points to plot.\")\n",
    "        return\n",
    "\n",
    "    xs, ys = zip(*points)\n",
    "    if n is None:\n",
    "        n = max(max(xs), max(ys)) + 1\n",
    "\n",
    "    plt.figure(figsize=(6, 6))\n",
    "    plt.scatter(xs, ys, s=100, c='blue', edgecolors='black')\n",
    "    plt.xticks(range(n))\n",
    "    plt.yticks(range(n))\n",
    "    plt.grid(True, linestyle='--', alpha=0.5)\n",
    "    plt.gca().set_aspect('equal', adjustable='box')\n",
    "    plt.title(title)\n",
    "    plt.xlabel('x')\n",
    "    plt.ylabel('y')\n",
    "    plt.xlim(-1, n)\n",
    "    plt.ylim(-1, n)\n",
    "    plt.show()\n"
   ]
  },
  {
   "cell_type": "markdown",
   "id": "c0a6c5f9",
   "metadata": {},
   "source": [
    "From here on, to search for the largest complete set it was prudent to use a greedy algorithm, since the upper bound is $2n$. A naive greedy algoritm on the smallest complete set would be to fill the $n \\times n$ grid and remove as many points as possible. However, we will perform significantly more operations since $n^2 \\gg kn$. "
   ]
  },
  {
   "cell_type": "markdown",
   "id": "2266d728",
   "metadata": {},
   "source": []
  }
 ],
 "metadata": {
  "kernelspec": {
   "display_name": "SageMath 10.6",
   "language": "sage",
   "name": "sagemath"
  },
  "language_info": {
   "codemirror_mode": {
    "name": "ipython",
    "version": 3
   },
   "file_extension": ".py",
   "mimetype": "text/x-python",
   "name": "sage",
   "nbconvert_exporter": "python",
   "pygments_lexer": "ipython3",
   "version": "3.12.5"
  }
 },
 "nbformat": 4,
 "nbformat_minor": 5
}
