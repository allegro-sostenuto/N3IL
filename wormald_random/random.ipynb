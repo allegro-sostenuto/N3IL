{
 "cells": [
  {
   "cell_type": "markdown",
   "id": "61c342ce",
   "metadata": {},
   "source": [
    "## Persistent"
   ]
  },
  {
   "cell_type": "code",
   "execution_count": 1,
   "id": "d0ed5a9e",
   "metadata": {
    "vscode": {
     "languageId": "sage"
    }
   },
   "outputs": [],
   "source": [
    "import itertools\n",
    "import numpy as np\n",
    "import random\n",
    "import matplotlib.pyplot as plt\n",
    "import matplotlib.image as mpimg\n",
    "import sys\n",
    "import time\n",
    "import re\n",
    "from collections import defaultdict\n",
    "import pprint\n",
    "import math\n",
    "from typing import Tuple, List, Set, Callable, NamedTuple, Union, Optional, Iterable, Dict\n",
    "from multiprocessing import Pool\n",
    "\n",
    "import psutil\n"
   ]
  },
  {
   "cell_type": "code",
   "execution_count": 2,
   "id": "50d6df1f",
   "metadata": {
    "vscode": {
     "languageId": "sage"
    }
   },
   "outputs": [],
   "source": [
    "import psutil\n",
    "from typing import List\n",
    "\n",
    "def count_idle_cpus(threshold: float = 10.0) -> int:\n",
    "    \"\"\"\n",
    "    Count CPU cores with usage below the threshold.\n",
    "\n",
    "    Args:\n",
    "        threshold (float): Utilization percentage below which a core is considered idle.\n",
    "\n",
    "    Returns:\n",
    "        int: Number of idle CPU cores.\n",
    "    \"\"\"\n",
    "    usage: List[float] = psutil.cpu_percent(percpu=True)\n",
    "    return sum(1 for u in usage if u < threshold)\n"
   ]
  },
  {
   "cell_type": "code",
   "execution_count": 3,
   "id": "a2ebed64",
   "metadata": {
    "vscode": {
     "languageId": "sage"
    }
   },
   "outputs": [],
   "source": [
    "CPU_CORES = 16"
   ]
  },
  {
   "cell_type": "code",
   "execution_count": 4,
   "id": "82c1639b",
   "metadata": {
    "vscode": {
     "languageId": "sage"
    }
   },
   "outputs": [],
   "source": [
    "\n",
    "class Point(NamedTuple):\n",
    "    \"\"\"An integer point in 2D space.\"\"\"\n",
    "    x: int\n",
    "    y: int"
   ]
  },
  {
   "cell_type": "code",
   "execution_count": 5,
   "id": "ea43a3f6",
   "metadata": {
    "vscode": {
     "languageId": "sage"
    }
   },
   "outputs": [],
   "source": [
    "class Line:\n",
    "    \"\"\"\n",
    "    Represents a line defined by a rational slope and a point on the line.\n",
    "\n",
    "    Attributes:\n",
    "        slope (Union[QQ, str]): Rational slope of the line, or 'inf' for vertical lines.\n",
    "        point (Point): An arbitrary point on the line.\n",
    "    \"\"\"\n",
    "\n",
    "    def __init__(self, slope: Union[QQ, str], point: Point):\n",
    "        \"\"\"\n",
    "        Initialize a line with a given slope and a point on the line.\n",
    "\n",
    "        Args:\n",
    "            slope (Union[QQ, str]): Rational slope of the line, or 'inf' for vertical lines.\n",
    "            point (Point): A point on the line.\n",
    "        \"\"\"\n",
    "        self.slope = slope\n",
    "        self.point = point\n",
    "\n",
    "    @classmethod\n",
    "    def from_points(cls, p1: Point, p2: Point) -> 'Line':\n",
    "        \"\"\"\n",
    "        Construct a line from two points.\n",
    "\n",
    "        The slope is computed from the two points. The stored point is p1 without any minimization.\n",
    "\n",
    "        Args:\n",
    "            p1 (Point): First point.\n",
    "            p2 (Point): Second point.\n",
    "\n",
    "        Returns:\n",
    "            Line: Line through p1 and p2 with p1 stored as the point.\n",
    "        \"\"\"\n",
    "        dx = p2.x - p1.x\n",
    "        dy = p2.y - p1.y\n",
    "        if dx == 0:\n",
    "            slope = 'inf'\n",
    "        else:\n",
    "            slope = QQ(dy) / QQ(dx)\n",
    "        return cls(slope, p1)\n",
    "\n",
    "    @classmethod\n",
    "    def from_point_slope_of_line(cls, p: Point, slope: Union[QQ, str]) -> 'Line':\n",
    "        \"\"\"\n",
    "        Construct a line from a point and a slope.\n",
    "\n",
    "        Args:\n",
    "            p (Point): A point on the line.\n",
    "            slope (Union[QQ, str]): Rational slope of the line, or 'inf' for vertical lines.\n",
    "\n",
    "        Returns:\n",
    "            Line: Line defined by the point and slope.\n",
    "        \"\"\"\n",
    "        return cls(slope, p)\n"
   ]
  },
  {
   "cell_type": "code",
   "execution_count": 6,
   "id": "a1e5bd21",
   "metadata": {
    "vscode": {
     "languageId": "sage"
    }
   },
   "outputs": [],
   "source": [
    "\n",
    "def slope_of_line(p1: Point, p2: Point) -> Union[QQ, str]:\n",
    "    \"\"\"\n",
    "    Calculate the slope of the line segment connecting two points.\n",
    "\n",
    "    Args:\n",
    "        p1 (Point): The first point as a named tuple with integer coordinates (x, y).\n",
    "        p2 (Point): The second point as a named tuple with integer coordinates (x, y).\n",
    "\n",
    "    Returns:\n",
    "        Union[QQ, str]: The slope as a rational number (QQ) if defined, otherwise the string 'inf' if the line is vertical.\n",
    "    \"\"\"\n",
    "    x1, y1 = p1\n",
    "    x2, y2 = p2\n",
    "    dx = x2 - x1\n",
    "    dy = y2 - y1\n",
    "    if dx == 0:\n",
    "        return 'inf'\n",
    "    return QQ(dy) / QQ(dx)"
   ]
  },
  {
   "cell_type": "code",
   "execution_count": 7,
   "id": "4a1c3ac6",
   "metadata": {
    "vscode": {
     "languageId": "sage"
    }
   },
   "outputs": [],
   "source": [
    "def are_collinear(p1: Point, p2: Point, p3: Point) -> bool:\n",
    "    \"\"\"\n",
    "    Determine if three points are pure_random.\n",
    "\n",
    "    Args:\n",
    "        p1 (Point): The first point as a named tuple with integer coordinates (x, y).\n",
    "        p2 (Point): The second point as a named tuple with integer coordinates (x, y).\n",
    "        p3 (Point): The third point as a named tuple with integer coordinates (x, y).\n",
    "\n",
    "    Returns:\n",
    "        bool: True if the three points are pure_random, False otherwise.\n",
    "    \"\"\"\n",
    "    x1, y1 = p1\n",
    "    x2, y2 = p2\n",
    "    x3, y3 = p3\n",
    "    return (y1 - y2) * (x1 - x3) == (y1 - y3) * (x1 - x2)"
   ]
  },
  {
   "cell_type": "code",
   "execution_count": 8,
   "id": "72e1b63d",
   "metadata": {
    "vscode": {
     "languageId": "sage"
    }
   },
   "outputs": [],
   "source": [
    "def plot_no_three_in_line(points: Iterable[Point], n: Optional[int] = None, title: str = \"No-3-in-line Set\") -> None:\n",
    "    \"\"\"\n",
    "    Plot a set of points on an n x n grid, illustrating a no-3-in-line configuration.\n",
    "\n",
    "    Args:\n",
    "        points (Iterable[Point]): Iterable of points to plot.\n",
    "        n (Optional[int]): Size of the grid. If None, computed from the points.\n",
    "        title (str): Title of the plot.\n",
    "\n",
    "    Returns:\n",
    "        None\n",
    "    \"\"\"\n",
    "    points = list(points)\n",
    "    if not points:\n",
    "        print(\"No points to plot.\")\n",
    "        return\n",
    "\n",
    "    xs, ys = zip(*points)\n",
    "    if n is None:\n",
    "        n = max(max(xs), max(ys)) + 1\n",
    "\n",
    "    plt.figure(figsize=(6, 6))\n",
    "    plt.scatter(xs, ys, s=100, c='blue', edgecolors='black')\n",
    "    plt.xticks(range(n))\n",
    "    plt.yticks(range(n))\n",
    "    plt.grid(True, linestyle='--', alpha=0.5)\n",
    "    plt.gca().set_aspect('equal', adjustable='box')\n",
    "    plt.title(title)\n",
    "    plt.xlabel('x')\n",
    "    plt.ylabel('y')\n",
    "    plt.xlim(-1, n)\n",
    "    plt.ylim(-1, n)\n",
    "    plt.show()"
   ]
  },
  {
   "cell_type": "code",
   "execution_count": 9,
   "id": "7b5086a8",
   "metadata": {
    "vscode": {
     "languageId": "sage"
    }
   },
   "outputs": [],
   "source": [
    "def find_missing_data(data: Dict[str, Iterable[Tuple[Union[int, str], Union[int, str]]]]) -> Dict[str, Iterable[Tuple[int, Union[int, str]]]]:\n",
    "    \"\"\"\n",
    "    Identify entries with missing data labeled as 'NO DATA' in intervals.\n",
    "\n",
    "    Args:\n",
    "        data (Dict[str, Iterable[Tuple[Union[int, str], Union[int, str]]]]): Dictionary mapping keys to iterables of (start, end) intervals.\n",
    "\n",
    "    Returns:\n",
    "        Dict[str, Iterable[Tuple[int, Union[int, str]]]]: Dictionary mapping keys to iterables of tuples containing the index of the interval and the start value where 'NO DATA' occurs.\n",
    "    \"\"\"\n",
    "    missing = {}\n",
    "    for key, intervals in data.items():\n",
    "        missing_entries = []\n",
    "        for i, (start, end) in enumerate(intervals):\n",
    "            if end == 'NO DATA':\n",
    "                missing_entries.append((i, start))\n",
    "        if missing_entries:\n",
    "            missing[key] = missing_entries\n",
    "    return missing"
   ]
  },
  {
   "cell_type": "code",
   "execution_count": 10,
   "id": "61e4fde9",
   "metadata": {
    "vscode": {
     "languageId": "sage"
    }
   },
   "outputs": [],
   "source": [
    "def points_on_line_pp(p1: Point, p2: Point, grid_size: int) -> Set[Point]:\n",
    "    \"\"\"\n",
    "    Generate points with integer coordinates on the line segment between two points,\n",
    "    assuming the segment lies on a line with rational slope and intercept.\n",
    "\n",
    "    Args:\n",
    "        p1 (Point): The first point as a named tuple with integer coordinates (x, y).\n",
    "        p2 (Point): The second point as a named tuple with integer coordinates (x, y).\n",
    "\n",
    "    Returns:\n",
    "        Set[Point]: Set of points on the line segment from p1 to p2.\n",
    "    \"\"\"\n",
    "    s = slope_of_line(p1, p2)\n",
    "    if s == 'inf':\n",
    "        x = p1.x\n",
    "        return {Point(x, y) for y in range(grid_size) if 0 <= x < grid_size}\n",
    "    a = s\n",
    "    b = QQ(p1.y) - a * QQ(p1.x)\n",
    "    return {Point(x, int(y)) for x in range(grid_size)\n",
    "            if (y := a * QQ(x) + b).denominator() == 1 and 0 <= y < grid_size}\n",
    "\n"
   ]
  },
  {
   "cell_type": "code",
   "execution_count": 11,
   "id": "5c73f149",
   "metadata": {
    "vscode": {
     "languageId": "sage"
    }
   },
   "outputs": [],
   "source": [
    "def greedy(n: int, priority: Callable[[Point], float]) -> List[Point]:\n",
    "    \"\"\"\n",
    "    Select points greedily from an n x n grid based on a priority function,\n",
    "    ensuring no three selected points are pure_random\n",
    "\n",
    "    Args:\n",
    "        n (int): The dimension of the grid (points range from 0 to n-1 in both x and y).\n",
    "        priority (Callable[[Point], float]): A function assigning a priority score to each point.\n",
    "\n",
    "    Returns:\n",
    "        List[Point]: Sorted list of selected points.\n",
    "    \"\"\"\n",
    "    grid: List[Point] = [Point(x, y) for x in range(n) for y in range(n)]\n",
    "    shuffle(grid)\n",
    "\n",
    "    priorities = {p: priority(p) for p in grid}\n",
    "    candidates: Set[Point] = set(grid)\n",
    "    selected: Set[Point] = set()\n",
    "\n",
    "    while candidates:\n",
    "        p = max(candidates, key=lambda pt: priorities[pt])\n",
    "\n",
    "        candidates -= {\n",
    "            q\n",
    "            for s in selected \n",
    "            for q in points_on_line_pp(p, s, n)\n",
    "        }\n",
    "        selected.add(p)\n",
    "    return sorted(selected)"
   ]
  },
  {
   "cell_type": "markdown",
   "id": "0fa040ef",
   "metadata": {},
   "source": [
    "## Priorities"
   ]
  },
  {
   "cell_type": "code",
   "execution_count": 12,
   "id": "7bf7490a",
   "metadata": {
    "vscode": {
     "languageId": "sage"
    }
   },
   "outputs": [],
   "source": [
    "lb = 30\n",
    "ub = 200\n",
    "step = 1\n",
    "\n",
    "no_primes = 50"
   ]
  },
  {
   "cell_type": "code",
   "execution_count": 13,
   "id": "84cfc6ca",
   "metadata": {
    "vscode": {
     "languageId": "sage"
    }
   },
   "outputs": [],
   "source": [
    "# NOISE = random.uniform(-0.1, 0.1) \n",
    "NOISE =  0"
   ]
  },
  {
   "cell_type": "code",
   "execution_count": 28,
   "id": "ddaedb20",
   "metadata": {
    "vscode": {
     "languageId": "sage"
    }
   },
   "outputs": [],
   "source": [
    "def pure_random_priority(n):\n",
    "    def priority(point):\n",
    "        return 0\n",
    "    return priority\n"
   ]
  },
  {
   "cell_type": "code",
   "execution_count": 29,
   "id": "cd0d4551",
   "metadata": {
    "vscode": {
     "languageId": "sage"
    }
   },
   "outputs": [],
   "source": [
    "priority_functions = {\n",
    "    'pure_random' : pure_random_priority,\n",
    "}\n",
    "@parallel(ncpus=CPU_CORES)\n",
    "def run_greedy_for_strategy(n, strategy_name):\n",
    "    priority_func = priority_functions[strategy_name](n)\n",
    "    result = greedy(n, priority_func)\n",
    "    print(f\"Done greedy for n={n} with strategy {strategy_name}, len(result)={len(result)}\")\n",
    "    return (n, len(result), result)\n"
   ]
  },
  {
   "cell_type": "code",
   "execution_count": 30,
   "id": "73bdb702",
   "metadata": {
    "vscode": {
     "languageId": "sage"
    }
   },
   "outputs": [
    {
     "name": "stdout",
     "output_type": "stream",
     "text": [
      "Done greedy for n=30 with strategy pure_random, len(result)=44\n",
      "Done greedy for n=31 with strategy pure_random, len(result)=45\n",
      "Done greedy for n=32 with strategy pure_random, len(result)=47\n",
      "Done greedy for n=33 with strategy pure_random, len(result)=48\n",
      "Done greedy for n=34 with strategy pure_random, len(result)=48\n",
      "Done greedy for n=35 with strategy pure_random, len(result)=52\n",
      "Done greedy for n=36 with strategy pure_random, len(result)=52\n",
      "Done greedy for n=37 with strategy pure_random, len(result)=55\n",
      "Done greedy for n=38 with strategy pure_random, len(result)=57\n",
      "Done greedy for n=40 with strategy pure_random, len(result)=58\n",
      "Done greedy for n=41 with strategy pure_random, len(result)=58\n",
      "Done greedy for n=39 with strategy pure_random, len(result)=57\n",
      "Done greedy for n=44 with strategy pure_random, len(result)=63\n",
      "Done greedy for n=45 with strategy pure_random, len(result)=65\n",
      "Done greedy for n=48 with strategy pure_random, len(result)=70\n",
      "Done greedy for n=42 with strategy pure_random, len(result)=59\n",
      "Done greedy for n=43 with strategy pure_random, len(result)=63\n",
      "Done greedy for n=51 with strategy pure_random, len(result)=73\n",
      "Done greedy for n=46 with strategy pure_random, len(result)=68\n",
      "Done greedy for n=47 with strategy pure_random, len(result)=71\n",
      "Done greedy for n=53 with strategy pure_random, len(result)=79\n",
      "Done greedy for n=49 with strategy pure_random, len(result)=70\n",
      "Done greedy for n=50 with strategy pure_random, len(result)=71\n",
      "Done greedy for n=54 with strategy pure_random, len(result)=81\n",
      "Done greedy for n=55 with strategy pure_random, len(result)=82\n",
      "Done greedy for n=56 with strategy pure_random, len(result)=79\n",
      "Done greedy for n=52 with strategy pure_random, len(result)=74\n",
      "Done greedy for n=58 with strategy pure_random, len(result)=84\n",
      "Done greedy for n=57 with strategy pure_random, len(result)=85\n",
      "Done greedy for n=59 with strategy pure_random, len(result)=84\n",
      "Done greedy for n=60 with strategy pure_random, len(result)=89\n",
      "Done greedy for n=62 with strategy pure_random, len(result)=87\n",
      "Done greedy for n=64 with strategy pure_random, len(result)=95\n",
      "Done greedy for n=61 with strategy pure_random, len(result)=91\n",
      "Done greedy for n=66 with strategy pure_random, len(result)=96\n",
      "Done greedy for n=65 with strategy pure_random, len(result)=94\n",
      "Done greedy for n=69 with strategy pure_random, len(result)=102\n",
      "Done greedy for n=68 with strategy pure_random, len(result)=98\n",
      "Done greedy for n=63 with strategy pure_random, len(result)=95\n",
      "Done greedy for n=71 with strategy pure_random, len(result)=104\n",
      "Done greedy for n=70 with strategy pure_random, len(result)=106\n",
      "Done greedy for n=67 with strategy pure_random, len(result)=98\n",
      "Done greedy for n=73 with strategy pure_random, len(result)=104\n",
      "Done greedy for n=72 with strategy pure_random, len(result)=105\n",
      "Done greedy for n=74 with strategy pure_random, len(result)=107\n",
      "Done greedy for n=76 with strategy pure_random, len(result)=111\n",
      "Done greedy for n=75 with strategy pure_random, len(result)=107\n",
      "Done greedy for n=77 with strategy pure_random, len(result)=115\n",
      "Done greedy for n=79 with strategy pure_random, len(result)=115\n",
      "Done greedy for n=78 with strategy pure_random, len(result)=114\n",
      "Done greedy for n=81 with strategy pure_random, len(result)=120\n",
      "Done greedy for n=84 with strategy pure_random, len(result)=121\n",
      "Done greedy for n=82 with strategy pure_random, len(result)=120\n",
      "Done greedy for n=85 with strategy pure_random, len(result)=123\n",
      "Done greedy for n=87 with strategy pure_random, len(result)=129\n",
      "Done greedy for n=80 with strategy pure_random, len(result)=114\n",
      "Done greedy for n=83 with strategy pure_random, len(result)=120\n",
      "Done greedy for n=86 with strategy pure_random, len(result)=123\n",
      "Done greedy for n=88 with strategy pure_random, len(result)=131\n",
      "Done greedy for n=90 with strategy pure_random, len(result)=131\n",
      "Done greedy for n=89 with strategy pure_random, len(result)=130\n",
      "Done greedy for n=93 with strategy pure_random, len(result)=134\n",
      "Done greedy for n=92 with strategy pure_random, len(result)=134\n",
      "Done greedy for n=91 with strategy pure_random, len(result)=130\n",
      "Done greedy for n=94 with strategy pure_random, len(result)=138\n",
      "Done greedy for n=95 with strategy pure_random, len(result)=139\n",
      "Done greedy for n=96 with strategy pure_random, len(result)=136\n",
      "Done greedy for n=97 with strategy pure_random, len(result)=138\n",
      "Done greedy for n=99 with strategy pure_random, len(result)=144\n",
      "Done greedy for n=98 with strategy pure_random, len(result)=144\n",
      "Done greedy for n=104 with strategy pure_random, len(result)=151\n",
      "Done greedy for n=105 with strategy pure_random, len(result)=152\n",
      "Done greedy for n=103 with strategy pure_random, len(result)=146\n",
      "Done greedy for n=106 with strategy pure_random, len(result)=156\n",
      "Done greedy for n=100 with strategy pure_random, len(result)=144\n",
      "Done greedy for n=107 with strategy pure_random, len(result)=149\n",
      "Done greedy for n=101 with strategy pure_random, len(result)=149\n",
      "Done greedy for n=102 with strategy pure_random, len(result)=151\n",
      "Done greedy for n=109 with strategy pure_random, len(result)=157\n",
      "Done greedy for n=110 with strategy pure_random, len(result)=160\n",
      "Done greedy for n=111 with strategy pure_random, len(result)=159\n",
      "Done greedy for n=113 with strategy pure_random, len(result)=160\n",
      "Done greedy for n=114 with strategy pure_random, len(result)=162\n",
      "Done greedy for n=108 with strategy pure_random, len(result)=156\n",
      "Done greedy for n=112 with strategy pure_random, len(result)=162\n",
      "Done greedy for n=115 with strategy pure_random, len(result)=168\n",
      "Done greedy for n=116 with strategy pure_random, len(result)=166\n",
      "Done greedy for n=118 with strategy pure_random, len(result)=166\n",
      "Done greedy for n=117 with strategy pure_random, len(result)=167\n",
      "Done greedy for n=120 with strategy pure_random, len(result)=172\n",
      "Done greedy for n=123 with strategy pure_random, len(result)=181\n",
      "Done greedy for n=124 with strategy pure_random, len(result)=182\n",
      "Done greedy for n=125 with strategy pure_random, len(result)=180\n",
      "Done greedy for n=119 with strategy pure_random, len(result)=168\n",
      "Done greedy for n=126 with strategy pure_random, len(result)=184\n",
      "Done greedy for n=128 with strategy pure_random, len(result)=186\n",
      "Done greedy for n=121 with strategy pure_random, len(result)=178\n",
      "Done greedy for n=122 with strategy pure_random, len(result)=179\n",
      "Done greedy for n=129 with strategy pure_random, len(result)=188\n",
      "Done greedy for n=130 with strategy pure_random, len(result)=189\n",
      "Done greedy for n=131 with strategy pure_random, len(result)=190\n",
      "Done greedy for n=132 with strategy pure_random, len(result)=191\n",
      "Done greedy for n=134 with strategy pure_random, len(result)=196\n",
      "Done greedy for n=127 with strategy pure_random, len(result)=189\n",
      "Done greedy for n=133 with strategy pure_random, len(result)=190\n",
      "Done greedy for n=135 with strategy pure_random, len(result)=194\n",
      "Done greedy for n=136 with strategy pure_random, len(result)=198\n",
      "Done greedy for n=137 with strategy pure_random, len(result)=199\n",
      "Done greedy for n=139 with strategy pure_random, len(result)=198\n",
      "Done greedy for n=140 with strategy pure_random, len(result)=205\n",
      "Done greedy for n=142 with strategy pure_random, len(result)=203\n",
      "Done greedy for n=143 with strategy pure_random, len(result)=209\n",
      "Done greedy for n=138 with strategy pure_random, len(result)=200\n",
      "Done greedy for n=144 with strategy pure_random, len(result)=212\n",
      "Done greedy for n=145 with strategy pure_random, len(result)=211\n",
      "Done greedy for n=147 with strategy pure_random, len(result)=215\n",
      "Done greedy for n=141 with strategy pure_random, len(result)=204\n",
      "Done greedy for n=150 with strategy pure_random, len(result)=215\n",
      "Done greedy for n=149 with strategy pure_random, len(result)=212\n",
      "Done greedy for n=153 with strategy pure_random, len(result)=216\n",
      "Done greedy for n=152 with strategy pure_random, len(result)=221\n",
      "Done greedy for n=151 with strategy pure_random, len(result)=220\n",
      "Done greedy for n=146 with strategy pure_random, len(result)=214\n",
      "Done greedy for n=154 with strategy pure_random, len(result)=221\n",
      "Done greedy for n=148 with strategy pure_random, len(result)=211\n",
      "Done greedy for n=155 with strategy pure_random, len(result)=223\n",
      "Done greedy for n=156 with strategy pure_random, len(result)=222\n",
      "Done greedy for n=157 with strategy pure_random, len(result)=229\n",
      "Done greedy for n=159 with strategy pure_random, len(result)=228\n",
      "Done greedy for n=161 with strategy pure_random, len(result)=238\n",
      "Done greedy for n=162 with strategy pure_random, len(result)=236\n",
      "Done greedy for n=163 with strategy pure_random, len(result)=235\n",
      "Done greedy for n=164 with strategy pure_random, len(result)=237\n",
      "Done greedy for n=165 with strategy pure_random, len(result)=244\n",
      "Done greedy for n=166 with strategy pure_random, len(result)=237\n",
      "Done greedy for n=158 with strategy pure_random, len(result)=230\n",
      "Done greedy for n=160 with strategy pure_random, len(result)=232\n",
      "Done greedy for n=168 with strategy pure_random, len(result)=240\n",
      "Done greedy for n=170 with strategy pure_random, len(result)=244\n",
      "Done greedy for n=171 with strategy pure_random, len(result)=245\n",
      "Done greedy for n=172 with strategy pure_random, len(result)=248\n",
      "Done greedy for n=167 with strategy pure_random, len(result)=239\n",
      "Done greedy for n=173 with strategy pure_random, len(result)=248\n",
      "Done greedy for n=174 with strategy pure_random, len(result)=249\n",
      "Done greedy for n=169 with strategy pure_random, len(result)=239\n",
      "Done greedy for n=175 with strategy pure_random, len(result)=248\n",
      "Done greedy for n=176 with strategy pure_random, len(result)=248\n",
      "Done greedy for n=177 with strategy pure_random, len(result)=247\n",
      "Done greedy for n=178 with strategy pure_random, len(result)=256\n",
      "Done greedy for n=179 with strategy pure_random, len(result)=257\n",
      "Done greedy for n=180 with strategy pure_random, len(result)=256\n",
      "Done greedy for n=183 with strategy pure_random, len(result)=257\n",
      "Done greedy for n=184 with strategy pure_random, len(result)=264\n",
      "Done greedy for n=185 with strategy pure_random, len(result)=266\n",
      "Done greedy for n=182 with strategy pure_random, len(result)=261\n",
      "Done greedy for n=187 with strategy pure_random, len(result)=262\n",
      "Done greedy for n=190 with strategy pure_random, len(result)=265\n",
      "Done greedy for n=181 with strategy pure_random, len(result)=258\n",
      "Done greedy for n=188 with strategy pure_random, len(result)=269\n",
      "Done greedy for n=191 with strategy pure_random, len(result)=270\n",
      "Done greedy for n=192 with strategy pure_random, len(result)=273\n",
      "Done greedy for n=193 with strategy pure_random, len(result)=276\n",
      "Done greedy for n=186 with strategy pure_random, len(result)=275\n",
      "Done greedy for n=194 with strategy pure_random, len(result)=275\n",
      "Done greedy for n=189 with strategy pure_random, len(result)=275\n",
      "Done greedy for n=195 with strategy pure_random, len(result)=276\n",
      "Done greedy for n=196 with strategy pure_random, len(result)=276\n",
      "Done greedy for n=197 with strategy pure_random, len(result)=282\n",
      "Done greedy for n=198 with strategy pure_random, len(result)=278\n",
      "Done greedy for n=199 with strategy pure_random, len(result)=279\n",
      "Done greedy for n=200 with strategy pure_random, len(result)=286\n"
     ]
    }
   ],
   "source": [
    "inputs = [(n, 'pure_random') for n in range(lb, ub+1, step)]\n",
    "\n",
    "results_pure_random = run_greedy_for_strategy(inputs)\n",
    "\n",
    "\n",
    "results_pure_random = [res for (_, res) in results_pure_random]\n",
    "\n",
    "results_pure_random_raw = [res[2] for res in results_pure_random]\n",
    "\n",
    "results_pure_random = [res[:2] for res in results_pure_random]\n",
    "\n"
   ]
  },
  {
   "cell_type": "code",
   "execution_count": 40,
   "id": "7d978e37",
   "metadata": {
    "vscode": {
     "languageId": "sage"
    }
   },
   "outputs": [],
   "source": [
    "results = {\n",
    "    'pure_random_count': results_pure_random,\n",
    "}"
   ]
  },
  {
   "cell_type": "code",
   "execution_count": 41,
   "id": "624ce9fc",
   "metadata": {
    "vscode": {
     "languageId": "sage"
    }
   },
   "outputs": [
    {
     "name": "stdout",
     "output_type": "stream",
     "text": [
      "{'pure_random_count': [(30, 44), (31, 45), (32, 47), (33, 48), (34, 48), (35, 52), (36, 52), (37, 55), (38, 57), (40, 58), (41, 58), (39, 57), (44, 63), (45, 65), (48, 70), (42, 59), (43, 63), (51, 73), (46, 68), (47, 71), (53, 79), (49, 70), (50, 71), (54, 81), (55, 82), (56, 79), (52, 74), (58, 84), (57, 85), (59, 84), (60, 89), (62, 87), (64, 95), (61, 91), (66, 96), (65, 94), (69, 102), (68, 98), (63, 95), (71, 104), (70, 106), (67, 98), (73, 104), (72, 105), (74, 107), (76, 111), (75, 107), (77, 115), (79, 115), (78, 114), (81, 120), (84, 121), (82, 120), (85, 123), (87, 129), (80, 114), (83, 120), (86, 123), (88, 131), (90, 131), (89, 130), (93, 134), (92, 134), (91, 130), (94, 138), (95, 139), (96, 136), (97, 138), (99, 144), (98, 144), (104, 151), (105, 152), (103, 146), (106, 156), (100, 144), (107, 149), (101, 149), (102, 151), (109, 157), (110, 160), (111, 159), (113, 160), (114, 162), (108, 156), (112, 162), (115, 168), (116, 166), (118, 166), (117, 167), (120, 172), (123, 181), (124, 182), (125, 180), (119, 168), (126, 184), (128, 186), (121, 178), (122, 179), (129, 188), (130, 189), (131, 190), (132, 191), (134, 196), (127, 189), (133, 190), (135, 194), (136, 198), (137, 199), (139, 198), (140, 205), (142, 203), (143, 209), (138, 200), (144, 212), (145, 211), (147, 215), (141, 204), (150, 215), (149, 212), (153, 216), (152, 221), (151, 220), (146, 214), (154, 221), (148, 211), (155, 223), (156, 222), (157, 229), (159, 228), (161, 238), (162, 236), (163, 235), (164, 237), (165, 244), (166, 237), (158, 230), (160, 232), (168, 240), (170, 244), (171, 245), (172, 248), (167, 239), (173, 248), (174, 249), (169, 239), (175, 248), (176, 248), (177, 247), (178, 256), (179, 257), (180, 256), (183, 257), (184, 264), (185, 266), (182, 261), (187, 262), (190, 265), (181, 258), (188, 269), (191, 270), (192, 273), (193, 276), (186, 275), (194, 275), (189, 275), (195, 276), (196, 276), (197, 282), (198, 278), (199, 279), (200, 286)]}\n"
     ]
    }
   ],
   "source": [
    "print(results)"
   ]
  },
  {
   "cell_type": "markdown",
   "id": "266cc142",
   "metadata": {},
   "source": [
    "## Analysis"
   ]
  },
  {
   "cell_type": "code",
   "execution_count": 2,
   "id": "912f5019",
   "metadata": {
    "vscode": {
     "languageId": "sage"
    }
   },
   "outputs": [],
   "source": [
    "results = {'pure_random_count': [(30, 44), (31, 45), (32, 47), (33, 48), (34, 48), (35, 52), (36, 52), (37, 55), (38, 57), (40, 58), (41, 58), (39, 57), (44, 63), (45, 65), (48, 70), (42, 59), (43, 63), (51, 73), (46, 68), (47, 71), (53, 79), (49, 70), (50, 71), (54, 81), (55, 82), (56, 79), (52, 74), (58, 84), (57, 85), (59, 84), (60, 89), (62, 87), (64, 95), (61, 91), (66, 96), (65, 94), (69, 102), (68, 98), (63, 95), (71, 104), (70, 106), (67, 98), (73, 104), (72, 105), (74, 107), (76, 111), (75, 107), (77, 115), (79, 115), (78, 114), (81, 120), (84, 121), (82, 120), (85, 123), (87, 129), (80, 114), (83, 120), (86, 123), (88, 131), (90, 131), (89, 130), (93, 134), (92, 134), (91, 130), (94, 138), (95, 139), (96, 136), (97, 138), (99, 144), (98, 144), (104, 151), (105, 152), (103, 146), (106, 156), (100, 144), (107, 149), (101, 149), (102, 151), (109, 157), (110, 160), (111, 159), (113, 160), (114, 162), (108, 156), (112, 162), (115, 168), (116, 166), (118, 166), (117, 167), (120, 172), (123, 181), (124, 182), (125, 180), (119, 168), (126, 184), (128, 186), (121, 178), (122, 179), (129, 188), (130, 189), (131, 190), (132, 191), (134, 196), (127, 189), (133, 190), (135, 194), (136, 198), (137, 199), (139, 198), (140, 205), (142, 203), (143, 209), (138, 200), (144, 212), (145, 211), (147, 215), (141, 204), (150, 215), (149, 212), (153, 216), (152, 221), (151, 220), (146, 214), (154, 221), (148, 211), (155, 223), (156, 222), (157, 229), (159, 228), (161, 238), (162, 236), (163, 235), (164, 237), (165, 244), (166, 237), (158, 230), (160, 232), (168, 240), (170, 244), (171, 245), (172, 248), (167, 239), (173, 248), (174, 249), (169, 239), (175, 248), (176, 248), (177, 247), (178, 256), (179, 257), (180, 256), (183, 257), (184, 264), (185, 266), (182, 261), (187, 262), (190, 265), (181, 258), (188, 269), (191, 270), (192, 273), (193, 276), (186, 275), (194, 275), (189, 275), (195, 276), (196, 276), (197, 282), (198, 278), (199, 279), (200, 286)]}\n"
   ]
  },
  {
   "cell_type": "code",
   "execution_count": 3,
   "id": "7f8bdc40",
   "metadata": {
    "vscode": {
     "languageId": "sage"
    }
   },
   "outputs": [],
   "source": [
    "import matplotlib.pyplot as plt"
   ]
  },
  {
   "cell_type": "code",
   "execution_count": 4,
   "id": "43c9021d",
   "metadata": {
    "vscode": {
     "languageId": "sage"
    }
   },
   "outputs": [
    {
     "data": {
      "image/png": "[encoded data removed]",
      "text/plain": [
       "<Figure size 800x500 with 1 Axes>"
      ]
     },
     "metadata": {},
     "output_type": "display_data"
    }
   ],
   "source": [
    "for strategy in results:\n",
    "    results[strategy].sort(key=lambda x: x[0])\n",
    "\n",
    "plt.figure(figsize=(8, 5))\n",
    "for strategy, result_list in results.items():\n",
    "    if result_list:\n",
    "        ns, sizes = zip(*result_list)\n",
    "        plt.plot(ns, sizes, marker='o', label=strategy, linestyle='-')\n",
    "\n",
    "plt.title(\"Size of No-3-in-Line Set vs Grid Size (n)\")\n",
    "plt.xlabel(\"Grid size n\")\n",
    "plt.ylabel(\"Set size\")\n",
    "plt.grid(True)\n",
    "plt.legend()\n",
    "plt.show()"
   ]
  },
  {
   "cell_type": "code",
   "execution_count": 5,
   "id": "2d65c9f1",
   "metadata": {
    "vscode": {
     "languageId": "sage"
    }
   },
   "outputs": [
    {
     "name": "stdout",
     "output_type": "stream",
     "text": [
      "pure_random_count: slope ≈ 1.4188\n",
      "{'pure_random_count': [(30, 44), (31, 45), (32, 47), (33, 48), (34, 48), (35, 52), (36, 52), (37, 55), (38, 57), (39, 57), (40, 58), (41, 58), (42, 59), (43, 63), (44, 63), (45, 65), (46, 68), (47, 71), (48, 70), (49, 70), (50, 71), (51, 73), (52, 74), (53, 79), (54, 81), (55, 82), (56, 79), (57, 85), (58, 84), (59, 84), (60, 89), (61, 91), (62, 87), (63, 95), (64, 95), (65, 94), (66, 96), (67, 98), (68, 98), (69, 102), (70, 106), (71, 104), (72, 105), (73, 104), (74, 107), (75, 107), (76, 111), (77, 115), (78, 114), (79, 115), (80, 114), (81, 120), (82, 120), (83, 120), (84, 121), (85, 123), (86, 123), (87, 129), (88, 131), (89, 130), (90, 131), (91, 130), (92, 134), (93, 134), (94, 138), (95, 139), (96, 136), (97, 138), (98, 144), (99, 144), (100, 144), (101, 149), (102, 151), (103, 146), (104, 151), (105, 152), (106, 156), (107, 149), (108, 156), (109, 157), (110, 160), (111, 159), (112, 162), (113, 160), (114, 162), (115, 168), (116, 166), (117, 167), (118, 166), (119, 168), (120, 172), (121, 178), (122, 179), (123, 181), (124, 182), (125, 180), (126, 184), (127, 189), (128, 186), (129, 188), (130, 189), (131, 190), (132, 191), (133, 190), (134, 196), (135, 194), (136, 198), (137, 199), (138, 200), (139, 198), (140, 205), (141, 204), (142, 203), (143, 209), (144, 212), (145, 211), (146, 214), (147, 215), (148, 211), (149, 212), (150, 215), (151, 220), (152, 221), (153, 216), (154, 221), (155, 223), (156, 222), (157, 229), (158, 230), (159, 228), (160, 232), (161, 238), (162, 236), (163, 235), (164, 237), (165, 244), (166, 237), (167, 239), (168, 240), (169, 239), (170, 244), (171, 245), (172, 248), (173, 248), (174, 249), (175, 248), (176, 248), (177, 247), (178, 256), (179, 257), (180, 256), (181, 258), (182, 261), (183, 257), (184, 264), (185, 266), (186, 275), (187, 262), (188, 269), (189, 275), (190, 265), (191, 270), (192, 273), (193, 276), (194, 275), (195, 276), (196, 276), (197, 282), (198, 278), (199, 279), (200, 286)]}\n"
     ]
    }
   ],
   "source": [
    "for method, points in results.items():\n",
    "    x_vals = [p[0] for p in points]\n",
    "    y_vals = [p[1] for p in points]\n",
    "    data = list(zip(x_vals, y_vals))\n",
    "    \n",
    "    var('a b t')\n",
    "    model(t) = a * t + b\n",
    "    fit = find_fit(data, model, solution_dict=True)\n",
    "    slope = fit[a]\n",
    "    print(f\"{method}: slope ≈ {slope:.4f}\")\n",
    "\n",
    "print(results)"
   ]
  },
  {
   "cell_type": "code",
   "execution_count": 6,
   "id": "06f8b82c",
   "metadata": {
    "vscode": {
     "languageId": "sage"
    }
   },
   "outputs": [],
   "source": [
    "data = results['pure_random_count']"
   ]
  },
  {
   "cell_type": "code",
   "execution_count": 7,
   "id": "307072d5",
   "metadata": {
    "vscode": {
     "languageId": "sage"
    }
   },
   "outputs": [
    {
     "data": {
      "image/png": "[encoded data removed]",
      "text/plain": [
       "<Figure size 1000x600 with 1 Axes>"
      ]
     },
     "metadata": {},
     "output_type": "display_data"
    }
   ],
   "source": [
    "slopes = [length / n * 1.0 for n, length in data]\n",
    "\n",
    "# Plot frequency distribution\n",
    "plt.figure(figsize=(10, 6))\n",
    "plt.hist(slopes, bins=15, edgecolor='black')\n",
    "plt.title('Frequency Distribution of Slopes (len / n)')\n",
    "plt.xlabel('Slope')\n",
    "plt.ylabel('Frequency')\n",
    "plt.grid(True)\n",
    "plt.tight_layout()\n",
    "plt.show()"
   ]
  },
  {
   "cell_type": "code",
   "execution_count": 8,
   "id": "7ab4ccd8",
   "metadata": {
    "vscode": {
     "languageId": "sage"
    }
   },
   "outputs": [
    {
     "data": {
      "image/png": "[encoded data removed]",
      "text/plain": [
       "<Figure size 1000x200 with 1 Axes>"
      ]
     },
     "metadata": {},
     "output_type": "display_data"
    }
   ],
   "source": [
    "# Generate horizontal box plot of the slopes\n",
    "plt.figure(figsize=(10, 2))\n",
    "plt.boxplot(slopes, vert=False, patch_artist=True, boxprops=dict(facecolor='lightblue'))\n",
    "plt.title('Horizontal Box Plot of Slopes (len / n)')\n",
    "plt.xlabel('Slope')\n",
    "plt.grid(True)\n",
    "plt.tight_layout()\n",
    "plt.show()\n"
   ]
  },
  {
   "cell_type": "code",
   "execution_count": 9,
   "id": "e9e383a1",
   "metadata": {
    "vscode": {
     "languageId": "sage"
    }
   },
   "outputs": [
    {
     "data": {
      "text/plain": [
       "1.44627718644377"
      ]
     },
     "execution_count": 9,
     "metadata": {},
     "output_type": "execute_result"
    }
   ],
   "source": [
    "mean_slope = sum(slopes) / len(slopes)\n",
    "mean_slope"
   ]
  },
  {
   "cell_type": "code",
   "execution_count": null,
   "id": "e2d506bc",
   "metadata": {
    "vscode": {
     "languageId": "sage"
    }
   },
   "outputs": [],
   "source": []
  }
 ],
 "metadata": {
  "kernelspec": {
   "display_name": "SageMath 10.6",
   "language": "sage",
   "name": "sagemath"
  },
  "language_info": {
   "codemirror_mode": {
    "name": "ipython",
    "version": 3
   },
   "file_extension": ".py",
   "mimetype": "text/x-python",
   "name": "python",
   "nbconvert_exporter": "python",
   "pygments_lexer": "ipython3",
   "version": "3.11.12"
  }
 },
 "nbformat": 4,
 "nbformat_minor": 5
}
