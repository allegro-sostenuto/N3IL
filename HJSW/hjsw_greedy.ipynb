{
 "cells": [
  {
   "cell_type": "markdown",
   "id": "9c471daf",
   "metadata": {},
   "source": [
    "## Persistent"
   ]
  },
  {
   "cell_type": "code",
   "execution_count": 1,
   "id": "7235d5e4",
   "metadata": {
    "vscode": {
     "languageId": "sage"
    }
   },
   "outputs": [],
   "source": [
    "import sys\n",
    "import time\n",
    "import re\n",
    "import random\n",
    "import itertools\n",
    "import pprint\n",
    "import math\n",
    "import psutil\n",
    "\n",
    "import numpy as np\n",
    "import matplotlib.pyplot as plt\n",
    "import matplotlib.image as mpimg\n",
    "import matplotlib.patches as patches\n",
    "\n",
    "from collections import defaultdict\n",
    "from typing import Tuple, List, Set, Callable, NamedTuple, Union, Optional, Iterable, Dict\n",
    "from multiprocessing import Pool\n",
    "\n",
    "\n"
   ]
  },
  {
   "cell_type": "code",
   "execution_count": 2,
   "id": "8456e009",
   "metadata": {
    "vscode": {
     "languageId": "sage"
    }
   },
   "outputs": [],
   "source": [
    "CPU_CORES = 16"
   ]
  },
  {
   "cell_type": "code",
   "execution_count": 3,
   "id": "fe508cd9",
   "metadata": {
    "vscode": {
     "languageId": "sage"
    }
   },
   "outputs": [],
   "source": [
    "class Point(NamedTuple):\n",
    "    \"\"\"An integer point in 2D space.\"\"\"\n",
    "    x: int\n",
    "    y: int"
   ]
  },
  {
   "cell_type": "code",
   "execution_count": 4,
   "id": "67fcf4e2",
   "metadata": {
    "vscode": {
     "languageId": "sage"
    }
   },
   "outputs": [],
   "source": [
    "class Line:\n",
    "    \"\"\"\n",
    "    Represents a line defined by a rational slope and a point on the line.\n",
    "\n",
    "    Attributes:\n",
    "        slope (Union[QQ, str]): Rational slope of the line, or 'inf' for vertical lines.\n",
    "        point (Point): An arbitrary point on the line.\n",
    "        a (QQ): Coefficient of x in the standard form.\n",
    "        b (QQ): Coefficient of y in the standard form.\n",
    "        c (QQ): Constant term in the standard form.\n",
    "    \"\"\"\n",
    "\n",
    "    def __init__(self, slope: Union[QQ, str], point: Point):\n",
    "        \"\"\"\n",
    "        Initialize a line with a given slope and a point on the line.\n",
    "\n",
    "        Args:\n",
    "            slope (Union[QQ, str]): Rational slope of the line, or 'inf' for vertical lines.\n",
    "            point (Point): A point on the line.\n",
    "        \"\"\"\n",
    "        self.slope = slope\n",
    "        self.point = point\n",
    "\n",
    "        x0, y0 = point.x, point.y\n",
    "        if slope == 'inf':\n",
    "            self.a = QQ(1)\n",
    "            self.b = QQ(0)\n",
    "            self.c = -QQ(x0)\n",
    "        else:\n",
    "            m = slope\n",
    "            self.a = -m\n",
    "            self.b = QQ(1)\n",
    "            self.c = m * x0 - y0\n",
    "\n",
    "    @classmethod\n",
    "    def from_points(cls, p1: Point, p2: Point) -> 'Line':\n",
    "        dx = p2.x - p1.x\n",
    "        dy = p2.y - p1.y\n",
    "        if dx == 0:\n",
    "            slope = 'inf'\n",
    "        else:\n",
    "            slope = QQ(dy) / QQ(dx)\n",
    "        return cls(slope, p1)\n",
    "\n",
    "    @classmethod\n",
    "    def from_point_slope_of_line(cls, p: Point, slope: Union[QQ, str]) -> 'Line':\n",
    "        return cls(slope, p)\n",
    "    \n",
    "    @classmethod\n",
    "    def from_standard_form(cls, a: QQ, b: QQ, c: QQ) -> 'Line':\n",
    "        if b == 0:\n",
    "            slope = 'inf'\n",
    "        else:\n",
    "            slope = -a / b\n",
    "        if slope == 'inf':\n",
    "            point = Point(0, -c / b)\n",
    "        else:\n",
    "            point = Point(0, c / b)\n",
    "        return cls(slope, point)\n"
   ]
  },
  {
   "cell_type": "code",
   "execution_count": 5,
   "id": "d2e3f182",
   "metadata": {
    "vscode": {
     "languageId": "sage"
    }
   },
   "outputs": [],
   "source": [
    "\n",
    "def slope_of_line(p1: Point, p2: Point) -> Union[QQ, str]:\n",
    "    \"\"\"\n",
    "    Calculate the slope of the line segment connecting two points.\n",
    "\n",
    "    Args:\n",
    "        p1 (Point): The first point as a named tuple with integer coordinates (x, y).\n",
    "        p2 (Point): The second point as a named tuple with integer coordinates (x, y).\n",
    "\n",
    "    Returns:\n",
    "        Union[QQ, str]: The slope as a rational number (QQ) if defined, otherwise the string 'inf' if the line is vertical.\n",
    "    \"\"\"\n",
    "    x1, y1 = p1\n",
    "    x2, y2 = p2\n",
    "    dx = x2 - x1\n",
    "    dy = y2 - y1\n",
    "    if dx == 0:\n",
    "        return 'inf'\n",
    "    return QQ(dy) / QQ(dx)"
   ]
  },
  {
   "cell_type": "code",
   "execution_count": 6,
   "id": "8879d3dd",
   "metadata": {
    "vscode": {
     "languageId": "sage"
    }
   },
   "outputs": [],
   "source": [
    "def are_collinear(p1: Point, p2: Point, p3: Point) -> bool:\n",
    "    \"\"\"\n",
    "    Determine if three points are collinear.\n",
    "\n",
    "    Args:\n",
    "        p1 (Point): The first point as a named tuple with integer coordinates (x, y).\n",
    "        p2 (Point): The second point as a named tuple with integer coordinates (x, y).\n",
    "        p3 (Point): The third point as a named tuple with integer coordinates (x, y).\n",
    "\n",
    "    Returns:\n",
    "        bool: True if the three points are collinear, False otherwise.\n",
    "    \"\"\"\n",
    "    x1, y1 = p1\n",
    "    x2, y2 = p2\n",
    "    x3, y3 = p3\n",
    "    return (y1 - y2) * (x1 - x3) == (y1 - y3) * (x1 - x2)"
   ]
  },
  {
   "cell_type": "code",
   "execution_count": 7,
   "id": "2348f787",
   "metadata": {
    "vscode": {
     "languageId": "sage"
    }
   },
   "outputs": [],
   "source": [
    "def find_missing_data(data: Dict[str, Iterable[Tuple[Union[int, str], Union[int, str]]]]) -> Dict[str, Iterable[Tuple[int, Union[int, str]]]]:\n",
    "    \"\"\"\n",
    "    Identify entries with missing data labeled as 'NO DATA' in intervals.\n",
    "\n",
    "    Args:\n",
    "        data (Dict[str, Iterable[Tuple[Union[int, str], Union[int, str]]]]): Dictionary mapping keys to iterables of (start, end) intervals.\n",
    "\n",
    "    Returns:\n",
    "        Dict[str, Iterable[Tuple[int, Union[int, str]]]]: Dictionary mapping keys to iterables of tuples containing the index of the interval and the start value where 'NO DATA' occurs.\n",
    "    \"\"\"\n",
    "    missing = {}\n",
    "    for key, intervals in data.items():\n",
    "        missing_entries = []\n",
    "        for i, (start, end) in enumerate(intervals):\n",
    "            if end == 'NO DATA':\n",
    "                missing_entries.append((i, start))\n",
    "        if missing_entries:\n",
    "            missing[key] = missing_entries\n",
    "    return missing"
   ]
  },
  {
   "cell_type": "code",
   "execution_count": 8,
   "id": "9ff7bcb8",
   "metadata": {
    "vscode": {
     "languageId": "sage"
    }
   },
   "outputs": [],
   "source": [
    "def points_on_line_pp(p1: Point, p2: Point, grid_size: int) -> Set[Point]:\n",
    "    \"\"\"\n",
    "    Generate points with integer coordinates on the line segment between two points,\n",
    "    assuming the segment lies on a line with rational slope and intercept.\n",
    "\n",
    "    Args:\n",
    "        p1 (Point): The first point as a named tuple with integer coordinates (x, y).\n",
    "        p2 (Point): The second point as a named tuple with integer coordinates (x, y).\n",
    "\n",
    "    Returns:\n",
    "        Set[Point]: Set of points on the line segment from p1 to p2.\n",
    "    \"\"\"\n",
    "    s = slope_of_line(p1, p2)\n",
    "    if s == 'inf':\n",
    "        x = p1.x\n",
    "        return {Point(x, y) for y in range(grid_size+1) if 0 < y <= grid_size and 0 < x <= grid_size}\n",
    "    a = s\n",
    "    b = QQ(p1.y) - a * QQ(p1.x)\n",
    "    return {Point(x, int(y)) for x in range(grid_size+1)\n",
    "            if (y := a * QQ(x) + b).denominator() == 1 and 0 < y <= grid_size and 0 < x <= grid_size}\n"
   ]
  },
  {
   "cell_type": "code",
   "execution_count": 9,
   "id": "c43fbfd7",
   "metadata": {
    "vscode": {
     "languageId": "sage"
    }
   },
   "outputs": [],
   "source": [
    "def points_on_line_l(line: Line, grid_size: int) -> Set[Point]:\n",
    "    \"\"\"\n",
    "    Generate points with integer coordinates on the line defined by the given line object.\n",
    "\n",
    "    Args:\n",
    "        line (Line): The line object representing the line.\n",
    "        grid_size (int): The size of the grid.\n",
    "\n",
    "    Returns:\n",
    "        Set[Point]: Set of points on the line within the grid size.\n",
    "    \"\"\"\n",
    "    a = line.slope\n",
    "    p = line.point\n",
    "    if a == 'inf':\n",
    "        x = p.x\n",
    "        return {Point(x, y) for y in range(grid_size+1) if 0 < y <= grid_size and 0 < x <= grid_size}\n",
    "    b = QQ(p.y) - a * QQ(p.x)\n",
    "    return {Point(x, int(y)) for x in range(grid_size+1)\n",
    "            if (y := a * QQ(x) + b).denominator() == 1 and 0 < y <= grid_size and 0 < x <= grid_size}\n"
   ]
  },
  {
   "cell_type": "code",
   "execution_count": 10,
   "id": "eb68cf19",
   "metadata": {
    "vscode": {
     "languageId": "sage"
    }
   },
   "outputs": [],
   "source": [
    "def plot_points(points: Iterable[tuple], n: Optional[int] = None, title: str = \"Points Plot\", zero_index: bool = False):\n",
    "    \"\"\"\n",
    "    Plot a set of points on an n x n grid.\n",
    "\n",
    "    Args:\n",
    "        points (Iterable[Tuple[int, int]]): Iterable of points to plot.\n",
    "        n (Optional[int]): Grid size. If None, inferred from points.\n",
    "        title (str): Title of the plot.\n",
    "        zero_index (bool): If True, axes range from 0 to p-1. If False, from 1 to p.\n",
    "\n",
    "    Returns:\n",
    "        None\n",
    "    \"\"\"\n",
    "    points = list(points)\n",
    "    if not points:\n",
    "        print(\"No points to plot.\")\n",
    "        return\n",
    "\n",
    "    xs, ys = zip(*points)\n",
    "    offset = 0 if zero_index else 1\n",
    "    if n is None:\n",
    "        n = max(max(xs), max(ys)) + 1\n",
    "\n",
    "    fig, ax = plt.subplots(figsize=(6, 6))\n",
    "    ax.scatter(xs, ys, s=100, c='blue', edgecolors='black')\n",
    "    ax.set_xticks(range(offset, n + 1))\n",
    "    ax.set_yticks(range(offset, n + 1))\n",
    "\n",
    "    ax.grid(True, linestyle='--', alpha=0.5)\n",
    "    ax.set_aspect('equal', adjustable='box')\n",
    "    ax.set_title(title)\n",
    "    ax.set_xlabel('x')\n",
    "    ax.set_ylabel('y')\n",
    "    ax.set_xlim(offset - 1, n if zero_index else n + 1)\n",
    "    ax.set_ylim(offset - 1, n if zero_index else n + 1)\n",
    "\n",
    "    return fig, ax\n"
   ]
  },
  {
   "cell_type": "code",
   "execution_count": 11,
   "id": "6d55231e",
   "metadata": {
    "vscode": {
     "languageId": "sage"
    }
   },
   "outputs": [],
   "source": [
    "def plot_lines(points: Iterable[Point], n: Optional[int] = None, title: str = \"Lines Plot\") -> None:\n",
    "    \"\"\"\n",
    "    Plot a set of points and the lines connecting them on an n x n grid.\n",
    "\n",
    "    Args:\n",
    "        points (Iterable[Point]): Iterable of points to plot.\n",
    "        n (Optional[int]): Grid size. If None, inferred from points.\n",
    "        title (str): Title of the plot.\n",
    "\n",
    "    Returns:\n",
    "        None\n",
    "    \"\"\"\n",
    "    xs, ys = zip(*[(pt.x, pt.y) for pt in points])\n",
    "    plt.scatter(xs, ys, s = 30, color='black')\n",
    "\n",
    "    remaining = {Point(x, y) for x in range(1, n + 1) for y in range(1, n + 1)}\n",
    "\n",
    "    seen_lines = set()\n",
    "\n",
    "    for p1, p2 in itertools.combinations(points, 2):\n",
    "        line = Line.from_points(p1, p2)\n",
    "        key = (line.a, line.b, line.c)\n",
    "        if key in seen_lines:\n",
    "            continue\n",
    "        seen_lines.add(key)\n",
    "\n",
    "        lattice_pts = points_on_line_l(line, n)\n",
    "\n",
    "        for pt in lattice_pts:\n",
    "            plt.scatter(pt.x, pt.y, color='red', s=10)\n",
    "        remaining.difference_update(lattice_pts)\n",
    "\n",
    "        pts = []\n",
    "        a, b, c = line.a, line.b, line.c\n",
    "        if b: pts += [(0, float(-c/b))] if 0 <= -c/b <= n+1 else []\n",
    "        if b: pts += [(n+1, float((-a*(n+1)-c)/b))] if 0 <= (-a*(n+1)-c)/b <= n+1 else []\n",
    "        if a: pts += [(float(-c/a), 0)] if 0 <= -c/a <= n+1 else []\n",
    "        if a: pts += [(float((-b*(n+1)-c)/a), n+1)] if 0 <= (-b*(n+1)-c)/a <= n+1 else []\n",
    "        x_vals, y_vals = zip(*pts)\n",
    "        plt.plot(x_vals, y_vals, color='gray', linewidth=0.5)\n",
    "\n",
    "    if remaining:\n",
    "        rx, ry = zip(*[(pt.x, pt.y) for pt in remaining])\n",
    "        plt.scatter(rx, ry, color='green', s=30, zorder=3)\n",
    "\n",
    "    plt.gca().set_aspect('equal')\n",
    "    plt.grid(True, which='both', linestyle='--', linewidth=0.5)\n",
    "    plt.xticks(range(1, n + 1))\n",
    "    plt.yticks(range(1, n + 1))\n",
    "    plt.show()\n"
   ]
  },
  {
   "cell_type": "code",
   "execution_count": 12,
   "id": "1bfefa91",
   "metadata": {
    "vscode": {
     "languageId": "sage"
    }
   },
   "outputs": [],
   "source": [
    "def greedy(n: int, priority: Callable[[Point], float], selected: Optional[Iterable[Point]] = set()) -> Set[Point]:\n",
    "    \"\"\"\n",
    "    Greedily select points based on a priority function.\n",
    "\n",
    "    Args:\n",
    "        n (int): Size of the grid.\n",
    "        priority (Callable[[Point], float]): Function to evaluate the priority of each point.\n",
    "        selected (Optional[Iterable[Point]]): Iterable of points already chosen. \n",
    "\n",
    "    Returns:\n",
    "        Set[Point]: Set of selected points.\n",
    "    \"\"\"\n",
    "    grid = [Point(x, y) for x in range(1, n + 1) for y in range(1, n + 1)]\n",
    "    shuffle(grid)\n",
    "\n",
    "    \n",
    "    candidates = set(grid) - set(selected)\n",
    "\n",
    "    unprocessed = set(selected)\n",
    "    while unprocessed:\n",
    "        p = unprocessed.pop()\n",
    "        candidates -= {\n",
    "            q\n",
    "            for s in selected\n",
    "            for q in points_on_line_pp(p, s, n) \n",
    "        }\n",
    "    \n",
    "        \n",
    "\n",
    "    priorities = {pt: priority(pt) for pt in candidates}\n",
    "\n",
    "    while candidates:\n",
    "        p = max(candidates, key=lambda pt: priorities[pt])\n",
    "\n",
    "        candidates -= {\n",
    "            q\n",
    "            for s in selected\n",
    "            for q in points_on_line_pp(p, s, n) \n",
    "        }\n",
    "\n",
    "        selected.add(p)\n",
    "    return selected"
   ]
  },
  {
   "cell_type": "markdown",
   "id": "ee382c9a",
   "metadata": {},
   "source": [
    "## HJSW"
   ]
  },
  {
   "cell_type": "code",
   "execution_count": 13,
   "id": "070eac3d",
   "metadata": {
    "vscode": {
     "languageId": "sage"
    }
   },
   "outputs": [],
   "source": [
    "def solns(k, p):\n",
    "    \"\"\"\n",
    "    Generate the set of solutions to xy ≡ k mod p over F_p.\n",
    "    \n",
    "    Args:\n",
    "        k (int): Integer.\n",
    "        p (int): Prime modulus.\n",
    "    \n",
    "    Returns:\n",
    "        Set[Tuple[int, int]]: Set of (x, y) ∈ F_p cross F_p such that xy ≡ k mod p.\n",
    "    \"\"\"\n",
    "    F = GF(p)\n",
    "    k_mod = F(k)\n",
    "    if k_mod == 0:\n",
    "        raise ValueError(\"k must not be zero in the field F_p\")\n",
    "    return {Point(int(x), int(k_mod / x)) for x in F if x != 0}"
   ]
  },
  {
   "cell_type": "code",
   "execution_count": 14,
   "id": "d6a8c784",
   "metadata": {
    "vscode": {
     "languageId": "sage"
    }
   },
   "outputs": [],
   "source": [
    "def swap_points(points: Iterable[Point], n: Optional[int] = None) -> set[Point]:\n",
    "    if n is None:\n",
    "        xs = [x for x, _ in points]\n",
    "        n = max(xs) + 1\n",
    "    m = (n + 1) // 2  # left half size\n",
    "    swapped = set()\n",
    "    for x, y in points:\n",
    "        if x < m:\n",
    "            x_new = x + n - m + 1 # shift left half to right\n",
    "        else:\n",
    "            x_new = x - m + 1     # shift right half to left\n",
    "        # x_new %= n\n",
    "        swapped.add(Point(x_new, y))\n",
    "    return swapped\n"
   ]
  },
  {
   "cell_type": "code",
   "execution_count": 15,
   "id": "1d6d3922",
   "metadata": {
    "vscode": {
     "languageId": "sage"
    }
   },
   "outputs": [],
   "source": [
    "\n",
    "\n",
    "def hall_construction_n3il(p: int, k: int = 1) -> Set[Point]:\n",
    "\n",
    "    \"\"\"\n",
    "    Generate a Hall construction for a no-3-in-line set of points in F_p using xy = k mod p.\n",
    "\n",
    "    Args:\n",
    "        p (int): Prime number defining the field F_p.\n",
    "        k (int): Integer such that xy ≡ k mod p.\n",
    "\n",
    "    Returns:\n",
    "        Set[Point]: Set of points in F_p cross F_p that form a no-3-in-line configuration.\n",
    "    \"\"\"\n",
    "\n",
    "\n",
    "    n_height = 2 * p\n",
    "    n_width = 3 * p\n",
    "\n",
    "    left_cut = (p - 1) // 2\n",
    "    right_cut = (p + 1) // 2\n",
    "\n",
    "    F = GF(p)\n",
    "    k_mod = F(k)\n",
    "    points = set()\n",
    "    for x in range(1 + left_cut, n_width + 1 - right_cut):\n",
    "        for y in range(1, n_height + 1):\n",
    "            if F(x) * F(y) == k_mod:\n",
    "                points.add(Point(x - left_cut, y))\n",
    "    return {pt for pt in points if not(p/2 < pt[0] < 3*p/2 and p/2 < pt[1] < 3*p/2)}"
   ]
  },
  {
   "cell_type": "markdown",
   "id": "93a49a44",
   "metadata": {},
   "source": [
    "## Priorities"
   ]
  },
  {
   "cell_type": "code",
   "execution_count": 16,
   "id": "f06ca202",
   "metadata": {
    "vscode": {
     "languageId": "sage"
    }
   },
   "outputs": [],
   "source": [
    "lb = 30\n",
    "ub = 200\n",
    "step = 1\n",
    "\n",
    "no_primes = 50\n"
   ]
  },
  {
   "cell_type": "code",
   "execution_count": 17,
   "id": "d2cd3569",
   "metadata": {
    "vscode": {
     "languageId": "sage"
    }
   },
   "outputs": [],
   "source": [
    "# NOISE = random.uniform(-0.1, 0.1) \n",
    "NOISE =  0"
   ]
  },
  {
   "cell_type": "code",
   "execution_count": 18,
   "id": "15041796",
   "metadata": {
    "vscode": {
     "languageId": "sage"
    }
   },
   "outputs": [],
   "source": [
    "def pure_random_priority(n):\n",
    "    def priority(point):\n",
    "        return 0\n",
    "    return priority\n"
   ]
  },
  {
   "cell_type": "code",
   "execution_count": 19,
   "id": "c1fa042a",
   "metadata": {
    "vscode": {
     "languageId": "sage"
    }
   },
   "outputs": [],
   "source": [
    "priority_functions = {\n",
    "    'pure_random' : pure_random_priority,\n",
    "}\n",
    "@parallel(ncpus=CPU_CORES)\n",
    "def run_greedy_for_strategy(n, strategy_name):\n",
    "    n_original = n\n",
    "    n //= 2\n",
    "    priority_func = priority_functions[strategy_name](n)\n",
    "    result = greedy(n, priority_func, hall_construction_n3il(n, k=1))\n",
    "    print(f\"Done greedy for n={n_original} with strategy {strategy_name}, len(result)={len(result)}\")\n",
    "    return (n_original, len(result), result)\n"
   ]
  },
  {
   "cell_type": "code",
   "execution_count": 20,
   "id": "aa6b5adf",
   "metadata": {
    "vscode": {
     "languageId": "sage"
    }
   },
   "outputs": [
    {
     "name": "stdout",
     "output_type": "stream",
     "text": [
      "Done greedy for n=4 with strategy pure_random, len(result)=6\n",
      "Done greedy for n=6 with strategy pure_random, len(result)=7\n",
      "Done greedy for n=10 with strategy pure_random, len(result)=13\n",
      "Done greedy for n=14 with strategy pure_random, len(result)=18\n",
      "Done greedy for n=22 with strategy pure_random, len(result)=30\n",
      "Done greedy for n=26 with strategy pure_random, len(result)=36\n",
      "Done greedy for n=34 with strategy pure_random, len(result)=49\n",
      "Done greedy for n=38 with strategy pure_random, len(result)=55\n",
      "Done greedy for n=46 with strategy pure_random, len(result)=66\n",
      "Done greedy for n=58 with strategy pure_random, len(result)=84\n",
      "Done greedy for n=62 with strategy pure_random, len(result)=90\n",
      "Done greedy for n=74 with strategy pure_random, len(result)=108\n",
      "Done greedy for n=82 with strategy pure_random, len(result)=120\n",
      "Done greedy for n=86 with strategy pure_random, len(result)=126\n",
      "Done greedy for n=94 with strategy pure_random, len(result)=138\n",
      "Done greedy for n=122 with strategy pure_random, len(result)=180\n",
      "Done greedy for n=106 with strategy pure_random, len(result)=157\n",
      "Done greedy for n=142 with strategy pure_random, len(result)=210\n",
      "Done greedy for n=118 with strategy pure_random, len(result)=174\n",
      "Done greedy for n=146 with strategy pure_random, len(result)=216\n",
      "Done greedy for n=158 with strategy pure_random, len(result)=234\n",
      "Done greedy for n=134 with strategy pure_random, len(result)=200\n",
      "Done greedy for n=178 with strategy pure_random, len(result)=264\n",
      "Done greedy for n=166 with strategy pure_random, len(result)=246\n",
      "Done greedy for n=194 with strategy pure_random, len(result)=288\n",
      "Done greedy for n=202 with strategy pure_random, len(result)=300\n",
      "Done greedy for n=206 with strategy pure_random, len(result)=306\n",
      "Done greedy for n=214 with strategy pure_random, len(result)=319\n",
      "Done greedy for n=218 with strategy pure_random, len(result)=325\n",
      "Done greedy for n=226 with strategy pure_random, len(result)=336\n",
      "Done greedy for n=254 with strategy pure_random, len(result)=379\n",
      "Done greedy for n=274 with strategy pure_random, len(result)=409\n",
      "Done greedy for n=298 with strategy pure_random, len(result)=444\n",
      "Done greedy for n=302 with strategy pure_random, len(result)=450\n",
      "Done greedy for n=262 with strategy pure_random, len(result)=390\n",
      "Done greedy for n=314 with strategy pure_random, len(result)=469\n",
      "Done greedy for n=278 with strategy pure_random, len(result)=414\n",
      "Done greedy for n=326 with strategy pure_random, len(result)=486\n",
      "Done greedy for n=346 with strategy pure_random, len(result)=516\n",
      "Done greedy for n=334 with strategy pure_random, len(result)=498\n",
      "Done greedy for n=358 with strategy pure_random, len(result)=534\n",
      "Done greedy for n=362 with strategy pure_random, len(result)=541\n",
      "Done greedy for n=382 with strategy pure_random, len(result)=570\n",
      "Done greedy for n=386 with strategy pure_random, len(result)=576\n",
      "Done greedy for n=394 with strategy pure_random, len(result)=588\n",
      "Done greedy for n=398 with strategy pure_random, len(result)=594\n",
      "Done greedy for n=422 with strategy pure_random, len(result)=630\n",
      "Done greedy for n=446 with strategy pure_random, len(result)=666\n",
      "Done greedy for n=454 with strategy pure_random, len(result)=680\n"
     ]
    }
   ],
   "source": [
    "primes = primes_first_n(no_primes)\n",
    "primes.pop()\n",
    "\n",
    "inputs = [(n*2, 'pure_random') for n in primes]\n",
    "\n",
    "results_pure_random = run_greedy_for_strategy(inputs)\n",
    "\n",
    "results_pure_random = [res for (_, res) in results_pure_random]\n",
    "\n",
    "results_pure_random_raw = [res[2] for res in results_pure_random]\n",
    "\n",
    "results_pure_random = [res[:2] for res in results_pure_random]\n",
    "\n"
   ]
  },
  {
   "cell_type": "code",
   "execution_count": 21,
   "id": "75b29381",
   "metadata": {
    "vscode": {
     "languageId": "sage"
    }
   },
   "outputs": [],
   "source": [
    "results = {\n",
    "    'pure_random_count': results_pure_random,\n",
    "}"
   ]
  },
  {
   "cell_type": "code",
   "execution_count": 22,
   "id": "fc71d0fc",
   "metadata": {
    "vscode": {
     "languageId": "sage"
    }
   },
   "outputs": [
    {
     "name": "stdout",
     "output_type": "stream",
     "text": [
      "{'pure_random_count': [(4, 6), (6, 7), (10, 13), (14, 18), (22, 30), (26, 36), (34, 49), (38, 55), (46, 66), (58, 84), (62, 90), (74, 108), (82, 120), (86, 126), (94, 138), (122, 180), (106, 157), (142, 210), (118, 174), (146, 216), (158, 234), (134, 200), (178, 264), (166, 246), (194, 288), (202, 300), (206, 306), (214, 319), (218, 325), (226, 336), (254, 379), (274, 409), (298, 444), (302, 450), (262, 390), (314, 469), (278, 414), (326, 486), (346, 516), (334, 498), (358, 534), (362, 541), (382, 570), (386, 576), (394, 588), (398, 594), (422, 630), (446, 666), (454, 680)]}\n"
     ]
    }
   ],
   "source": [
    "print(results)"
   ]
  },
  {
   "cell_type": "markdown",
   "id": "cea9c259",
   "metadata": {},
   "source": [
    "## Analysis"
   ]
  },
  {
   "cell_type": "code",
   "execution_count": 23,
   "id": "084e4e97",
   "metadata": {
    "vscode": {
     "languageId": "sage"
    }
   },
   "outputs": [],
   "source": [
    "# results = {'pure_random_count': [(30, 44), (31, 45), (32, 47), (33, 48), (34, 48), (35, 52), (36, 52), (37, 55), (38, 57), (40, 58), (41, 58), (39, 57), (44, 63), (45, 65), (48, 70), (42, 59), (43, 63), (51, 73), (46, 68), (47, 71), (53, 79), (49, 70), (50, 71), (54, 81), (55, 82), (56, 79), (52, 74), (58, 84), (57, 85), (59, 84), (60, 89), (62, 87), (64, 95), (61, 91), (66, 96), (65, 94), (69, 102), (68, 98), (63, 95), (71, 104), (70, 106), (67, 98), (73, 104), (72, 105), (74, 107), (76, 111), (75, 107), (77, 115), (79, 115), (78, 114), (81, 120), (84, 121), (82, 120), (85, 123), (87, 129), (80, 114), (83, 120), (86, 123), (88, 131), (90, 131), (89, 130), (93, 134), (92, 134), (91, 130), (94, 138), (95, 139), (96, 136), (97, 138), (99, 144), (98, 144), (104, 151), (105, 152), (103, 146), (106, 156), (100, 144), (107, 149), (101, 149), (102, 151), (109, 157), (110, 160), (111, 159), (113, 160), (114, 162), (108, 156), (112, 162), (115, 168), (116, 166), (118, 166), (117, 167), (120, 172), (123, 181), (124, 182), (125, 180), (119, 168), (126, 184), (128, 186), (121, 178), (122, 179), (129, 188), (130, 189), (131, 190), (132, 191), (134, 196), (127, 189), (133, 190), (135, 194), (136, 198), (137, 199), (139, 198), (140, 205), (142, 203), (143, 209), (138, 200), (144, 212), (145, 211), (147, 215), (141, 204), (150, 215), (149, 212), (153, 216), (152, 221), (151, 220), (146, 214), (154, 221), (148, 211), (155, 223), (156, 222), (157, 229), (159, 228), (161, 238), (162, 236), (163, 235), (164, 237), (165, 244), (166, 237), (158, 230), (160, 232), (168, 240), (170, 244), (171, 245), (172, 248), (167, 239), (173, 248), (174, 249), (169, 239), (175, 248), (176, 248), (177, 247), (178, 256), (179, 257), (180, 256), (183, 257), (184, 264), (185, 266), (182, 261), (187, 262), (190, 265), (181, 258), (188, 269), (191, 270), (192, 273), (193, 276), (186, 275), (194, 275), (189, 275), (195, 276), (196, 276), (197, 282), (198, 278), (199, 279), (200, 286)]}\n"
   ]
  },
  {
   "cell_type": "code",
   "execution_count": 24,
   "id": "4fb8d838",
   "metadata": {
    "vscode": {
     "languageId": "sage"
    }
   },
   "outputs": [],
   "source": [
    "import matplotlib.pyplot as plt"
   ]
  },
  {
   "cell_type": "code",
   "execution_count": 25,
   "id": "efd469af",
   "metadata": {
    "vscode": {
     "languageId": "sage"
    }
   },
   "outputs": [
    {
     "data": {
      "image/png": "[encoded data removed]",
      "text/plain": [
       "<Figure size 800x500 with 1 Axes>"
      ]
     },
     "metadata": {},
     "output_type": "display_data"
    }
   ],
   "source": [
    "for strategy in results:\n",
    "    results[strategy].sort(key=lambda x: x[0])\n",
    "\n",
    "plt.figure(figsize=(8, 5))\n",
    "for strategy, result_list in results.items():\n",
    "    if result_list:\n",
    "        ns, sizes = zip(*result_list)\n",
    "        plt.plot(ns, sizes, marker='o', label=strategy, linestyle='-')\n",
    "\n",
    "plt.title(\"Size of No-3-in-Line Set vs Grid Size (n)\")\n",
    "plt.xlabel(\"Grid size n\")\n",
    "plt.ylabel(\"Set size\")\n",
    "plt.grid(True)\n",
    "plt.legend()\n",
    "plt.show()"
   ]
  },
  {
   "cell_type": "code",
   "execution_count": 26,
   "id": "4bc9ccc0",
   "metadata": {
    "vscode": {
     "languageId": "sage"
    }
   },
   "outputs": [
    {
     "name": "stdout",
     "output_type": "stream",
     "text": [
      "pure_random_count: slope ≈ 1.4994\n",
      "{'pure_random_count': [(4, 6), (6, 7), (10, 13), (14, 18), (22, 30), (26, 36), (34, 49), (38, 55), (46, 66), (58, 84), (62, 90), (74, 108), (82, 120), (86, 126), (94, 138), (106, 157), (118, 174), (122, 180), (134, 200), (142, 210), (146, 216), (158, 234), (166, 246), (178, 264), (194, 288), (202, 300), (206, 306), (214, 319), (218, 325), (226, 336), (254, 379), (262, 390), (274, 409), (278, 414), (298, 444), (302, 450), (314, 469), (326, 486), (334, 498), (346, 516), (358, 534), (362, 541), (382, 570), (386, 576), (394, 588), (398, 594), (422, 630), (446, 666), (454, 680)]}\n"
     ]
    }
   ],
   "source": [
    "for method, points in results.items():\n",
    "    x_vals = [p[0] for p in points]\n",
    "    y_vals = [p[1] for p in points]\n",
    "    data = list(zip(x_vals, y_vals))\n",
    "    \n",
    "    var('a b t')\n",
    "    model(t) = a * t + b\n",
    "    fit = find_fit(data, model, solution_dict=True)\n",
    "    slope = fit[a]\n",
    "    print(f\"{method}: slope ≈ {slope:.4f}\")\n",
    "\n",
    "print(results)"
   ]
  },
  {
   "cell_type": "code",
   "execution_count": 27,
   "id": "dc8f75f0",
   "metadata": {
    "vscode": {
     "languageId": "sage"
    }
   },
   "outputs": [],
   "source": [
    "data = results['pure_random_count']"
   ]
  },
  {
   "cell_type": "code",
   "execution_count": 28,
   "id": "bbb66156",
   "metadata": {
    "vscode": {
     "languageId": "sage"
    }
   },
   "outputs": [
    {
     "data": {
      "image/png": "[encoded data removed]",
      "text/plain": [
       "<Figure size 1000x600 with 1 Axes>"
      ]
     },
     "metadata": {},
     "output_type": "display_data"
    }
   ],
   "source": [
    "slopes = [length / n * 1.0 for n, length in data]\n",
    "\n",
    "# Plot frequency distribution\n",
    "plt.figure(figsize=(10, 6))\n",
    "plt.hist(slopes, bins=15, edgecolor='black')\n",
    "plt.title('Frequency Distribution of Slopes (len / n)')\n",
    "plt.xlabel('Slope')\n",
    "plt.ylabel('Frequency')\n",
    "plt.grid(True)\n",
    "plt.tight_layout()\n",
    "plt.show()"
   ]
  },
  {
   "cell_type": "code",
   "execution_count": 29,
   "id": "b9f5d1e0",
   "metadata": {
    "vscode": {
     "languageId": "sage"
    }
   },
   "outputs": [
    {
     "data": {
      "image/png": "[encoded data removed]",
      "text/plain": [
       "<Figure size 1000x200 with 1 Axes>"
      ]
     },
     "metadata": {},
     "output_type": "display_data"
    }
   ],
   "source": [
    "# Generate horizontal box plot of the slopes\n",
    "plt.figure(figsize=(10, 2))\n",
    "plt.boxplot(slopes, vert=False, patch_artist=True, boxprops=dict(facecolor='lightblue'))\n",
    "plt.title('Horizontal Box Plot of Slopes (len / n)')\n",
    "plt.xlabel('Slope')\n",
    "plt.grid(True)\n",
    "plt.tight_layout()\n",
    "plt.show()\n"
   ]
  },
  {
   "cell_type": "code",
   "execution_count": 30,
   "id": "a11d3f7b",
   "metadata": {
    "vscode": {
     "languageId": "sage"
    }
   },
   "outputs": [
    {
     "data": {
      "text/plain": [
       "1.46285628936585"
      ]
     },
     "execution_count": 30,
     "metadata": {},
     "output_type": "execute_result"
    }
   ],
   "source": [
    "mean_slope = sum(slopes) / len(slopes)\n",
    "mean_slope"
   ]
  },
  {
   "cell_type": "code",
   "execution_count": null,
   "id": "e5061b3e",
   "metadata": {
    "vscode": {
     "languageId": "sage"
    }
   },
   "outputs": [],
   "source": []
  }
 ],
 "metadata": {
  "kernelspec": {
   "display_name": "SageMath 10.6",
   "language": "sage",
   "name": "sagemath"
  },
  "language_info": {
   "codemirror_mode": {
    "name": "ipython",
    "version": 3
   },
   "file_extension": ".py",
   "mimetype": "text/x-python",
   "name": "python",
   "nbconvert_exporter": "python",
   "pygments_lexer": "ipython3",
   "version": "3.11.12"
  }
 },
 "nbformat": 4,
 "nbformat_minor": 5
}
